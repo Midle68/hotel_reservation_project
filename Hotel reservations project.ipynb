{
 "cells": [
  {
   "cell_type": "markdown",
   "metadata": {},
   "source": [
    "<a name='introduction'></a>\n",
    "# Проект \"Прогнозирование отмены брони в отеле\"\n",
    "\n",
    "**Введение**\n",
    "\n",
    "Заказчик - отель. Проблема - в отеле некоторые постояльцы отменяют бронь номеров, что вытекает в расходы компании. Задача - необходимо разработать систему прогнозирования отмены брони номера постояльца по имеющимся признакам. Бюджет разработки системы прогнозирования - 400 000 рублей. Важно, чтобы с внедрением системы прогнозирования (учитывая ее бюджет), отель увеличил свою прибыль.\n",
    "\n",
    "<br>**План работы**:\n",
    "- [1. Импорт библиотек и файлов](#import)\n",
    "- [2. Предобработка и исследовательский анализ данных](#data_preprocessing)\n",
    "- [3. Формулировка ML-задачи на основе бизнес-задачи](#ml_task)\n",
    "- [4. Разработка модели ML](#ml_development)\n",
    "- [5. Описание портера \"ненадежного\" клиента](#unreliable_client_info)\n",
    "- [6. Общий вывод](#conclusion)"
   ]
  },
  {
   "cell_type": "markdown",
   "metadata": {},
   "source": [
    "<a name='open_file'></a>\n",
    "## 1. Импорт библиотек и файлов"
   ]
  },
  {
   "cell_type": "code",
   "execution_count": 1,
   "metadata": {
    "scrolled": true
   },
   "outputs": [
    {
     "name": "stdout",
     "output_type": "stream",
     "text": [
      "Requirement already satisfied: phik in /Users/midle/opt/anaconda3/lib/python3.8/site-packages (0.12.3)\n",
      "Requirement already satisfied: matplotlib>=2.2.3 in /Users/midle/opt/anaconda3/lib/python3.8/site-packages (from phik) (3.3.4)\n",
      "Requirement already satisfied: scipy>=1.5.2 in /Users/midle/opt/anaconda3/lib/python3.8/site-packages (from phik) (1.6.2)\n",
      "Requirement already satisfied: numpy>=1.18.0 in /Users/midle/opt/anaconda3/lib/python3.8/site-packages (from phik) (1.20.1)\n",
      "Requirement already satisfied: joblib>=0.14.1 in /Users/midle/opt/anaconda3/lib/python3.8/site-packages (from phik) (1.0.1)\n",
      "Requirement already satisfied: pandas>=0.25.1 in /Users/midle/opt/anaconda3/lib/python3.8/site-packages (from phik) (1.2.4)\n",
      "Requirement already satisfied: python-dateutil>=2.1 in /Users/midle/opt/anaconda3/lib/python3.8/site-packages (from matplotlib>=2.2.3->phik) (2.8.1)\n",
      "Requirement already satisfied: kiwisolver>=1.0.1 in /Users/midle/opt/anaconda3/lib/python3.8/site-packages (from matplotlib>=2.2.3->phik) (1.3.1)\n",
      "Requirement already satisfied: cycler>=0.10 in /Users/midle/opt/anaconda3/lib/python3.8/site-packages (from matplotlib>=2.2.3->phik) (0.10.0)\n",
      "Requirement already satisfied: pillow>=6.2.0 in /Users/midle/opt/anaconda3/lib/python3.8/site-packages (from matplotlib>=2.2.3->phik) (8.2.0)\n",
      "Requirement already satisfied: pyparsing!=2.0.4,!=2.1.2,!=2.1.6,>=2.0.3 in /Users/midle/opt/anaconda3/lib/python3.8/site-packages (from matplotlib>=2.2.3->phik) (2.4.7)\n",
      "Requirement already satisfied: six in /Users/midle/opt/anaconda3/lib/python3.8/site-packages (from cycler>=0.10->matplotlib>=2.2.3->phik) (1.15.0)\n",
      "Requirement already satisfied: pytz>=2017.3 in /Users/midle/opt/anaconda3/lib/python3.8/site-packages (from pandas>=0.25.1->phik) (2021.1)\n"
     ]
    }
   ],
   "source": [
    "!pip install phik"
   ]
  },
  {
   "cell_type": "code",
   "execution_count": 2,
   "metadata": {},
   "outputs": [],
   "source": [
    "import datetime as dt\n",
    "import matplotlib as mpl\n",
    "import matplotlib.pyplot as plt\n",
    "import numpy as np\n",
    "import pandas as pd\n",
    "import seaborn as sns\n",
    "\n",
    "import phik\n",
    "from phik.report import plot_correlation_matrix\n",
    "from phik import report\n",
    "\n",
    "\n",
    "from sklearn.ensemble import RandomForestClassifier\n",
    "from sklearn.linear_model import LogisticRegression\n",
    "from sklearn.metrics import f1_score, recall_score, roc_auc_score\n",
    "from sklearn.model_selection import cross_val_score, cross_validate, GridSearchCV, train_test_split\n",
    "from sklearn.preprocessing import OrdinalEncoder, StandardScaler\n",
    "from sklearn.tree import DecisionTreeClassifier\n",
    "from sklearn.utils import shuffle"
   ]
  },
  {
   "cell_type": "code",
   "execution_count": 3,
   "metadata": {},
   "outputs": [],
   "source": [
    "hotel_train = pd.read_csv(\"hotel_train.csv\")\n",
    "hotel_test = pd.read_csv(\"hotel_test.csv\")"
   ]
  },
  {
   "cell_type": "markdown",
   "metadata": {},
   "source": [
    "<a name='data_preprocessing'></a>\n",
    "## 2. Предобработка и исследовательский анализ данных\n",
    "[Вернуться во Введение](#introduction)"
   ]
  },
  {
   "cell_type": "markdown",
   "metadata": {},
   "source": [
    "Осуществим первоначально предобработку и исследовательский анализ данных по тренировочной базе данных."
   ]
  },
  {
   "cell_type": "code",
   "execution_count": 4,
   "metadata": {},
   "outputs": [
    {
     "name": "stdout",
     "output_type": "stream",
     "text": [
      "hotel_train:\n"
     ]
    },
    {
     "data": {
      "text/plain": [
       "id                                0\n",
       "is_canceled                       0\n",
       "lead_time                         0\n",
       "arrival_date_year                 0\n",
       "arrival_date_month                0\n",
       "arrival_date_week_number          0\n",
       "arrival_date_day_of_month         0\n",
       "stays_in_weekend_nights           0\n",
       "stays_in_week_nights              0\n",
       "adults                            0\n",
       "children                          0\n",
       "babies                            0\n",
       "meal                              0\n",
       "country                           0\n",
       "distribution_channel              0\n",
       "is_repeated_guest                 0\n",
       "previous_cancellations            0\n",
       "previous_bookings_not_canceled    0\n",
       "reserved_room_type                0\n",
       "booking_changes                   0\n",
       "days_in_waiting_list              0\n",
       "customer_type                     0\n",
       "required_car_parking_spaces       0\n",
       "total_of_special_requests         0\n",
       "total_nights                      0\n",
       "dtype: int64"
      ]
     },
     "metadata": {},
     "output_type": "display_data"
    },
    {
     "name": "stdout",
     "output_type": "stream",
     "text": [
      "\n",
      "hotel_test:\n"
     ]
    },
    {
     "data": {
      "text/plain": [
       "id                                0\n",
       "is_canceled                       0\n",
       "lead_time                         0\n",
       "arrival_date_year                 0\n",
       "arrival_date_month                0\n",
       "arrival_date_week_number          0\n",
       "arrival_date_day_of_month         0\n",
       "stays_in_weekend_nights           0\n",
       "stays_in_week_nights              0\n",
       "adults                            0\n",
       "children                          0\n",
       "babies                            0\n",
       "meal                              0\n",
       "country                           0\n",
       "distribution_channel              0\n",
       "is_repeated_guest                 0\n",
       "previous_cancellations            0\n",
       "previous_bookings_not_canceled    0\n",
       "reserved_room_type                0\n",
       "booking_changes                   0\n",
       "days_in_waiting_list              0\n",
       "customer_type                     0\n",
       "required_car_parking_spaces       0\n",
       "total_of_special_requests         0\n",
       "total_nights                      0\n",
       "dtype: int64"
      ]
     },
     "metadata": {},
     "output_type": "display_data"
    }
   ],
   "source": [
    "# Посмотрим таблицу на наличие отсутствующих значений\n",
    "print(\"hotel_train:\")\n",
    "display(hotel_train.isna().sum())\n",
    "print(\"\\nhotel_test:\")\n",
    "display(hotel_test.isna().sum())"
   ]
  },
  {
   "cell_type": "code",
   "execution_count": 5,
   "metadata": {},
   "outputs": [
    {
     "data": {
      "text/plain": [
       "0        BB       \n",
       "1        BB       \n",
       "2        BB       \n",
       "3        FB       \n",
       "4        BB       \n",
       "           ...    \n",
       "65224    BB       \n",
       "65225    HB       \n",
       "65226    BB       \n",
       "65227    SC       \n",
       "65228    BB       \n",
       "Name: meal, Length: 65229, dtype: object"
      ]
     },
     "execution_count": 5,
     "metadata": {},
     "output_type": "execute_result"
    }
   ],
   "source": [
    "hotel_train['meal']"
   ]
  },
  {
   "cell_type": "markdown",
   "metadata": {},
   "source": [
    "Удалим столбец 'id', поскольку количество уникальных значений совпадает с общим числом объектов и рассмотрим полные дубликаты в каждом из датасетов."
   ]
  },
  {
   "cell_type": "code",
   "execution_count": 6,
   "metadata": {
    "scrolled": false
   },
   "outputs": [
    {
     "name": "stdout",
     "output_type": "stream",
     "text": [
      "Кол-во уникальных значений по 'id':\n",
      "\tTrain: 65229\n",
      "\tTest: 32412 \n",
      "\n"
     ]
    }
   ],
   "source": [
    "print(\"Кол-во уникальных значений по 'id':\")\n",
    "print(\"\\tTrain:\", len(hotel_train['id'].unique()))\n",
    "print(\"\\tTest:\", len(hotel_test['id'].unique()), \"\\n\")\n",
    "\n",
    "hotel_train = hotel_train.drop('id', axis=1)\n",
    "hotel_test = hotel_test.drop('id', axis=1)"
   ]
  },
  {
   "cell_type": "markdown",
   "metadata": {},
   "source": [
    "Заменим значения в столбце 'arrival_date_month' на числовое обозначение месяца с помощью datetime"
   ]
  },
  {
   "cell_type": "code",
   "execution_count": 7,
   "metadata": {},
   "outputs": [],
   "source": [
    "def get_month_num(data):\n",
    "    for index, row in data.iterrows():\n",
    "        month_num = dt.datetime.strptime(row['arrival_date_month'].strip(), '%B').month\n",
    "        data.loc[index, 'arrival_date_month'] = month_num\n",
    "\n",
    "get_month_num(hotel_train)\n",
    "get_month_num(hotel_test)"
   ]
  },
  {
   "cell_type": "markdown",
   "metadata": {},
   "source": [
    "Уберем лишние пробелы после значений качественных признаков, таких как \"meal\" и \"reserved_room_type\""
   ]
  },
  {
   "cell_type": "code",
   "execution_count": 8,
   "metadata": {
    "scrolled": true
   },
   "outputs": [
    {
     "name": "stdout",
     "output_type": "stream",
     "text": [
      "<class 'pandas.core.frame.DataFrame'>\n",
      "RangeIndex: 65229 entries, 0 to 65228\n",
      "Data columns (total 24 columns):\n",
      " #   Column                          Non-Null Count  Dtype  \n",
      "---  ------                          --------------  -----  \n",
      " 0   is_canceled                     65229 non-null  int64  \n",
      " 1   lead_time                       65229 non-null  float64\n",
      " 2   arrival_date_year               65229 non-null  int64  \n",
      " 3   arrival_date_month              65229 non-null  object \n",
      " 4   arrival_date_week_number        65229 non-null  int64  \n",
      " 5   arrival_date_day_of_month       65229 non-null  int64  \n",
      " 6   stays_in_weekend_nights         65229 non-null  int64  \n",
      " 7   stays_in_week_nights            65229 non-null  int64  \n",
      " 8   adults                          65229 non-null  float64\n",
      " 9   children                        65229 non-null  float64\n",
      " 10  babies                          65229 non-null  float64\n",
      " 11  meal                            65229 non-null  object \n",
      " 12  country                         65229 non-null  object \n",
      " 13  distribution_channel            65229 non-null  object \n",
      " 14  is_repeated_guest               65229 non-null  int64  \n",
      " 15  previous_cancellations          65229 non-null  int64  \n",
      " 16  previous_bookings_not_canceled  65229 non-null  int64  \n",
      " 17  reserved_room_type              65229 non-null  object \n",
      " 18  booking_changes                 65229 non-null  int64  \n",
      " 19  days_in_waiting_list            65229 non-null  int64  \n",
      " 20  customer_type                   65229 non-null  object \n",
      " 21  required_car_parking_spaces     65229 non-null  int64  \n",
      " 22  total_of_special_requests       65229 non-null  int64  \n",
      " 23  total_nights                    65229 non-null  int64  \n",
      "dtypes: float64(4), int64(14), object(6)\n",
      "memory usage: 11.9+ MB\n"
     ]
    },
    {
     "data": {
      "text/plain": [
       "None"
      ]
     },
     "metadata": {},
     "output_type": "display_data"
    },
    {
     "name": "stdout",
     "output_type": "stream",
     "text": [
      "<class 'pandas.core.frame.DataFrame'>\n",
      "RangeIndex: 32412 entries, 0 to 32411\n",
      "Data columns (total 24 columns):\n",
      " #   Column                          Non-Null Count  Dtype  \n",
      "---  ------                          --------------  -----  \n",
      " 0   is_canceled                     32412 non-null  int64  \n",
      " 1   lead_time                       32412 non-null  float64\n",
      " 2   arrival_date_year               32412 non-null  int64  \n",
      " 3   arrival_date_month              32412 non-null  object \n",
      " 4   arrival_date_week_number        32412 non-null  int64  \n",
      " 5   arrival_date_day_of_month       32412 non-null  int64  \n",
      " 6   stays_in_weekend_nights         32412 non-null  int64  \n",
      " 7   stays_in_week_nights            32412 non-null  int64  \n",
      " 8   adults                          32412 non-null  float64\n",
      " 9   children                        32412 non-null  float64\n",
      " 10  babies                          32412 non-null  float64\n",
      " 11  meal                            32412 non-null  object \n",
      " 12  country                         32412 non-null  object \n",
      " 13  distribution_channel            32412 non-null  object \n",
      " 14  is_repeated_guest               32412 non-null  int64  \n",
      " 15  previous_cancellations          32412 non-null  int64  \n",
      " 16  previous_bookings_not_canceled  32412 non-null  int64  \n",
      " 17  reserved_room_type              32412 non-null  object \n",
      " 18  booking_changes                 32412 non-null  int64  \n",
      " 19  days_in_waiting_list            32412 non-null  int64  \n",
      " 20  customer_type                   32412 non-null  object \n",
      " 21  required_car_parking_spaces     32412 non-null  int64  \n",
      " 22  total_of_special_requests       32412 non-null  int64  \n",
      " 23  total_nights                    32412 non-null  int64  \n",
      "dtypes: float64(4), int64(14), object(6)\n",
      "memory usage: 5.9+ MB\n"
     ]
    },
    {
     "data": {
      "text/plain": [
       "None"
      ]
     },
     "metadata": {},
     "output_type": "display_data"
    }
   ],
   "source": [
    "def strip_cols(data):\n",
    "    data['meal'] = data['meal'].str.strip()\n",
    "    data['reserved_room_type'] = data['reserved_room_type'].str.strip()\n",
    "\n",
    "strip_cols(hotel_train)\n",
    "strip_cols(hotel_test)\n",
    "\n",
    "display(hotel_train.info())\n",
    "display(hotel_test.info())"
   ]
  },
  {
   "cell_type": "markdown",
   "metadata": {},
   "source": [
    "Рассмотрим основные показатели количественных переменных по датасетам hotel_train и hotel_test для выявления возможных аномальных значений с помощью функции describe()"
   ]
  },
  {
   "cell_type": "code",
   "execution_count": 9,
   "metadata": {},
   "outputs": [
    {
     "data": {
      "text/html": [
       "<div>\n",
       "<style scoped>\n",
       "    .dataframe tbody tr th:only-of-type {\n",
       "        vertical-align: middle;\n",
       "    }\n",
       "\n",
       "    .dataframe tbody tr th {\n",
       "        vertical-align: top;\n",
       "    }\n",
       "\n",
       "    .dataframe thead th {\n",
       "        text-align: right;\n",
       "    }\n",
       "</style>\n",
       "<table border=\"1\" class=\"dataframe\">\n",
       "  <thead>\n",
       "    <tr style=\"text-align: right;\">\n",
       "      <th></th>\n",
       "      <th>is_canceled</th>\n",
       "      <th>lead_time</th>\n",
       "      <th>arrival_date_year</th>\n",
       "      <th>arrival_date_week_number</th>\n",
       "      <th>arrival_date_day_of_month</th>\n",
       "      <th>stays_in_weekend_nights</th>\n",
       "      <th>stays_in_week_nights</th>\n",
       "      <th>adults</th>\n",
       "      <th>children</th>\n",
       "      <th>babies</th>\n",
       "      <th>is_repeated_guest</th>\n",
       "      <th>previous_cancellations</th>\n",
       "      <th>previous_bookings_not_canceled</th>\n",
       "      <th>booking_changes</th>\n",
       "      <th>days_in_waiting_list</th>\n",
       "      <th>required_car_parking_spaces</th>\n",
       "      <th>total_of_special_requests</th>\n",
       "      <th>total_nights</th>\n",
       "    </tr>\n",
       "  </thead>\n",
       "  <tbody>\n",
       "    <tr>\n",
       "      <th>count</th>\n",
       "      <td>65229.000000</td>\n",
       "      <td>65229.000000</td>\n",
       "      <td>65229.000000</td>\n",
       "      <td>65229.000000</td>\n",
       "      <td>65229.000000</td>\n",
       "      <td>65229.000000</td>\n",
       "      <td>65229.000000</td>\n",
       "      <td>65229.000000</td>\n",
       "      <td>65229.000000</td>\n",
       "      <td>65229.000000</td>\n",
       "      <td>65229.000000</td>\n",
       "      <td>65229.000000</td>\n",
       "      <td>65229.000000</td>\n",
       "      <td>65229.000000</td>\n",
       "      <td>65229.000000</td>\n",
       "      <td>65229.000000</td>\n",
       "      <td>65229.000000</td>\n",
       "      <td>65229.000000</td>\n",
       "    </tr>\n",
       "    <tr>\n",
       "      <th>mean</th>\n",
       "      <td>0.368609</td>\n",
       "      <td>96.337917</td>\n",
       "      <td>2015.719021</td>\n",
       "      <td>31.339772</td>\n",
       "      <td>15.847813</td>\n",
       "      <td>0.825185</td>\n",
       "      <td>2.224793</td>\n",
       "      <td>1.836576</td>\n",
       "      <td>0.074890</td>\n",
       "      <td>0.007236</td>\n",
       "      <td>0.027151</td>\n",
       "      <td>0.128915</td>\n",
       "      <td>0.107713</td>\n",
       "      <td>0.194269</td>\n",
       "      <td>3.334422</td>\n",
       "      <td>0.056647</td>\n",
       "      <td>0.512763</td>\n",
       "      <td>3.049978</td>\n",
       "    </tr>\n",
       "    <tr>\n",
       "      <th>std</th>\n",
       "      <td>0.482431</td>\n",
       "      <td>96.127545</td>\n",
       "      <td>0.449481</td>\n",
       "      <td>13.464024</td>\n",
       "      <td>8.748182</td>\n",
       "      <td>0.853477</td>\n",
       "      <td>1.354992</td>\n",
       "      <td>0.480245</td>\n",
       "      <td>0.334243</td>\n",
       "      <td>0.098790</td>\n",
       "      <td>0.162523</td>\n",
       "      <td>0.965326</td>\n",
       "      <td>1.326638</td>\n",
       "      <td>0.593838</td>\n",
       "      <td>18.239606</td>\n",
       "      <td>0.232094</td>\n",
       "      <td>0.752590</td>\n",
       "      <td>1.738108</td>\n",
       "    </tr>\n",
       "    <tr>\n",
       "      <th>min</th>\n",
       "      <td>0.000000</td>\n",
       "      <td>0.000000</td>\n",
       "      <td>2015.000000</td>\n",
       "      <td>1.000000</td>\n",
       "      <td>1.000000</td>\n",
       "      <td>0.000000</td>\n",
       "      <td>0.000000</td>\n",
       "      <td>0.000000</td>\n",
       "      <td>0.000000</td>\n",
       "      <td>0.000000</td>\n",
       "      <td>0.000000</td>\n",
       "      <td>0.000000</td>\n",
       "      <td>0.000000</td>\n",
       "      <td>0.000000</td>\n",
       "      <td>0.000000</td>\n",
       "      <td>0.000000</td>\n",
       "      <td>0.000000</td>\n",
       "      <td>1.000000</td>\n",
       "    </tr>\n",
       "    <tr>\n",
       "      <th>25%</th>\n",
       "      <td>0.000000</td>\n",
       "      <td>17.000000</td>\n",
       "      <td>2015.000000</td>\n",
       "      <td>21.000000</td>\n",
       "      <td>8.000000</td>\n",
       "      <td>0.000000</td>\n",
       "      <td>1.000000</td>\n",
       "      <td>2.000000</td>\n",
       "      <td>0.000000</td>\n",
       "      <td>0.000000</td>\n",
       "      <td>0.000000</td>\n",
       "      <td>0.000000</td>\n",
       "      <td>0.000000</td>\n",
       "      <td>0.000000</td>\n",
       "      <td>0.000000</td>\n",
       "      <td>0.000000</td>\n",
       "      <td>0.000000</td>\n",
       "      <td>2.000000</td>\n",
       "    </tr>\n",
       "    <tr>\n",
       "      <th>50%</th>\n",
       "      <td>0.000000</td>\n",
       "      <td>64.000000</td>\n",
       "      <td>2016.000000</td>\n",
       "      <td>34.000000</td>\n",
       "      <td>16.000000</td>\n",
       "      <td>1.000000</td>\n",
       "      <td>2.000000</td>\n",
       "      <td>2.000000</td>\n",
       "      <td>0.000000</td>\n",
       "      <td>0.000000</td>\n",
       "      <td>0.000000</td>\n",
       "      <td>0.000000</td>\n",
       "      <td>0.000000</td>\n",
       "      <td>0.000000</td>\n",
       "      <td>0.000000</td>\n",
       "      <td>0.000000</td>\n",
       "      <td>0.000000</td>\n",
       "      <td>3.000000</td>\n",
       "    </tr>\n",
       "    <tr>\n",
       "      <th>75%</th>\n",
       "      <td>1.000000</td>\n",
       "      <td>151.000000</td>\n",
       "      <td>2016.000000</td>\n",
       "      <td>42.000000</td>\n",
       "      <td>23.000000</td>\n",
       "      <td>2.000000</td>\n",
       "      <td>3.000000</td>\n",
       "      <td>2.000000</td>\n",
       "      <td>0.000000</td>\n",
       "      <td>0.000000</td>\n",
       "      <td>0.000000</td>\n",
       "      <td>0.000000</td>\n",
       "      <td>0.000000</td>\n",
       "      <td>0.000000</td>\n",
       "      <td>0.000000</td>\n",
       "      <td>0.000000</td>\n",
       "      <td>1.000000</td>\n",
       "      <td>4.000000</td>\n",
       "    </tr>\n",
       "    <tr>\n",
       "      <th>max</th>\n",
       "      <td>1.000000</td>\n",
       "      <td>374.000000</td>\n",
       "      <td>2016.000000</td>\n",
       "      <td>53.000000</td>\n",
       "      <td>31.000000</td>\n",
       "      <td>4.000000</td>\n",
       "      <td>6.000000</td>\n",
       "      <td>4.000000</td>\n",
       "      <td>3.000000</td>\n",
       "      <td>10.000000</td>\n",
       "      <td>1.000000</td>\n",
       "      <td>26.000000</td>\n",
       "      <td>58.000000</td>\n",
       "      <td>17.000000</td>\n",
       "      <td>259.000000</td>\n",
       "      <td>3.000000</td>\n",
       "      <td>5.000000</td>\n",
       "      <td>10.000000</td>\n",
       "    </tr>\n",
       "  </tbody>\n",
       "</table>\n",
       "</div>"
      ],
      "text/plain": [
       "        is_canceled     lead_time  arrival_date_year  \\\n",
       "count  65229.000000  65229.000000       65229.000000   \n",
       "mean       0.368609     96.337917        2015.719021   \n",
       "std        0.482431     96.127545           0.449481   \n",
       "min        0.000000      0.000000        2015.000000   \n",
       "25%        0.000000     17.000000        2015.000000   \n",
       "50%        0.000000     64.000000        2016.000000   \n",
       "75%        1.000000    151.000000        2016.000000   \n",
       "max        1.000000    374.000000        2016.000000   \n",
       "\n",
       "       arrival_date_week_number  arrival_date_day_of_month  \\\n",
       "count              65229.000000               65229.000000   \n",
       "mean                  31.339772                  15.847813   \n",
       "std                   13.464024                   8.748182   \n",
       "min                    1.000000                   1.000000   \n",
       "25%                   21.000000                   8.000000   \n",
       "50%                   34.000000                  16.000000   \n",
       "75%                   42.000000                  23.000000   \n",
       "max                   53.000000                  31.000000   \n",
       "\n",
       "       stays_in_weekend_nights  stays_in_week_nights        adults  \\\n",
       "count             65229.000000          65229.000000  65229.000000   \n",
       "mean                  0.825185              2.224793      1.836576   \n",
       "std                   0.853477              1.354992      0.480245   \n",
       "min                   0.000000              0.000000      0.000000   \n",
       "25%                   0.000000              1.000000      2.000000   \n",
       "50%                   1.000000              2.000000      2.000000   \n",
       "75%                   2.000000              3.000000      2.000000   \n",
       "max                   4.000000              6.000000      4.000000   \n",
       "\n",
       "           children        babies  is_repeated_guest  previous_cancellations  \\\n",
       "count  65229.000000  65229.000000       65229.000000            65229.000000   \n",
       "mean       0.074890      0.007236           0.027151                0.128915   \n",
       "std        0.334243      0.098790           0.162523                0.965326   \n",
       "min        0.000000      0.000000           0.000000                0.000000   \n",
       "25%        0.000000      0.000000           0.000000                0.000000   \n",
       "50%        0.000000      0.000000           0.000000                0.000000   \n",
       "75%        0.000000      0.000000           0.000000                0.000000   \n",
       "max        3.000000     10.000000           1.000000               26.000000   \n",
       "\n",
       "       previous_bookings_not_canceled  booking_changes  days_in_waiting_list  \\\n",
       "count                    65229.000000     65229.000000          65229.000000   \n",
       "mean                         0.107713         0.194269              3.334422   \n",
       "std                          1.326638         0.593838             18.239606   \n",
       "min                          0.000000         0.000000              0.000000   \n",
       "25%                          0.000000         0.000000              0.000000   \n",
       "50%                          0.000000         0.000000              0.000000   \n",
       "75%                          0.000000         0.000000              0.000000   \n",
       "max                         58.000000        17.000000            259.000000   \n",
       "\n",
       "       required_car_parking_spaces  total_of_special_requests  total_nights  \n",
       "count                 65229.000000               65229.000000  65229.000000  \n",
       "mean                      0.056647                   0.512763      3.049978  \n",
       "std                       0.232094                   0.752590      1.738108  \n",
       "min                       0.000000                   0.000000      1.000000  \n",
       "25%                       0.000000                   0.000000      2.000000  \n",
       "50%                       0.000000                   0.000000      3.000000  \n",
       "75%                       0.000000                   1.000000      4.000000  \n",
       "max                       3.000000                   5.000000     10.000000  "
      ]
     },
     "metadata": {},
     "output_type": "display_data"
    },
    {
     "data": {
      "text/html": [
       "<div>\n",
       "<style scoped>\n",
       "    .dataframe tbody tr th:only-of-type {\n",
       "        vertical-align: middle;\n",
       "    }\n",
       "\n",
       "    .dataframe tbody tr th {\n",
       "        vertical-align: top;\n",
       "    }\n",
       "\n",
       "    .dataframe thead th {\n",
       "        text-align: right;\n",
       "    }\n",
       "</style>\n",
       "<table border=\"1\" class=\"dataframe\">\n",
       "  <thead>\n",
       "    <tr style=\"text-align: right;\">\n",
       "      <th></th>\n",
       "      <th>is_canceled</th>\n",
       "      <th>lead_time</th>\n",
       "      <th>arrival_date_year</th>\n",
       "      <th>arrival_date_week_number</th>\n",
       "      <th>arrival_date_day_of_month</th>\n",
       "      <th>stays_in_weekend_nights</th>\n",
       "      <th>stays_in_week_nights</th>\n",
       "      <th>adults</th>\n",
       "      <th>children</th>\n",
       "      <th>babies</th>\n",
       "      <th>is_repeated_guest</th>\n",
       "      <th>previous_cancellations</th>\n",
       "      <th>previous_bookings_not_canceled</th>\n",
       "      <th>booking_changes</th>\n",
       "      <th>days_in_waiting_list</th>\n",
       "      <th>required_car_parking_spaces</th>\n",
       "      <th>total_of_special_requests</th>\n",
       "      <th>total_nights</th>\n",
       "    </tr>\n",
       "  </thead>\n",
       "  <tbody>\n",
       "    <tr>\n",
       "      <th>count</th>\n",
       "      <td>32412.000000</td>\n",
       "      <td>32412.000000</td>\n",
       "      <td>32412.0</td>\n",
       "      <td>32412.000000</td>\n",
       "      <td>32412.000000</td>\n",
       "      <td>32412.000000</td>\n",
       "      <td>32412.00000</td>\n",
       "      <td>32412.000000</td>\n",
       "      <td>32412.000000</td>\n",
       "      <td>32412.000000</td>\n",
       "      <td>32412.000000</td>\n",
       "      <td>32412.000000</td>\n",
       "      <td>32412.000000</td>\n",
       "      <td>32412.000000</td>\n",
       "      <td>32412.000000</td>\n",
       "      <td>32412.000000</td>\n",
       "      <td>32412.000000</td>\n",
       "      <td>32412.000000</td>\n",
       "    </tr>\n",
       "    <tr>\n",
       "      <th>mean</th>\n",
       "      <td>0.388467</td>\n",
       "      <td>97.587869</td>\n",
       "      <td>2017.0</td>\n",
       "      <td>17.804054</td>\n",
       "      <td>15.656948</td>\n",
       "      <td>0.867888</td>\n",
       "      <td>2.34009</td>\n",
       "      <td>1.858602</td>\n",
       "      <td>0.083765</td>\n",
       "      <td>0.005523</td>\n",
       "      <td>0.031377</td>\n",
       "      <td>0.011601</td>\n",
       "      <td>0.171418</td>\n",
       "      <td>0.216741</td>\n",
       "      <td>0.262341</td>\n",
       "      <td>0.046248</td>\n",
       "      <td>0.657781</td>\n",
       "      <td>3.207979</td>\n",
       "    </tr>\n",
       "    <tr>\n",
       "      <th>std</th>\n",
       "      <td>0.487409</td>\n",
       "      <td>86.507146</td>\n",
       "      <td>0.0</td>\n",
       "      <td>9.177384</td>\n",
       "      <td>8.766429</td>\n",
       "      <td>0.853394</td>\n",
       "      <td>1.37517</td>\n",
       "      <td>0.489341</td>\n",
       "      <td>0.343470</td>\n",
       "      <td>0.075757</td>\n",
       "      <td>0.174338</td>\n",
       "      <td>0.180473</td>\n",
       "      <td>1.875170</td>\n",
       "      <td>0.640551</td>\n",
       "      <td>4.733027</td>\n",
       "      <td>0.219367</td>\n",
       "      <td>0.834341</td>\n",
       "      <td>1.738683</td>\n",
       "    </tr>\n",
       "    <tr>\n",
       "      <th>min</th>\n",
       "      <td>0.000000</td>\n",
       "      <td>0.000000</td>\n",
       "      <td>2017.0</td>\n",
       "      <td>1.000000</td>\n",
       "      <td>1.000000</td>\n",
       "      <td>0.000000</td>\n",
       "      <td>0.00000</td>\n",
       "      <td>0.000000</td>\n",
       "      <td>0.000000</td>\n",
       "      <td>0.000000</td>\n",
       "      <td>0.000000</td>\n",
       "      <td>0.000000</td>\n",
       "      <td>0.000000</td>\n",
       "      <td>0.000000</td>\n",
       "      <td>0.000000</td>\n",
       "      <td>0.000000</td>\n",
       "      <td>0.000000</td>\n",
       "      <td>1.000000</td>\n",
       "    </tr>\n",
       "    <tr>\n",
       "      <th>25%</th>\n",
       "      <td>0.000000</td>\n",
       "      <td>23.000000</td>\n",
       "      <td>2017.0</td>\n",
       "      <td>10.000000</td>\n",
       "      <td>8.000000</td>\n",
       "      <td>0.000000</td>\n",
       "      <td>1.00000</td>\n",
       "      <td>2.000000</td>\n",
       "      <td>0.000000</td>\n",
       "      <td>0.000000</td>\n",
       "      <td>0.000000</td>\n",
       "      <td>0.000000</td>\n",
       "      <td>0.000000</td>\n",
       "      <td>0.000000</td>\n",
       "      <td>0.000000</td>\n",
       "      <td>0.000000</td>\n",
       "      <td>0.000000</td>\n",
       "      <td>2.000000</td>\n",
       "    </tr>\n",
       "    <tr>\n",
       "      <th>50%</th>\n",
       "      <td>0.000000</td>\n",
       "      <td>76.000000</td>\n",
       "      <td>2017.0</td>\n",
       "      <td>18.000000</td>\n",
       "      <td>15.500000</td>\n",
       "      <td>1.000000</td>\n",
       "      <td>2.00000</td>\n",
       "      <td>2.000000</td>\n",
       "      <td>0.000000</td>\n",
       "      <td>0.000000</td>\n",
       "      <td>0.000000</td>\n",
       "      <td>0.000000</td>\n",
       "      <td>0.000000</td>\n",
       "      <td>0.000000</td>\n",
       "      <td>0.000000</td>\n",
       "      <td>0.000000</td>\n",
       "      <td>0.000000</td>\n",
       "      <td>3.000000</td>\n",
       "    </tr>\n",
       "    <tr>\n",
       "      <th>75%</th>\n",
       "      <td>1.000000</td>\n",
       "      <td>155.000000</td>\n",
       "      <td>2017.0</td>\n",
       "      <td>25.000000</td>\n",
       "      <td>23.000000</td>\n",
       "      <td>2.000000</td>\n",
       "      <td>3.00000</td>\n",
       "      <td>2.000000</td>\n",
       "      <td>0.000000</td>\n",
       "      <td>0.000000</td>\n",
       "      <td>0.000000</td>\n",
       "      <td>0.000000</td>\n",
       "      <td>0.000000</td>\n",
       "      <td>0.000000</td>\n",
       "      <td>0.000000</td>\n",
       "      <td>0.000000</td>\n",
       "      <td>1.000000</td>\n",
       "      <td>4.000000</td>\n",
       "    </tr>\n",
       "    <tr>\n",
       "      <th>max</th>\n",
       "      <td>1.000000</td>\n",
       "      <td>373.000000</td>\n",
       "      <td>2017.0</td>\n",
       "      <td>35.000000</td>\n",
       "      <td>31.000000</td>\n",
       "      <td>4.000000</td>\n",
       "      <td>6.00000</td>\n",
       "      <td>4.000000</td>\n",
       "      <td>3.000000</td>\n",
       "      <td>2.000000</td>\n",
       "      <td>1.000000</td>\n",
       "      <td>6.000000</td>\n",
       "      <td>72.000000</td>\n",
       "      <td>18.000000</td>\n",
       "      <td>223.000000</td>\n",
       "      <td>8.000000</td>\n",
       "      <td>5.000000</td>\n",
       "      <td>10.000000</td>\n",
       "    </tr>\n",
       "  </tbody>\n",
       "</table>\n",
       "</div>"
      ],
      "text/plain": [
       "        is_canceled     lead_time  arrival_date_year  \\\n",
       "count  32412.000000  32412.000000            32412.0   \n",
       "mean       0.388467     97.587869             2017.0   \n",
       "std        0.487409     86.507146                0.0   \n",
       "min        0.000000      0.000000             2017.0   \n",
       "25%        0.000000     23.000000             2017.0   \n",
       "50%        0.000000     76.000000             2017.0   \n",
       "75%        1.000000    155.000000             2017.0   \n",
       "max        1.000000    373.000000             2017.0   \n",
       "\n",
       "       arrival_date_week_number  arrival_date_day_of_month  \\\n",
       "count              32412.000000               32412.000000   \n",
       "mean                  17.804054                  15.656948   \n",
       "std                    9.177384                   8.766429   \n",
       "min                    1.000000                   1.000000   \n",
       "25%                   10.000000                   8.000000   \n",
       "50%                   18.000000                  15.500000   \n",
       "75%                   25.000000                  23.000000   \n",
       "max                   35.000000                  31.000000   \n",
       "\n",
       "       stays_in_weekend_nights  stays_in_week_nights        adults  \\\n",
       "count             32412.000000           32412.00000  32412.000000   \n",
       "mean                  0.867888               2.34009      1.858602   \n",
       "std                   0.853394               1.37517      0.489341   \n",
       "min                   0.000000               0.00000      0.000000   \n",
       "25%                   0.000000               1.00000      2.000000   \n",
       "50%                   1.000000               2.00000      2.000000   \n",
       "75%                   2.000000               3.00000      2.000000   \n",
       "max                   4.000000               6.00000      4.000000   \n",
       "\n",
       "           children        babies  is_repeated_guest  previous_cancellations  \\\n",
       "count  32412.000000  32412.000000       32412.000000            32412.000000   \n",
       "mean       0.083765      0.005523           0.031377                0.011601   \n",
       "std        0.343470      0.075757           0.174338                0.180473   \n",
       "min        0.000000      0.000000           0.000000                0.000000   \n",
       "25%        0.000000      0.000000           0.000000                0.000000   \n",
       "50%        0.000000      0.000000           0.000000                0.000000   \n",
       "75%        0.000000      0.000000           0.000000                0.000000   \n",
       "max        3.000000      2.000000           1.000000                6.000000   \n",
       "\n",
       "       previous_bookings_not_canceled  booking_changes  days_in_waiting_list  \\\n",
       "count                    32412.000000     32412.000000          32412.000000   \n",
       "mean                         0.171418         0.216741              0.262341   \n",
       "std                          1.875170         0.640551              4.733027   \n",
       "min                          0.000000         0.000000              0.000000   \n",
       "25%                          0.000000         0.000000              0.000000   \n",
       "50%                          0.000000         0.000000              0.000000   \n",
       "75%                          0.000000         0.000000              0.000000   \n",
       "max                         72.000000        18.000000            223.000000   \n",
       "\n",
       "       required_car_parking_spaces  total_of_special_requests  total_nights  \n",
       "count                 32412.000000               32412.000000  32412.000000  \n",
       "mean                      0.046248                   0.657781      3.207979  \n",
       "std                       0.219367                   0.834341      1.738683  \n",
       "min                       0.000000                   0.000000      1.000000  \n",
       "25%                       0.000000                   0.000000      2.000000  \n",
       "50%                       0.000000                   0.000000      3.000000  \n",
       "75%                       0.000000                   1.000000      4.000000  \n",
       "max                       8.000000                   5.000000     10.000000  "
      ]
     },
     "metadata": {},
     "output_type": "display_data"
    }
   ],
   "source": [
    "display(hotel_train.describe())\n",
    "display(hotel_test.describe())"
   ]
  },
  {
   "cell_type": "markdown",
   "metadata": {},
   "source": [
    "Никаких аномальных значений (количество дней в месяце > 31 или < 0; общее кол-во ночей < 0 и т.д.)  выявлено не было. Перейдем далее к рассмотрению матрицы коэффициентов корреляции phik."
   ]
  },
  {
   "cell_type": "code",
   "execution_count": 10,
   "metadata": {},
   "outputs": [
    {
     "name": "stdout",
     "output_type": "stream",
     "text": [
      "interval columns not set, guessing: ['is_canceled', 'lead_time', 'arrival_date_year', 'arrival_date_week_number', 'arrival_date_day_of_month', 'stays_in_weekend_nights', 'stays_in_week_nights', 'adults', 'children', 'babies', 'is_repeated_guest', 'previous_cancellations', 'previous_bookings_not_canceled', 'booking_changes', 'days_in_waiting_list', 'required_car_parking_spaces', 'total_of_special_requests', 'total_nights']\n"
     ]
    },
    {
     "data": {
      "image/png": "[encoded data removed]",
      "text/plain": [
       "<Figure size 1080x1080 with 2 Axes>"
      ]
     },
     "metadata": {
      "needs_background": "light"
     },
     "output_type": "display_data"
    }
   ],
   "source": [
    "# Отобразим корреляцию phik\n",
    "phik_overview = hotel_train.phik_matrix()\n",
    "phik_overview.round(2)\n",
    "\n",
    "plot_correlation_matrix(\n",
    "    phik_overview.values,\n",
    "    x_labels=phik_overview.columns,\n",
    "    y_labels=phik_overview.index,\n",
    "    vmin=0,\n",
    "    vmax=1,\n",
    "    figsize=(15, 15)\n",
    ")"
   ]
  },
  {
   "cell_type": "markdown",
   "metadata": {},
   "source": [
    "**Промежуточный вывод:**\n",
    "    \n",
    "Можно заметить небольшие значения корреляции между 'lead_time' (количество дней между датой бронирования и датой прибытия) и 'is_canceled' (собственно отмена заказа), между 'country' (гражданство постояльца) и 'is_canceled', а также между 'total_of_special_requests' (количество специальных отметок) и 'is_canceled'. Каждое значений корреляции рассмотренных параметров выше 0,4, но не превышает 0,5."
   ]
  },
  {
   "cell_type": "code",
   "execution_count": 11,
   "metadata": {},
   "outputs": [
    {
     "name": "stdout",
     "output_type": "stream",
     "text": [
      "<class 'pandas.core.frame.DataFrame'>\n",
      "RangeIndex: 65229 entries, 0 to 65228\n",
      "Data columns (total 24 columns):\n",
      " #   Column                          Non-Null Count  Dtype  \n",
      "---  ------                          --------------  -----  \n",
      " 0   is_canceled                     65229 non-null  int64  \n",
      " 1   lead_time                       65229 non-null  float64\n",
      " 2   arrival_date_year               65229 non-null  int64  \n",
      " 3   arrival_date_month              65229 non-null  object \n",
      " 4   arrival_date_week_number        65229 non-null  int64  \n",
      " 5   arrival_date_day_of_month       65229 non-null  int64  \n",
      " 6   stays_in_weekend_nights         65229 non-null  int64  \n",
      " 7   stays_in_week_nights            65229 non-null  int64  \n",
      " 8   adults                          65229 non-null  float64\n",
      " 9   children                        65229 non-null  float64\n",
      " 10  babies                          65229 non-null  float64\n",
      " 11  meal                            65229 non-null  object \n",
      " 12  country                         65229 non-null  object \n",
      " 13  distribution_channel            65229 non-null  object \n",
      " 14  is_repeated_guest               65229 non-null  int64  \n",
      " 15  previous_cancellations          65229 non-null  int64  \n",
      " 16  previous_bookings_not_canceled  65229 non-null  int64  \n",
      " 17  reserved_room_type              65229 non-null  object \n",
      " 18  booking_changes                 65229 non-null  int64  \n",
      " 19  days_in_waiting_list            65229 non-null  int64  \n",
      " 20  customer_type                   65229 non-null  object \n",
      " 21  required_car_parking_spaces     65229 non-null  int64  \n",
      " 22  total_of_special_requests       65229 non-null  int64  \n",
      " 23  total_nights                    65229 non-null  int64  \n",
      "dtypes: float64(4), int64(14), object(6)\n",
      "memory usage: 11.9+ MB\n"
     ]
    }
   ],
   "source": [
    "hotel_train.info()"
   ]
  },
  {
   "cell_type": "markdown",
   "metadata": {},
   "source": [
    "Далее посмотрим на доли клиентов по некоторым категориальным параметрам - country (гражданство постояльца), reserved_room_type (категория номера), meal (опция заказа), customer_type (тип заказчика), distribution_channel (канал дистрибуции заказа)."
   ]
  },
  {
   "cell_type": "code",
   "execution_count": 12,
   "metadata": {},
   "outputs": [],
   "source": [
    "def customers_by_category(category):\n",
    "    category_df = hotel_train.pivot_table(index=category, values='is_canceled', aggfunc='count').reset_index()\n",
    "    category_df.columns = [category, 'count']\n",
    "    \n",
    "    for index, row in category_df.iterrows():\n",
    "        percentage = round(row['count'] / category_df['count'].sum() * 100, 1)\n",
    "        category_df.loc[index, 'percentage'] = percentage\n",
    "\n",
    "    return category_df.sort_values(by='count', ascending=False)"
   ]
  },
  {
   "cell_type": "code",
   "execution_count": 13,
   "metadata": {
    "scrolled": false
   },
   "outputs": [
    {
     "name": "stdout",
     "output_type": "stream",
     "text": [
      "Доля клиентов по некоторым категориальным параметрам:\n"
     ]
    },
    {
     "data": {
      "text/plain": [
       "'По гражданству:'"
      ]
     },
     "metadata": {},
     "output_type": "display_data"
    },
    {
     "data": {
      "text/html": [
       "<div>\n",
       "<style scoped>\n",
       "    .dataframe tbody tr th:only-of-type {\n",
       "        vertical-align: middle;\n",
       "    }\n",
       "\n",
       "    .dataframe tbody tr th {\n",
       "        vertical-align: top;\n",
       "    }\n",
       "\n",
       "    .dataframe thead th {\n",
       "        text-align: right;\n",
       "    }\n",
       "</style>\n",
       "<table border=\"1\" class=\"dataframe\">\n",
       "  <thead>\n",
       "    <tr style=\"text-align: right;\">\n",
       "      <th></th>\n",
       "      <th>country</th>\n",
       "      <th>count</th>\n",
       "      <th>percentage</th>\n",
       "    </tr>\n",
       "  </thead>\n",
       "  <tbody>\n",
       "    <tr>\n",
       "      <th>117</th>\n",
       "      <td>PRT</td>\n",
       "      <td>28831</td>\n",
       "      <td>44.2</td>\n",
       "    </tr>\n",
       "    <tr>\n",
       "      <th>48</th>\n",
       "      <td>FRA</td>\n",
       "      <td>5974</td>\n",
       "      <td>9.2</td>\n",
       "    </tr>\n",
       "    <tr>\n",
       "      <th>50</th>\n",
       "      <td>GBR</td>\n",
       "      <td>5109</td>\n",
       "      <td>7.8</td>\n",
       "    </tr>\n",
       "    <tr>\n",
       "      <th>44</th>\n",
       "      <td>ESP</td>\n",
       "      <td>4900</td>\n",
       "      <td>7.5</td>\n",
       "    </tr>\n",
       "    <tr>\n",
       "      <th>37</th>\n",
       "      <td>DEU</td>\n",
       "      <td>3887</td>\n",
       "      <td>6.0</td>\n",
       "    </tr>\n",
       "    <tr>\n",
       "      <th>70</th>\n",
       "      <td>ITA</td>\n",
       "      <td>2327</td>\n",
       "      <td>3.6</td>\n",
       "    </tr>\n",
       "    <tr>\n",
       "      <th>65</th>\n",
       "      <td>IRL</td>\n",
       "      <td>1445</td>\n",
       "      <td>2.2</td>\n",
       "    </tr>\n",
       "    <tr>\n",
       "      <th>12</th>\n",
       "      <td>BEL</td>\n",
       "      <td>1245</td>\n",
       "      <td>1.9</td>\n",
       "    </tr>\n",
       "    <tr>\n",
       "      <th>106</th>\n",
       "      <td>NLD</td>\n",
       "      <td>1166</td>\n",
       "      <td>1.8</td>\n",
       "    </tr>\n",
       "    <tr>\n",
       "      <th>21</th>\n",
       "      <td>BRA</td>\n",
       "      <td>1088</td>\n",
       "      <td>1.7</td>\n",
       "    </tr>\n",
       "  </tbody>\n",
       "</table>\n",
       "</div>"
      ],
      "text/plain": [
       "    country  count  percentage\n",
       "117     PRT  28831        44.2\n",
       "48      FRA   5974         9.2\n",
       "50      GBR   5109         7.8\n",
       "44      ESP   4900         7.5\n",
       "37      DEU   3887         6.0\n",
       "70      ITA   2327         3.6\n",
       "65      IRL   1445         2.2\n",
       "12      BEL   1245         1.9\n",
       "106     NLD   1166         1.8\n",
       "21      BRA   1088         1.7"
      ]
     },
     "metadata": {},
     "output_type": "display_data"
    },
    {
     "name": "stdout",
     "output_type": "stream",
     "text": [
      "Можно заметить, что преобладают жители Евросоюза. В преимуществе своем - жители португалии, на которых приходится более 44% всех посетителей.\n"
     ]
    },
    {
     "data": {
      "text/plain": [
       "'По категории номера:'"
      ]
     },
     "metadata": {},
     "output_type": "display_data"
    },
    {
     "data": {
      "text/html": [
       "<div>\n",
       "<style scoped>\n",
       "    .dataframe tbody tr th:only-of-type {\n",
       "        vertical-align: middle;\n",
       "    }\n",
       "\n",
       "    .dataframe tbody tr th {\n",
       "        vertical-align: top;\n",
       "    }\n",
       "\n",
       "    .dataframe thead th {\n",
       "        text-align: right;\n",
       "    }\n",
       "</style>\n",
       "<table border=\"1\" class=\"dataframe\">\n",
       "  <thead>\n",
       "    <tr style=\"text-align: right;\">\n",
       "      <th></th>\n",
       "      <th>reserved_room_type</th>\n",
       "      <th>count</th>\n",
       "      <th>percentage</th>\n",
       "    </tr>\n",
       "  </thead>\n",
       "  <tbody>\n",
       "    <tr>\n",
       "      <th>0</th>\n",
       "      <td>A</td>\n",
       "      <td>50501</td>\n",
       "      <td>77.4</td>\n",
       "    </tr>\n",
       "    <tr>\n",
       "      <th>3</th>\n",
       "      <td>D</td>\n",
       "      <td>9387</td>\n",
       "      <td>14.4</td>\n",
       "    </tr>\n",
       "    <tr>\n",
       "      <th>4</th>\n",
       "      <td>E</td>\n",
       "      <td>2448</td>\n",
       "      <td>3.8</td>\n",
       "    </tr>\n",
       "    <tr>\n",
       "      <th>5</th>\n",
       "      <td>F</td>\n",
       "      <td>1213</td>\n",
       "      <td>1.9</td>\n",
       "    </tr>\n",
       "    <tr>\n",
       "      <th>1</th>\n",
       "      <td>B</td>\n",
       "      <td>860</td>\n",
       "      <td>1.3</td>\n",
       "    </tr>\n",
       "    <tr>\n",
       "      <th>6</th>\n",
       "      <td>G</td>\n",
       "      <td>592</td>\n",
       "      <td>0.9</td>\n",
       "    </tr>\n",
       "    <tr>\n",
       "      <th>2</th>\n",
       "      <td>C</td>\n",
       "      <td>228</td>\n",
       "      <td>0.3</td>\n",
       "    </tr>\n",
       "  </tbody>\n",
       "</table>\n",
       "</div>"
      ],
      "text/plain": [
       "  reserved_room_type  count  percentage\n",
       "0                  A  50501        77.4\n",
       "3                  D   9387        14.4\n",
       "4                  E   2448         3.8\n",
       "5                  F   1213         1.9\n",
       "1                  B    860         1.3\n",
       "6                  G    592         0.9\n",
       "2                  C    228         0.3"
      ]
     },
     "metadata": {},
     "output_type": "display_data"
    },
    {
     "name": "stdout",
     "output_type": "stream",
     "text": [
      "Преимущественно бронируют номера категорий 'A' и 'D'. На эти две категории приходится 77,4% и 14,4% всех бронирующих потребителей в отеле. В совокупности они дают более 90% всех клиентов.\n"
     ]
    },
    {
     "data": {
      "text/plain": [
       "'По опции заказа:'"
      ]
     },
     "metadata": {},
     "output_type": "display_data"
    },
    {
     "data": {
      "text/html": [
       "<div>\n",
       "<style scoped>\n",
       "    .dataframe tbody tr th:only-of-type {\n",
       "        vertical-align: middle;\n",
       "    }\n",
       "\n",
       "    .dataframe tbody tr th {\n",
       "        vertical-align: top;\n",
       "    }\n",
       "\n",
       "    .dataframe thead th {\n",
       "        text-align: right;\n",
       "    }\n",
       "</style>\n",
       "<table border=\"1\" class=\"dataframe\">\n",
       "  <thead>\n",
       "    <tr style=\"text-align: right;\">\n",
       "      <th></th>\n",
       "      <th>meal</th>\n",
       "      <th>count</th>\n",
       "      <th>percentage</th>\n",
       "    </tr>\n",
       "  </thead>\n",
       "  <tbody>\n",
       "    <tr>\n",
       "      <th>0</th>\n",
       "      <td>BB</td>\n",
       "      <td>51697</td>\n",
       "      <td>79.3</td>\n",
       "    </tr>\n",
       "    <tr>\n",
       "      <th>2</th>\n",
       "      <td>HB</td>\n",
       "      <td>7292</td>\n",
       "      <td>11.2</td>\n",
       "    </tr>\n",
       "    <tr>\n",
       "      <th>3</th>\n",
       "      <td>SC</td>\n",
       "      <td>5789</td>\n",
       "      <td>8.9</td>\n",
       "    </tr>\n",
       "    <tr>\n",
       "      <th>1</th>\n",
       "      <td>FB</td>\n",
       "      <td>451</td>\n",
       "      <td>0.7</td>\n",
       "    </tr>\n",
       "  </tbody>\n",
       "</table>\n",
       "</div>"
      ],
      "text/plain": [
       "  meal  count  percentage\n",
       "0   BB  51697        79.3\n",
       "2   HB   7292        11.2\n",
       "3   SC   5789         8.9\n",
       "1   FB    451         0.7"
      ]
     },
     "metadata": {},
     "output_type": "display_data"
    },
    {
     "name": "stdout",
     "output_type": "stream",
     "text": [
      "Необходимо отметить, что постояльцы предпочитают включенный завтрак, поскольку как правило до 12:00 необходимо выселяться в последний день проживания, с утра, вероятно, хочется больше расслабиться. Некоторые также предпочитают использовать дополнительные опции заказа обеда.\n"
     ]
    },
    {
     "data": {
      "text/plain": [
       "'По типу заказчика:'"
      ]
     },
     "metadata": {},
     "output_type": "display_data"
    },
    {
     "data": {
      "text/html": [
       "<div>\n",
       "<style scoped>\n",
       "    .dataframe tbody tr th:only-of-type {\n",
       "        vertical-align: middle;\n",
       "    }\n",
       "\n",
       "    .dataframe tbody tr th {\n",
       "        vertical-align: top;\n",
       "    }\n",
       "\n",
       "    .dataframe thead th {\n",
       "        text-align: right;\n",
       "    }\n",
       "</style>\n",
       "<table border=\"1\" class=\"dataframe\">\n",
       "  <thead>\n",
       "    <tr style=\"text-align: right;\">\n",
       "      <th></th>\n",
       "      <th>customer_type</th>\n",
       "      <th>count</th>\n",
       "      <th>percentage</th>\n",
       "    </tr>\n",
       "  </thead>\n",
       "  <tbody>\n",
       "    <tr>\n",
       "      <th>2</th>\n",
       "      <td>Transient</td>\n",
       "      <td>45493</td>\n",
       "      <td>69.7</td>\n",
       "    </tr>\n",
       "    <tr>\n",
       "      <th>3</th>\n",
       "      <td>Transient-Party</td>\n",
       "      <td>16703</td>\n",
       "      <td>25.6</td>\n",
       "    </tr>\n",
       "    <tr>\n",
       "      <th>0</th>\n",
       "      <td>Contract</td>\n",
       "      <td>2746</td>\n",
       "      <td>4.2</td>\n",
       "    </tr>\n",
       "    <tr>\n",
       "      <th>1</th>\n",
       "      <td>Group</td>\n",
       "      <td>287</td>\n",
       "      <td>0.4</td>\n",
       "    </tr>\n",
       "  </tbody>\n",
       "</table>\n",
       "</div>"
      ],
      "text/plain": [
       "     customer_type  count  percentage\n",
       "2        Transient  45493        69.7\n",
       "3  Transient-Party  16703        25.6\n",
       "0         Contract   2746         4.2\n",
       "1            Group    287         0.4"
      ]
     },
     "metadata": {},
     "output_type": "display_data"
    },
    {
     "name": "stdout",
     "output_type": "stream",
     "text": [
      "Основными заказчика, как впрочем и по всему миру, являются одиночные постояльцы (без групп), которые приезжают на относительно короткий срок. Их порядка 70% от числа всех постояльцев.\n"
     ]
    },
    {
     "data": {
      "text/plain": [
       "'По каналу дистрибуции заказа:'"
      ]
     },
     "metadata": {},
     "output_type": "display_data"
    },
    {
     "data": {
      "text/html": [
       "<div>\n",
       "<style scoped>\n",
       "    .dataframe tbody tr th:only-of-type {\n",
       "        vertical-align: middle;\n",
       "    }\n",
       "\n",
       "    .dataframe tbody tr th {\n",
       "        vertical-align: top;\n",
       "    }\n",
       "\n",
       "    .dataframe thead th {\n",
       "        text-align: right;\n",
       "    }\n",
       "</style>\n",
       "<table border=\"1\" class=\"dataframe\">\n",
       "  <thead>\n",
       "    <tr style=\"text-align: right;\">\n",
       "      <th></th>\n",
       "      <th>distribution_channel</th>\n",
       "      <th>count</th>\n",
       "      <th>percentage</th>\n",
       "    </tr>\n",
       "  </thead>\n",
       "  <tbody>\n",
       "    <tr>\n",
       "      <th>3</th>\n",
       "      <td>TA/TO</td>\n",
       "      <td>54454</td>\n",
       "      <td>83.5</td>\n",
       "    </tr>\n",
       "    <tr>\n",
       "      <th>1</th>\n",
       "      <td>Direct</td>\n",
       "      <td>6853</td>\n",
       "      <td>10.5</td>\n",
       "    </tr>\n",
       "    <tr>\n",
       "      <th>0</th>\n",
       "      <td>Corporate</td>\n",
       "      <td>3823</td>\n",
       "      <td>5.9</td>\n",
       "    </tr>\n",
       "    <tr>\n",
       "      <th>2</th>\n",
       "      <td>GDS</td>\n",
       "      <td>99</td>\n",
       "      <td>0.2</td>\n",
       "    </tr>\n",
       "  </tbody>\n",
       "</table>\n",
       "</div>"
      ],
      "text/plain": [
       "  distribution_channel  count  percentage\n",
       "3                TA/TO  54454        83.5\n",
       "1               Direct   6853        10.5\n",
       "0            Corporate   3823         5.9\n",
       "2                  GDS     99         0.2"
      ]
     },
     "metadata": {},
     "output_type": "display_data"
    },
    {
     "name": "stdout",
     "output_type": "stream",
     "text": [
      "Преимущественное большинство - около 83,5% - предпочитают осуществлять бронь номеров с помощью турагентов и туроператоров. Лишь 10% осуществляют это напрямую.\n"
     ]
    }
   ],
   "source": [
    "print(\"Доля клиентов по некоторым категориальным параметрам:\")\n",
    "\n",
    "display(\"По гражданству:\", customers_by_category('country').head(10))\n",
    "print(\"Можно заметить, что преобладают жители Евросоюза. В преимуществе своем - жители португалии,\",\n",
    "      \"на которых приходится более 44% всех посетителей.\")\n",
    "\n",
    "display(\"По категории номера:\", customers_by_category('reserved_room_type').head(10))\n",
    "print(\"Преимущественно бронируют номера категорий 'A' и 'D'. На эти две категории приходится\", \n",
    "      \"77,4% и 14,4% всех бронирующих потребителей в отеле. В совокупности они дают более 90% всех клиентов.\")\n",
    "\n",
    "display(\"По опции заказа:\", customers_by_category('meal').head(10))\n",
    "print(\"Необходимо отметить, что постояльцы предпочитают включенный завтрак, поскольку как правило до 12:00\",\n",
    "      \"необходимо выселяться в последний день проживания, с утра, вероятно, хочется больше расслабиться.\",\n",
    "      \"Некоторые также предпочитают использовать дополнительные опции заказа обеда.\")\n",
    "\n",
    "display(\"По типу заказчика:\", customers_by_category('customer_type').head(10))\n",
    "print(\"Основными заказчика, как впрочем и по всему миру, являются одиночные постояльцы (без групп),\",\n",
    "      \"которые приезжают на относительно короткий срок. Их порядка 70% от числа всех постояльцев.\")\n",
    "\n",
    "display(\"По каналу дистрибуции заказа:\", customers_by_category('distribution_channel').head(10))\n",
    "print(\"Преимущественное большинство - около 83,5% - предпочитают осуществлять бронь номеров с помощью\",\n",
    "      \"турагентов и туроператоров. Лишь 10% осуществляют это напрямую.\")"
   ]
  },
  {
   "cell_type": "markdown",
   "metadata": {},
   "source": [
    "Удалим объекты с аномальными значениями: кол-во детей больше 5, необходимое количество парковочных мест больше 4, кол-во детей больше 5, бронировение номеров детьми без взрослых"
   ]
  },
  {
   "cell_type": "code",
   "execution_count": 14,
   "metadata": {},
   "outputs": [],
   "source": [
    "def remove_anomalies(data_frame):\n",
    "    data_frame.drop(data_frame[data_frame['babies'] > 5].index, inplace=True)\n",
    "    data_frame.drop(data_frame[data_frame['required_car_parking_spaces'] > 4].index, inplace=True)\n",
    "    data_frame.drop(data_frame[data_frame['children'] > 5].index, inplace=True)\n",
    "    data_frame.drop(data_frame[data_frame['adults'] == 0].index, inplace=True)\n",
    "\n",
    "remove_anomalies(hotel_train)\n",
    "remove_anomalies(hotel_test)"
   ]
  },
  {
   "cell_type": "markdown",
   "metadata": {},
   "source": [
    "Посмотрим на соотносение общего количества ночей, также суммы ночей по будням и выходным"
   ]
  },
  {
   "cell_type": "code",
   "execution_count": 15,
   "metadata": {
    "scrolled": true
   },
   "outputs": [
    {
     "name": "stdout",
     "output_type": "stream",
     "text": [
      "Всего объектов: 65061\n",
      "Количество значений, когда общее число ночей совпадает с суммой ночей в будние и выходные дни: 65061\n"
     ]
    }
   ],
   "source": [
    "print(\"Всего объектов:\", hotel_train['adults'].count())\n",
    "print(\"Количество значений, когда общее число ночей совпадает с суммой ночей в будние и выходные дни:\", \n",
    "      hotel_train[hotel_train['total_nights'] == hotel_train['stays_in_week_nights'] + \\\n",
    "                  hotel_train['stays_in_weekend_nights']]['adults'].count())"
   ]
  },
  {
   "cell_type": "markdown",
   "metadata": {},
   "source": [
    "Стоит учесть и тот факт, что некоторые значения могут быть уникальны для одного из датасетов (тренировочного или тестового). Поскольку они характерны только для одного датасета, следовательно, модель не будет использовать информацию о таких значениях параметров в другом датасете. Ввиду этого необходимо удалить некоторые уникальные значения по таким столбцам, как \"arrival_date_month\" и \"country\" в каждом из датасетов. В дополнение, при осуществлении в дальнейшем обучения и прогнозирования значения с помощью техники One-Hot Encoding количество столбцов должно совпадать, что и будет обеспечиваться удалением уникальных для каждого из датасетов значений по этим параметрам."
   ]
  },
  {
   "cell_type": "code",
   "execution_count": 16,
   "metadata": {},
   "outputs": [
    {
     "name": "stdout",
     "output_type": "stream",
     "text": [
      "Кол-во уникальных стран для каждого из датасетов - \n",
      "\tTrain: 155\n",
      "\tTest: 143 \n",
      "\n",
      "Кол-во уникальных значений по месяцу заезда по каждому из датасетов -\n",
      "\tTrain: 12\n",
      "\tTest: 8\n"
     ]
    }
   ],
   "source": [
    "print(\"Кол-во уникальных стран для каждого из датасетов - \")\n",
    "print(\"\\tTrain:\", len(hotel_train['country'].unique()))\n",
    "print(\"\\tTest:\", len(hotel_test['country'].unique()), '\\n')\n",
    " \n",
    "print(\"Кол-во уникальных значений по месяцу заезда по каждому из датасетов -\")\n",
    "print(\"\\tTrain:\", len(hotel_train['arrival_date_month'].unique()))\n",
    "print(\"\\tTest:\", len(hotel_test['arrival_date_month'].unique()))"
   ]
  },
  {
   "cell_type": "code",
   "execution_count": 17,
   "metadata": {},
   "outputs": [
    {
     "name": "stdout",
     "output_type": "stream",
     "text": [
      "Кол-во клиентов из стран, которых нет в тестовом датасете: 79\n",
      "Кол-во клиентов из стран, которых нет в тренировочном датасете: 26\n"
     ]
    }
   ],
   "source": [
    "obj_num = 0\n",
    "train_unique_countries = []\n",
    " \n",
    "for country in hotel_train['country'].unique():\n",
    "    if country not in hotel_test['country'].unique(): \n",
    "        train_unique_countries.append(country)\n",
    "        obj_num += hotel_train[hotel_train['country'] == country].shape[0]\n",
    "        \n",
    "print(\"Кол-во клиентов из стран, которых нет в тестовом датасете:\", obj_num)\n",
    " \n",
    "obj_num = 0\n",
    "test_unique_countries = []\n",
    " \n",
    "for country in hotel_test['country'].unique():\n",
    "    if country not in hotel_train['country'].unique():\n",
    "        test_unique_countries.append(country)\n",
    "        obj_num += hotel_test[hotel_test['country'] == country].shape[0]\n",
    "        \n",
    "print(\"Кол-во клиентов из стран, которых нет в тренировочном датасете:\", obj_num)"
   ]
  },
  {
   "cell_type": "code",
   "execution_count": 18,
   "metadata": {},
   "outputs": [],
   "source": [
    "# Удалим информацию о клиентах, которые являются гражданами уникальных для одного из датасетов стран\n",
    " \n",
    "hotel_train = hotel_train[hotel_train['country'].isin(hotel_test['country'].unique())]\n",
    "hotel_test = hotel_test[hotel_test['country'].isin(hotel_train['country'].unique())]\n",
    " \n",
    "hotel_train = hotel_train[hotel_train['arrival_date_month'].isin(hotel_test['arrival_date_month'].unique())]"
   ]
  },
  {
   "cell_type": "code",
   "execution_count": 19,
   "metadata": {},
   "outputs": [],
   "source": [
    "hotel_train = hotel_train[hotel_train['country'].isin(hotel_test['country'].unique())]\n",
    "hotel_test = hotel_test[hotel_test['country'].isin(hotel_train['country'].unique())]"
   ]
  },
  {
   "cell_type": "markdown",
   "metadata": {},
   "source": [
    "Для того, чтобы в дальнейшем облегчить задачу подсчета финансовых результатов внедрения системы, создадим отдельные дата сеты, которые будут использованы специально для расчеты прибыльности."
   ]
  },
  {
   "cell_type": "code",
   "execution_count": 20,
   "metadata": {},
   "outputs": [],
   "source": [
    "hotel_train_clean = hotel_train  # В отдельной переменной оставим неизмененный датасет для портрета \"ненадежного\"\n",
    "hotel_test_profit = hotel_test.reset_index(drop=True)  # ... для расчета прибыли"
   ]
  },
  {
   "cell_type": "code",
   "execution_count": 21,
   "metadata": {},
   "outputs": [],
   "source": [
    "# Удалим столбец 'total_nights', поскольку сумма значений 'stays_in_weekend_nights' и 'stays_in_week_nights'\n",
    "# дает нам необходимые сведения о длительности проживания\n",
    "\n",
    "hotel_train = hotel_train.drop(['total_nights'], axis=1)\n",
    "hotel_test = hotel_test.drop(['total_nights'], axis=1)"
   ]
  },
  {
   "cell_type": "markdown",
   "metadata": {},
   "source": [
    "Отобразим на графиках соотношение отменивших и неотменивших бронь по признакам в процентном выражении"
   ]
  },
  {
   "cell_type": "code",
   "execution_count": 22,
   "metadata": {},
   "outputs": [],
   "source": [
    "def create_ratio_plot(col_name, str_name, bar_color):\n",
    "    # Создадим DataFrame с количеством отменивших / неотменивших бронь по заявленному признаку\n",
    "    ratio_df = hotel_train.pivot_table(\n",
    "        index=[col_name, 'is_canceled'], \n",
    "        values='country', \n",
    "        aggfunc='count'\n",
    "    ).reset_index()\n",
    "\n",
    "    # Сохраним соотношения по каждому из уникальных значений заявленного признака\n",
    "    percentages = []\n",
    "    for index, row in ratio_df.iterrows():\n",
    "        if index % 2 == 0:\n",
    "            try:\n",
    "                percentage = round(ratio_df.iloc[index + 1]['country'] / row['country'] * 100, 2)\n",
    "            except IndexError:\n",
    "                percentage = 0\n",
    "            percentages.append(percentage)\n",
    "\n",
    "    # Создадим DataFrame с соотношением\n",
    "    ratio_df = pd.DataFrame(\n",
    "        {\n",
    "            col_name: sorted(hotel_train[col_name].unique()),\n",
    "            'percentage': [perc for perc in percentages]\n",
    "        }, \n",
    "        index=range(0, len(hotel_train[col_name].unique()))\n",
    "    )\n",
    "\n",
    "    # Построим график соотношения отменивших / неотменивших бронь по заявленному признаку\n",
    "    ratio_df.plot(\n",
    "        y='percentage',\n",
    "        x=col_name,\n",
    "        kind='bar',\n",
    "        grid=True,\n",
    "        legend=False,\n",
    "        figsize=(6, 4),\n",
    "        color=bar_color\n",
    "    )\n",
    "\n",
    "    plt.xlabel(str_name)\n",
    "    plt.xticks(rotation=0)\n",
    "    plt.ylabel('Процент отменивших бронь')\n",
    "    plt.title(f'Соотношение отменивших/неотменивших\\nпо \"{str_name}\", в %.')\n",
    "    plt.show()"
   ]
  },
  {
   "cell_type": "code",
   "execution_count": 23,
   "metadata": {
    "scrolled": false
   },
   "outputs": [
    {
     "data": {
      "image/png": "[encoded data removed]",
      "text/plain": [
       "<Figure size 432x288 with 1 Axes>"
      ]
     },
     "metadata": {
      "needs_background": "light"
     },
     "output_type": "display_data"
    },
    {
     "name": "stdout",
     "output_type": "stream",
     "text": [
      "Заметно, что с увеличением количества проживающих взрослых соотношение отменивших отменивших к неотменившим повышается. Необходимо отметить, что выборка объектов с 4-мя взрослыми нерепрезентативна (составляет всего 13 объектов).\n"
     ]
    },
    {
     "data": {
      "image/png": "[encoded data removed]",
      "text/plain": [
       "<Figure size 432x288 with 1 Axes>"
      ]
     },
     "metadata": {
      "needs_background": "light"
     },
     "output_type": "display_data"
    },
    {
     "name": "stdout",
     "output_type": "stream",
     "text": [
      "В случае же с количеством младенцем ситуация немного иная (хотя при кол-ве младенцев равном двум выборка также нерепрезентативна - лишь 3 объекта). Тем не менее, при наличии младенца соотношение отменивших к неотменившим снижается.\n"
     ]
    },
    {
     "data": {
      "image/png": "[encoded data removed]",
      "text/plain": [
       "<Figure size 432x288 with 1 Axes>"
      ]
     },
     "metadata": {
      "needs_background": "light"
     },
     "output_type": "display_data"
    },
    {
     "name": "stdout",
     "output_type": "stream",
     "text": [
      "Судя по графику, можно заметить, что при повышении количества детей число отменивших бронь номера также повышается, достигая почти 60%.\n"
     ]
    },
    {
     "data": {
      "image/png": "[encoded data removed]",
      "text/plain": [
       "<Figure size 432x288 with 1 Axes>"
      ]
     },
     "metadata": {
      "needs_background": "light"
     },
     "output_type": "display_data"
    },
    {
     "name": "stdout",
     "output_type": "stream",
     "text": [
      "Больше всего осуществляют отмену брони те заказчики, которые бронируют самостоятельно - чуть более 35%. На остальные категории приходится по крайне мере на 10% меньше. А по договору и вовсе - лишь около 8% заказчиков отменяют бронь.\n"
     ]
    }
   ],
   "source": [
    "create_ratio_plot('adults', 'Кол-во взрослых', 'green')\n",
    "print(\"Заметно, что с увеличением количества проживающих взрослых соотношение отменивших отменивших\",\n",
    "      \"к неотменившим повышается. Необходимо отметить, что выборка объектов с 4-мя взрослыми\",\n",
    "      \"нерепрезентативна (составляет всего 13 объектов).\")\n",
    "\n",
    "create_ratio_plot('babies', 'Кол-во младенцев', 'blue')\n",
    "print(\"В случае же с количеством младенцем ситуация немного иная (хотя при кол-ве младенцев равном двум\",\n",
    "      \"выборка также нерепрезентативна - лишь 3 объекта). Тем не менее, при наличии младенца соотношение\",\n",
    "      \"отменивших к неотменившим снижается.\")\n",
    "\n",
    "create_ratio_plot('children', 'Кол-во детей', 'orange')\n",
    "print(\"Судя по графику, можно заметить, что при повышении количества детей число отменивших бронь номера\",\n",
    "      \"также повышается, достигая почти 60%.\")\n",
    "\n",
    "create_ratio_plot('customer_type', 'Тип заказчика', 'green')\n",
    "print(\"Больше всего осуществляют отмену брони те заказчики, которые бронируют самостоятельно - чуть более 35%.\",\n",
    "      \"На остальные категории приходится по крайне мере на 10% меньше. А по договору и вовсе\",\n",
    "      \"- лишь около 8% заказчиков отменяют бронь.\")"
   ]
  },
  {
   "cell_type": "code",
   "execution_count": 24,
   "metadata": {},
   "outputs": [],
   "source": [
    "def create_boxplot(col_name, str_name):\n",
    "    sns.boxplot(x=hotel_train[col_name])\n",
    "    plt.title(f\"Диаграмма размаха объектов\\nпо '{str_name}'\")\n",
    "    plt.grid()\n",
    "    plt.show()"
   ]
  },
  {
   "cell_type": "code",
   "execution_count": 25,
   "metadata": {
    "scrolled": true
   },
   "outputs": [
    {
     "data": {
      "image/png": "[encoded data removed]",
      "text/plain": [
       "<Figure size 432x288 with 1 Axes>"
      ]
     },
     "metadata": {
      "needs_background": "light"
     },
     "output_type": "display_data"
    },
    {
     "name": "stdout",
     "output_type": "stream",
     "text": [
      "Бронирование осуществляется как правило в период до 100 дней до заселения. Для отдельных постояльцев значение данного показателя может доходить до более года.\n"
     ]
    },
    {
     "data": {
      "image/png": "[encoded data removed]",
      "text/plain": [
       "<Figure size 432x288 with 1 Axes>"
      ]
     },
     "metadata": {
      "needs_background": "light"
     },
     "output_type": "display_data"
    },
    {
     "name": "stdout",
     "output_type": "stream",
     "text": [
      "Люди предпочитают скорее размещаться в отеле в период с мая по октября, однако данный показатель охватывает все месяца года.\n"
     ]
    },
    {
     "data": {
      "image/png": "[encoded data removed]",
      "text/plain": [
       "<Figure size 432x288 with 1 Axes>"
      ]
     },
     "metadata": {
      "needs_background": "light"
     },
     "output_type": "display_data"
    },
    {
     "name": "stdout",
     "output_type": "stream",
     "text": [
      "Большинство постояльцев заезжает в отель в середине месяца, около 16-го числа, однако, особого скопления объектов по определенному диапазону значений не наблюдается.\n"
     ]
    }
   ],
   "source": [
    "create_boxplot('lead_time', \"Кол-во дней между датой бронирования и заселения\")\n",
    "print(\"Бронирование осуществляется как правило в период до 100 дней до заселения.\", \n",
    "      \"Для отдельных постояльцев значение данного показателя может доходить до более года.\")\n",
    "\n",
    "create_boxplot('arrival_date_month', 'Месяц заезда')\n",
    "print(\"Люди предпочитают скорее размещаться в отеле в период с мая по октября,\",\n",
    "      \"однако данный показатель охватывает все месяца года.\")\n",
    "\n",
    "create_boxplot('arrival_date_day_of_month', 'День месяца заезда')\n",
    "print(\"Большинство постояльцев заезжает в отель в середине месяца, около 16-го числа, однако,\",\n",
    "      \"особого скопления объектов по определенному диапазону значений не наблюдается.\")"
   ]
  },
  {
   "cell_type": "markdown",
   "metadata": {},
   "source": [
    "<a name='ml_task'></a>\n",
    "### Шаг 3. Формулировка ML-задачи на основе бизнес-задачи"
   ]
  },
  {
   "cell_type": "markdown",
   "metadata": {},
   "source": [
    "По условию задачи нам необходимо разработать систему прогнозирования оплаты / отмены брони для отеля. Отель получает убытки в случае, если бронь отменяется. Система прогнозирования отмены брони номера позволит предугадать, отменит ли постоялец свою бронь, что поможет сэкономить отелю (сократит издержки) и, следовательно, повысить прибыль организации.\n",
    "\n",
    "1. При внедрении данной системы отель может понести убытки, если ложно предскажет, что пользователь в конечном счете не отменит бронь, но отмена все-таки произойдет (ложноотрицательные предсказания). Ввиду этого необходимо использовать метрику 'recall', которая как раз будет высчитывать долю правильно положительных ответов модели машинного обучения.\n",
    "2. В дополнение можно рассмотреть и значения F1-меры, поскольку она сочетает в себе оценку метрик recall и precision, и продемонстрирует способность модели различать необходимый класс от иных, а также правильно определять его.\n",
    "3. Также необходимо использовать и AUC-ROC (площадь под кривой ROC), поскольку она демонстрирует, насколько модель лучше абсолютно случайно модели, значение метрики которой составляет 0,5. \n",
    "4. Рассмотрим также случай, что половина постояльцев, которым будет предложено внесения депозита, откажется от брони, ввиду нежелания осуществления предварительной оплаты. В данном случае будет наглядно продемонстрировано, насколько эффективно будет внедрение системы, даже если часть постояльцев откажется от бронирования номера."
   ]
  },
  {
   "cell_type": "markdown",
   "metadata": {},
   "source": [
    "<a name='ml_development'></a>\n",
    "### Шаг 4. Разработка модели ML"
   ]
  },
  {
   "cell_type": "markdown",
   "metadata": {},
   "source": [
    "Применим две техники кодирования - прямую и порядковую (One-Hot Encoding & Ordinal Encoding) для различных моделей."
   ]
  },
  {
   "cell_type": "code",
   "execution_count": 26,
   "metadata": {},
   "outputs": [],
   "source": [
    "# Создание отдельного DataFrame, а также переменных с использованием One-Hot Encoding (прямое кодирование)\n",
    "\n",
    "pd.options.mode.chained_assignment = None\n",
    "\n",
    "df_ohe_train = pd.get_dummies(hotel_train, drop_first=True)\n",
    "\n",
    "X_train_ohe = df_ohe_train.drop('is_canceled', axis=1)\n",
    "y_train_ohe = df_ohe_train['is_canceled']\n",
    " \n",
    "scaler = StandardScaler()\n",
    "scaler.fit(X_train_ohe)\n",
    "\n",
    "X_train_ohe = scaler.transform(X_train_ohe)\n",
    "\n",
    "# То же самое для тестовой выборки\n",
    "\n",
    "df_ohe_test = pd.get_dummies(hotel_test, drop_first=True)\n",
    "\n",
    "X_test_ohe = df_ohe_test.drop('is_canceled', axis=1)\n",
    "y_test_ohe = df_ohe_test['is_canceled']\n",
    "\n",
    "scaler = StandardScaler()\n",
    "scaler.fit(X_test_ohe)\n",
    "\n",
    "X_test_ohe = scaler.transform(X_test_ohe)"
   ]
  },
  {
   "cell_type": "code",
   "execution_count": 27,
   "metadata": {},
   "outputs": [],
   "source": [
    "# Создание отдельного DataFrame и переменных с использованием Ordinal Encoding (порядковое кодирование)\n",
    "\n",
    "encoder = OrdinalEncoder()\n",
    "encoder.fit(hotel_train)\n",
    "\n",
    "df_ord_train = pd.DataFrame(\n",
    "    encoder.fit_transform(hotel_train),\n",
    "    columns=hotel_train.columns\n",
    ")\n",
    "\n",
    "X_train_ord = df_ord_train.drop('is_canceled', axis=1)\n",
    "y_train_ord = df_ord_train['is_canceled']\n",
    "\n",
    "# То же самое для тестовой выборки\n",
    "\n",
    "encoder = OrdinalEncoder()\n",
    "encoder.fit(hotel_test)\n",
    "\n",
    "df_ord_test = pd.DataFrame(\n",
    "    encoder.fit_transform(hotel_test),\n",
    "    columns=hotel_test.columns\n",
    ")\n",
    "\n",
    "X_test_ord = df_ord_test.drop('is_canceled', axis=1)\n",
    "y_test_ord = df_ord_test['is_canceled']"
   ]
  },
  {
   "cell_type": "markdown",
   "metadata": {},
   "source": [
    "Определим лучшие значения гиперпараметров для каждой из рассмтариваемых моделей: Дерева решений (DecisionTreeClassifier), Случайного леса (RandomForestClassifier) и Логистической регрессии (LogisticRegression) с помощью GridSearchCV."
   ]
  },
  {
   "cell_type": "code",
   "execution_count": 28,
   "metadata": {},
   "outputs": [],
   "source": [
    "# Рассматриваемые метрики\n",
    "scoring = ['recall', 'f1', 'roc_auc']"
   ]
  },
  {
   "cell_type": "code",
   "execution_count": 29,
   "metadata": {},
   "outputs": [
    {
     "name": "stdout",
     "output_type": "stream",
     "text": [
      "DecisionTreeClassifier(criterion='entropy', max_depth=6, random_state=42)\n"
     ]
    },
    {
     "data": {
      "text/plain": [
       "mean_test_recall     0.479352\n",
       "mean_test_f1         0.432736\n",
       "mean_test_roc_auc    0.655544\n",
       "Name: 12, dtype: float64"
      ]
     },
     "metadata": {},
     "output_type": "display_data"
    }
   ],
   "source": [
    "model = DecisionTreeClassifier(random_state=42)\n",
    "\n",
    "param_grid = {'max_depth': range(2, 21, 2), 'criterion': ['gini', 'entropy']}\n",
    "\n",
    "grid = GridSearchCV(model, param_grid, scoring=scoring, refit='recall')\n",
    "grid.fit(X_train_ord, y_train_ord)\n",
    "\n",
    "metrics_columns = [f'mean_test_{x}' for x in scoring]\n",
    "final_metrics = pd.DataFrame(grid.cv_results_)[metrics_columns].iloc[grid.best_index_]\n",
    "\n",
    "print(grid.best_estimator_)\n",
    "display(final_metrics)"
   ]
  },
  {
   "cell_type": "code",
   "execution_count": 30,
   "metadata": {
    "scrolled": true
   },
   "outputs": [
    {
     "name": "stdout",
     "output_type": "stream",
     "text": [
      "CPU times: user 1e+03 ns, sys: 1 µs, total: 2 µs\n",
      "Wall time: 5.25 µs\n"
     ]
    },
    {
     "data": {
      "text/plain": [
       "\"\\nmodel = RandomForestClassifier(random_state=42)\\n\\nparam_grid = {'max_depth': range(2, 21, 2), 'n_estimators': range(50, 351, 50), 'criterion': ['gini', 'entropy']}\\n\\ngrid = GridSearchCV(model, param_grid, scoring=scoring, refit='recall')\\ngrid.fit(X_train_ord, y_train_ord)\\n\\nmetrics_columns = [f'mean_test_{x}' for x in scoring]\\nfinal_metrics = pd.DataFrame(grid.cv_results_)[metrics_columns].iloc[grid.best_index_]\\n\\nprint(grid.best_estimator_)\\ndisplay(final_metrics)\\n\""
      ]
     },
     "execution_count": 30,
     "metadata": {},
     "output_type": "execute_result"
    }
   ],
   "source": [
    "%%time\n",
    "\n",
    "# P. S. Время на инициализацию данного блока кода - 32,5 минут\n",
    "\n",
    "'''\n",
    "model = RandomForestClassifier(random_state=42)\n",
    "\n",
    "param_grid = {'max_depth': range(2, 21, 2), 'n_estimators': range(50, 351, 50), 'criterion': ['gini', 'entropy']}\n",
    "\n",
    "grid = GridSearchCV(model, param_grid, scoring=scoring, refit='recall')\n",
    "grid.fit(X_train_ord, y_train_ord)\n",
    "\n",
    "metrics_columns = [f'mean_test_{x}' for x in scoring]\n",
    "final_metrics = pd.DataFrame(grid.cv_results_)[metrics_columns].iloc[grid.best_index_]\n",
    "\n",
    "print(grid.best_estimator_)\n",
    "display(final_metrics)\n",
    "'''"
   ]
  },
  {
   "cell_type": "code",
   "execution_count": 31,
   "metadata": {
    "scrolled": true
   },
   "outputs": [
    {
     "name": "stdout",
     "output_type": "stream",
     "text": [
      "CPU times: user 2 µs, sys: 0 ns, total: 2 µs\n",
      "Wall time: 5.01 µs\n"
     ]
    },
    {
     "data": {
      "text/plain": [
       "\"\\nmodel = LogisticRegression(solver='liblinear', random_state=42)\\n\\nparam_grid = {'max_iter': range(100, 501, 100), 'penalty': ['l2', 'l1']}\\n\\ngrid = GridSearchCV(model, param_grid, scoring=scoring, refit='recall')\\ngrid.fit(X_train_ohe, y_train_ohe)\\n\\nmetrics_columns = [f'mean_test_{x}' for x in scoring]\\nfinal_metrics = pd.DataFrame(grid.cv_results_)[metrics_columns].iloc[grid.best_index_]\\n\\nprint(grid.best_estimator_)\\ndisplay(final_metrics)\\n\""
      ]
     },
     "execution_count": 31,
     "metadata": {},
     "output_type": "execute_result"
    }
   ],
   "source": [
    "%%time\n",
    "\n",
    "# P. S. Время на исполнение данного блока кода - 14,5 минут\n",
    "\n",
    "'''\n",
    "model = LogisticRegression(solver='liblinear', random_state=42)\n",
    "\n",
    "param_grid = {'max_iter': range(100, 501, 100), 'penalty': ['l2', 'l1']}\n",
    "\n",
    "grid = GridSearchCV(model, param_grid, scoring=scoring, refit='recall')\n",
    "grid.fit(X_train_ohe, y_train_ohe)\n",
    "\n",
    "metrics_columns = [f'mean_test_{x}' for x in scoring]\n",
    "final_metrics = pd.DataFrame(grid.cv_results_)[metrics_columns].iloc[grid.best_index_]\n",
    "\n",
    "print(grid.best_estimator_)\n",
    "display(final_metrics)\n",
    "'''"
   ]
  },
  {
   "cell_type": "markdown",
   "metadata": {},
   "source": [
    "Сохраненные отдельно значения метрик по каждой из моделей (плюс наилучшее сочетание их гиперпараметров):\n",
    "\n",
    "DecisionTreeClassifier(criterion='entropy', max_depth=6, random_state=42)\n",
    "- mean_test_recall     0.479352\n",
    "- mean_test_f1         0.432736\n",
    "- mean_test_roc_auc    0.655544\n",
    "    - Среднее значение: 0.522544\n",
    "\n",
    "RandomForestClassifier(max_depth=8, n_estimators=50, random_state=42)\n",
    "- mean_test_recall     0.459280\n",
    "- mean_test_f1         0.492341\n",
    "- mean_test_roc_auc    0.655621\n",
    "    - Среднее значение: 0.535747\n",
    "\n",
    "LogisticRegression(random_state=42, solver='liblinear')\n",
    "- mean_test_recall     0.488424\n",
    "- mean_test_f1         0.490556\n",
    "- mean_test_roc_auc    0.677027\n",
    "    - Среднее значение: 0.552002"
   ]
  },
  {
   "cell_type": "markdown",
   "metadata": {},
   "source": [
    "Осуществим финальное тестирование модели логистической регрессии, поскольку и среднее значение метрик и значение основной метрики - recall - наивысшее среди рассматриваемых моделей."
   ]
  },
  {
   "cell_type": "code",
   "execution_count": 32,
   "metadata": {},
   "outputs": [
    {
     "name": "stdout",
     "output_type": "stream",
     "text": [
      "Recall: 0.576\n",
      "F1-мера: 0.646\n",
      "AUC-ROC: 0.722\n"
     ]
    }
   ],
   "source": [
    "model = LogisticRegression(random_state=42, solver='liblinear')\n",
    "model.fit(X_train_ohe, y_train_ohe)\n",
    "\n",
    "y_pred = pd.Series(model.predict(X_test_ohe))\n",
    "\n",
    "score_recall = recall_score(y_test_ohe, y_pred)\n",
    "score_f1 = f1_score(y_test_ord, y_pred)\n",
    "score_roc_auc = roc_auc_score(y_test_ohe, y_pred)\n",
    "\n",
    "print(\"Recall:\", round(score_recall, 3))\n",
    "print(\"F1-мера:\", round(score_f1, 3))\n",
    "print(\"AUC-ROC:\", round(score_roc_auc, 3))"
   ]
  },
  {
   "cell_type": "markdown",
   "metadata": {},
   "source": [
    "**Промежуточный вывод:**\n",
    "\n",
    "Наилучшие значения выбранных метрик демонстрирует именно логистическая регрессия, что подтверждается и на тестовой выборке. Ввиду этого в дальнейшем будет использована именно модель логистической регрессии для прогнозирования возможной прибыли внедрения данной системы в хозяйственную деятельность отеля."
   ]
  },
  {
   "cell_type": "markdown",
   "metadata": {},
   "source": [
    "Переменные X_train, y_train, X_test, y_test заменим на такие же, но с применением One-Hot Encoding, поскольку в дальнейшем будем работать только с логистической регрессией."
   ]
  },
  {
   "cell_type": "code",
   "execution_count": 33,
   "metadata": {},
   "outputs": [],
   "source": [
    "X_train, y_train = X_train_ohe, y_train_ohe\n",
    "X_test, y_test = X_test_ohe, y_test_ohe"
   ]
  },
  {
   "cell_type": "markdown",
   "metadata": {},
   "source": [
    "Далее рассчитаем вероятную прибыль на тестовой датасете с помощью обученной на тренировочном датасете модели логистической регрессии"
   ]
  },
  {
   "cell_type": "code",
   "execution_count": 34,
   "metadata": {},
   "outputs": [],
   "source": [
    "# Введем глобальные переменные\n",
    "\n",
    "BUDGET = 400_000\n",
    "AUTUMN_SPRING_COEF = 1.2\n",
    "SUMMER_COEF = 1.4\n",
    "DEPOSIT = 0.8\n",
    "ROOMS_TYPE = {\n",
    "    'A': {'price': 1000, 'service': 400},\n",
    "    'B': {'price': 800, 'service': 350},\n",
    "    'C': {'price': 600, 'service': 350},\n",
    "    'D': {'price': 550, 'service': 150},\n",
    "    'E': {'price': 500, 'service': 150},\n",
    "    'F': {'price': 450, 'service': 150},\n",
    "    'G': {'price': 350, 'service': 150}\n",
    "}"
   ]
  },
  {
   "cell_type": "markdown",
   "metadata": {},
   "source": [
    "Подсчитаем вероятную выручку, затраты и собственно прибыль, которую отель может получить, в двух случаях:\n",
    "- При введении системы прогнозирования отмены брони;\n",
    "- Без введения системы прогнозирования отмены брони (как есть)."
   ]
  },
  {
   "cell_type": "markdown",
   "metadata": {},
   "source": [
    "Создадим отдельную фукнцию для расчета прибыли и применим ее для расчета прибыли (убытка) для каждого из постояльцев, закрепив значение выручки с отдельно взятого клиента в столбце \"profit\""
   ]
  },
  {
   "cell_type": "code",
   "execution_count": 35,
   "metadata": {},
   "outputs": [],
   "source": [
    "def profit(row, str_type):\n",
    "    # Учет затрат и выручки с каждого клиента\n",
    "    costs_for_client = 0\n",
    "    user_payment = 0\n",
    "\n",
    "    # Отдельные переменные для каждого из необходимых столбцов \n",
    "    index = row.name\n",
    "    month = row['arrival_date_month']\n",
    "    room_type = row['reserved_room_type']\n",
    "    total_nights = row['total_nights']\n",
    "    price = ROOMS_TYPE[room_type]['price']\n",
    "    service = ROOMS_TYPE[room_type]['service']\n",
    "\n",
    "    # Учет сезонных коэффициентов в ценовой политике\n",
    "    if 3 <= month <= 5 or 9 <= month <= 11:\n",
    "        price *= AUTUMN_SPRING_COEF\n",
    "    elif 6 <= month <= 8:\n",
    "        price *= SUMMER_COEF\n",
    "    \n",
    "    if str_type == 'ml':\n",
    "        # Если система предсказывает отмену брони\n",
    "        if y_pred.iloc[index] == 1:\n",
    "            # Представим, что лишь половина согласиться внести депозит (остальные откажутся от брони вовсе)\n",
    "            if np.random.randint(2) == 1:\n",
    "                # Внесение депозита и затрат за первую ночь и обслуживание\n",
    "                user_payment += (price + service) * DEPOSIT\n",
    "                costs_for_client += price + service\n",
    "\n",
    "                # Если бронь не отменена - начисление полной стоимости и обслуживания\n",
    "                if y_test.iloc[index] == 0:\n",
    "                    user_payment += (price + service) * (1 - DEPOSIT) + (total_nights - 1) * price\n",
    "\n",
    "                    for i in range(2, total_nights, 2):\n",
    "                        costs_for_client += service\n",
    "        # Если система предсказывает покупку, и она осуществляется\n",
    "        elif y_pred.iloc[index] == 0 and y_test.iloc[index] == 0:\n",
    "            # Начисление полной стоимости и обслуживания за все дни проживаиня\n",
    "            user_payment += total_nights * price\n",
    "\n",
    "            for i in range(0, total_nights, 2):\n",
    "                costs_for_client += service\n",
    "        # Если система предсказывает покупку, но осуществлена отмена брони - начисление издержек\n",
    "        elif y_pred.iloc[index] == 0  and y_test.iloc[index] == 1:\n",
    "            costs_for_client += price + service\n",
    "        \n",
    "    elif str_type == 'no_ml': # Расчет прибыли без внедрения системы прогнозирования\n",
    "        # Если бронь осуществлена - начисление выручки и затрат\n",
    "        if y_test.iloc[index] == 0:\n",
    "            user_payment += total_nights * price\n",
    "            \n",
    "            for i in range(0, total_nights, 2):\n",
    "                costs_for_client += service\n",
    "        # Если бронь отменена - начисление затрат\n",
    "        elif y_test.iloc[index] == 1:\n",
    "            costs_for_client += price + service\n",
    "\n",
    "    revenue_from_client = user_payment - costs_for_client\n",
    "    \n",
    "    return revenue_from_client"
   ]
  },
  {
   "cell_type": "code",
   "execution_count": 36,
   "metadata": {},
   "outputs": [],
   "source": [
    "# Оставим лишь необходимые сведения для определения стоимости проживания и затрат\n",
    "hotel_test_profit = hotel_test_profit[['arrival_date_month', 'total_nights', 'reserved_room_type', 'is_canceled']]\n",
    "\n",
    "# Сохранение предсказанных моделью результатов\n",
    "model = LogisticRegression(random_state=42, solver='liblinear')\n",
    "model.fit(X_train, y_train)\n",
    "y_pred = pd.Series(model.predict(X_test))"
   ]
  },
  {
   "cell_type": "code",
   "execution_count": 37,
   "metadata": {
    "scrolled": false
   },
   "outputs": [
    {
     "name": "stdout",
     "output_type": "stream",
     "text": [
      "Прибыль - \n",
      "\tПри использовании системы прогнозирования: 39,576,638.0\n",
      "\tБез использования системы прогнозирования: 35,173,060.0\n"
     ]
    }
   ],
   "source": [
    "hotel_test_profit['profit_ml'] = hotel_test_profit.apply(lambda x: profit(x, 'ml'), axis=1)\n",
    "hotel_test_profit['profit_no_ml'] = hotel_test_profit.apply(lambda x: profit(x, 'no_ml'), axis=1)\n",
    "\n",
    "print(\"Прибыль - \")\n",
    "print(\"\\tПри использовании системы прогнозирования:\", \"{:,}\".format(hotel_test_profit['profit_ml'].sum() - BUDGET))\n",
    "print(\"\\tБез использования системы прогнозирования:\", \"{:,}\".format(hotel_test_profit['profit_no_ml'].sum()))"
   ]
  },
  {
   "cell_type": "markdown",
   "metadata": {},
   "source": [
    "Рассмотрим подробнее на диаграмме разницу между финансовыми показателями при внедрении системы прогнозирования бронирования и без ее введения\n",
    "<a name='financial_results'></a>"
   ]
  },
  {
   "cell_type": "code",
   "execution_count": 38,
   "metadata": {},
   "outputs": [
    {
     "data": {
      "image/png": "[encoded data removed]",
      "text/plain": [
       "<Figure size 504x504 with 1 Axes>"
      ]
     },
     "metadata": {
      "needs_background": "light"
     },
     "output_type": "display_data"
    }
   ],
   "source": [
    "# Отобразим на графике финансовые результаты при внедрении системы прогнозирования отмены брони и без нее\n",
    "financial_results = pd.DataFrame(\n",
    "    {\n",
    "        \"Название\": [\"С системой прогнозирования\", \"Без системы прогнозирования\"],\n",
    "        \"Прибыль\": [hotel_test_profit['profit_ml'].sum() - BUDGET, hotel_test_profit['profit_no_ml'].sum()]\n",
    "    }\n",
    ")\n",
    "\n",
    "ax = financial_results.plot(\n",
    "    x='Название',\n",
    "    y='Прибыль',\n",
    "    kind='bar',\n",
    "    grid=True,\n",
    "    figsize=(7, 7),\n",
    "    xlabel='Прибыль',\n",
    "    ylabel=\"Объем, в руб.\",\n",
    "    title='Прибыль отеля при внедрении\\n \\\n",
    "           системы прогнозирования и без нее, в руб.'\n",
    ")\n",
    "\n",
    "ax.yaxis.set_major_formatter(mpl.ticker.StrMethodFormatter('{x:,.0f}'))\n",
    "ax.get_legend().remove()\n",
    "plt.xticks(rotation=0)\n",
    "plt.show()"
   ]
  },
  {
   "cell_type": "markdown",
   "metadata": {},
   "source": [
    "**Промежуточный вывод:**\n",
    "\n",
    "Можно заметить, что введение системы прогнозирования отмены бронирования номера позволит не только сохранить имеющуюся прибыль у отеля, но и повысить ее, поскольку за счет введения депозита в размере 80% от стоимости номера за одни сутки и затрат на разовую уборку. \n",
    "\n",
    "При внедрении системы прогнозирования общая прибыль, учитывая и бюджет на внедрение в 400 000 рублей, может в конечном счете достичь около 40 млн рублей - против 35 млн рублей без ее введения (также учитывается тот факт, что примерно половина клиентов откажется от осуществления брония при запросе внесения ими депозита, если система посчитает, что они в конечном итоге отменят свою бронь).\n",
    "\n",
    "Таким образом можно сделать вывод о целесобразности введения данной системы при осуществлении бронировании клиентами номеров в отеле для снижения риска убытков от простоя номера или закупа не использованных продуктов."
   ]
  },
  {
   "cell_type": "markdown",
   "metadata": {},
   "source": [
    "<a name='unreliable_client_info'></a>\n",
    "### Шаг 5. Опишите портрет «ненадёжного» клиента"
   ]
  },
  {
   "cell_type": "markdown",
   "metadata": {},
   "source": [
    "Составит портрет \"ненадежного\" клиента на основании матрицы корреляции phik, которая была ранее  создана в разделе № 2 \"Предобработка и исследовательский анализ данных\".\n",
    "\n",
    "Поскольку, основными параметрами, которые в наибольшей степени влияют на целевой признак - отменит ли потенциальный постоялец бронь номера - являются 'lead_time' (количество дней между датой бронирования и датой прибытия), 'country' (гражданство постояльца) и total_of_special_requests (количество специальных отметок), рассмотрим преимущественно их."
   ]
  },
  {
   "cell_type": "code",
   "execution_count": 39,
   "metadata": {},
   "outputs": [
    {
     "data": {
      "text/plain": [
       "PRT    9086\n",
       "ESP     632\n",
       "FRA     504\n",
       "ITA     500\n",
       "GBR     468\n",
       "Name: country, dtype: int64"
      ]
     },
     "execution_count": 39,
     "metadata": {},
     "output_type": "execute_result"
    }
   ],
   "source": [
    "# Топ-5 стран, граждане которых больше всего отменяют бронирование номера\n",
    "\n",
    "hotel_train_clean[hotel_train_clean['is_canceled'] == 1]['country'].value_counts().head()"
   ]
  },
  {
   "cell_type": "markdown",
   "metadata": {},
   "source": [
    "Примечательно, что наибольшее количество людей, отменивших бронь комнаты, являются гражданами Португалии. На втором же месте - граждане соседней страны - испанцы. Однако, важно отметить, что первое место опережает ближайших \"преследователей\" почти в 16 раз! "
   ]
  },
  {
   "cell_type": "code",
   "execution_count": 40,
   "metadata": {},
   "outputs": [
    {
     "name": "stdout",
     "output_type": "stream",
     "text": [
      "С отменой бронирования:\n"
     ]
    },
    {
     "data": {
      "text/html": [
       "<div>\n",
       "<style scoped>\n",
       "    .dataframe tbody tr th:only-of-type {\n",
       "        vertical-align: middle;\n",
       "    }\n",
       "\n",
       "    .dataframe tbody tr th {\n",
       "        vertical-align: top;\n",
       "    }\n",
       "\n",
       "    .dataframe thead th {\n",
       "        text-align: right;\n",
       "    }\n",
       "</style>\n",
       "<table border=\"1\" class=\"dataframe\">\n",
       "  <thead>\n",
       "    <tr style=\"text-align: right;\">\n",
       "      <th></th>\n",
       "      <th>lead_time</th>\n",
       "      <th>clients_number</th>\n",
       "    </tr>\n",
       "  </thead>\n",
       "  <tbody>\n",
       "    <tr>\n",
       "      <th>68</th>\n",
       "      <td>68.0</td>\n",
       "      <td>192</td>\n",
       "    </tr>\n",
       "    <tr>\n",
       "      <th>1</th>\n",
       "      <td>1.0</td>\n",
       "      <td>160</td>\n",
       "    </tr>\n",
       "    <tr>\n",
       "      <th>0</th>\n",
       "      <td>0.0</td>\n",
       "      <td>145</td>\n",
       "    </tr>\n",
       "    <tr>\n",
       "      <th>71</th>\n",
       "      <td>71.0</td>\n",
       "      <td>133</td>\n",
       "    </tr>\n",
       "    <tr>\n",
       "      <th>113</th>\n",
       "      <td>113.0</td>\n",
       "      <td>131</td>\n",
       "    </tr>\n",
       "    <tr>\n",
       "      <th>188</th>\n",
       "      <td>188.0</td>\n",
       "      <td>130</td>\n",
       "    </tr>\n",
       "    <tr>\n",
       "      <th>39</th>\n",
       "      <td>39.0</td>\n",
       "      <td>125</td>\n",
       "    </tr>\n",
       "    <tr>\n",
       "      <th>56</th>\n",
       "      <td>56.0</td>\n",
       "      <td>125</td>\n",
       "    </tr>\n",
       "    <tr>\n",
       "      <th>158</th>\n",
       "      <td>158.0</td>\n",
       "      <td>116</td>\n",
       "    </tr>\n",
       "    <tr>\n",
       "      <th>99</th>\n",
       "      <td>99.0</td>\n",
       "      <td>105</td>\n",
       "    </tr>\n",
       "  </tbody>\n",
       "</table>\n",
       "</div>"
      ],
      "text/plain": [
       "     lead_time  clients_number\n",
       "68        68.0             192\n",
       "1          1.0             160\n",
       "0          0.0             145\n",
       "71        71.0             133\n",
       "113      113.0             131\n",
       "188      188.0             130\n",
       "39        39.0             125\n",
       "56        56.0             125\n",
       "158      158.0             116\n",
       "99        99.0             105"
      ]
     },
     "metadata": {},
     "output_type": "display_data"
    },
    {
     "name": "stdout",
     "output_type": "stream",
     "text": [
      "Медианное время между прибытием и бронированием: 163.5 \n",
      "\n",
      "\n",
      "Без отмены бронирования:\n"
     ]
    },
    {
     "data": {
      "text/html": [
       "<div>\n",
       "<style scoped>\n",
       "    .dataframe tbody tr th:only-of-type {\n",
       "        vertical-align: middle;\n",
       "    }\n",
       "\n",
       "    .dataframe tbody tr th {\n",
       "        vertical-align: top;\n",
       "    }\n",
       "\n",
       "    .dataframe thead th {\n",
       "        text-align: right;\n",
       "    }\n",
       "</style>\n",
       "<table border=\"1\" class=\"dataframe\">\n",
       "  <thead>\n",
       "    <tr style=\"text-align: right;\">\n",
       "      <th></th>\n",
       "      <th>lead_time</th>\n",
       "      <th>clients_number</th>\n",
       "    </tr>\n",
       "  </thead>\n",
       "  <tbody>\n",
       "    <tr>\n",
       "      <th>0</th>\n",
       "      <td>0.0</td>\n",
       "      <td>1845</td>\n",
       "    </tr>\n",
       "    <tr>\n",
       "      <th>1</th>\n",
       "      <td>1.0</td>\n",
       "      <td>1048</td>\n",
       "    </tr>\n",
       "    <tr>\n",
       "      <th>2</th>\n",
       "      <td>2.0</td>\n",
       "      <td>624</td>\n",
       "    </tr>\n",
       "    <tr>\n",
       "      <th>3</th>\n",
       "      <td>3.0</td>\n",
       "      <td>537</td>\n",
       "    </tr>\n",
       "    <tr>\n",
       "      <th>4</th>\n",
       "      <td>4.0</td>\n",
       "      <td>519</td>\n",
       "    </tr>\n",
       "    <tr>\n",
       "      <th>5</th>\n",
       "      <td>5.0</td>\n",
       "      <td>442</td>\n",
       "    </tr>\n",
       "    <tr>\n",
       "      <th>6</th>\n",
       "      <td>6.0</td>\n",
       "      <td>367</td>\n",
       "    </tr>\n",
       "    <tr>\n",
       "      <th>7</th>\n",
       "      <td>7.0</td>\n",
       "      <td>309</td>\n",
       "    </tr>\n",
       "    <tr>\n",
       "      <th>9</th>\n",
       "      <td>9.0</td>\n",
       "      <td>259</td>\n",
       "    </tr>\n",
       "    <tr>\n",
       "      <th>12</th>\n",
       "      <td>12.0</td>\n",
       "      <td>255</td>\n",
       "    </tr>\n",
       "  </tbody>\n",
       "</table>\n",
       "</div>"
      ],
      "text/plain": [
       "    lead_time  clients_number\n",
       "0         0.0            1845\n",
       "1         1.0            1048\n",
       "2         2.0             624\n",
       "3         3.0             537\n",
       "4         4.0             519\n",
       "5         5.0             442\n",
       "6         6.0             367\n",
       "7         7.0             309\n",
       "9         9.0             259\n",
       "12       12.0             255"
      ]
     },
     "metadata": {},
     "output_type": "display_data"
    },
    {
     "name": "stdout",
     "output_type": "stream",
     "text": [
      "Медианное время между прибытием и бронированием: 157.5\n"
     ]
    }
   ],
   "source": [
    "# Количество потенциальных клиентов, отменивших бронь, по времени между датами бронирования и прибытия\n",
    "\n",
    "lead_time_df = hotel_train_clean[hotel_train_clean['is_canceled'] == 1].pivot_table(\n",
    "    index='lead_time', values='adults', aggfunc='count'\n",
    ").reset_index()\n",
    "lead_time_df.columns = ['lead_time', 'clients_number']\n",
    "\n",
    "lead_time_wo_df = hotel_train_clean[hotel_train_clean['is_canceled'] == 0].pivot_table(\n",
    "    index='lead_time', values='adults', aggfunc='count'\n",
    ").reset_index()\n",
    "lead_time_wo_df.columns = ['lead_time', 'clients_number']\n",
    "\n",
    "print('С отменой бронирования:')\n",
    "display(lead_time_df.sort_values(by='clients_number', ascending=False).head(10))\n",
    "print(\"Медианное время между прибытием и бронированием:\", lead_time_df['lead_time'].median(), \"\\n\\n\")\n",
    "\n",
    "print('Без отмены бронирования:')\n",
    "display(lead_time_wo_df.sort_values(by='clients_number', ascending=False).head(10))\n",
    "print(\"Медианное время между прибытием и бронированием:\", lead_time_wo_df['lead_time'].median())"
   ]
  },
  {
   "cell_type": "markdown",
   "metadata": {},
   "source": [
    "Важно отметить, что время между бронированием и прибытием также играет важную роль. И хотя медианное время между теми, кто отменил бронирование номера и те, кто все же этого не сделал сильно не отличается - 181 и 179 соответственно, тем не менее, можно заметить, что волатильность значений в первом случае намного больше. Можно сделать вывод, что человек с большей вероятностью отменит, если медианное время между прибытием и бронированием больше."
   ]
  },
  {
   "cell_type": "code",
   "execution_count": 41,
   "metadata": {},
   "outputs": [
    {
     "data": {
      "text/plain": [
       "'Количество пометок по клиентам, отменивших бронь:'"
      ]
     },
     "metadata": {},
     "output_type": "display_data"
    },
    {
     "data": {
      "text/html": [
       "<div>\n",
       "<style scoped>\n",
       "    .dataframe tbody tr th:only-of-type {\n",
       "        vertical-align: middle;\n",
       "    }\n",
       "\n",
       "    .dataframe tbody tr th {\n",
       "        vertical-align: top;\n",
       "    }\n",
       "\n",
       "    .dataframe thead th {\n",
       "        text-align: right;\n",
       "    }\n",
       "</style>\n",
       "<table border=\"1\" class=\"dataframe\">\n",
       "  <thead>\n",
       "    <tr style=\"text-align: right;\">\n",
       "      <th></th>\n",
       "      <th>total_of_special_requests</th>\n",
       "      <th>clients_number</th>\n",
       "    </tr>\n",
       "  </thead>\n",
       "  <tbody>\n",
       "    <tr>\n",
       "      <th>0</th>\n",
       "      <td>0</td>\n",
       "      <td>11082</td>\n",
       "    </tr>\n",
       "    <tr>\n",
       "      <th>1</th>\n",
       "      <td>1</td>\n",
       "      <td>1579</td>\n",
       "    </tr>\n",
       "    <tr>\n",
       "      <th>2</th>\n",
       "      <td>2</td>\n",
       "      <td>479</td>\n",
       "    </tr>\n",
       "    <tr>\n",
       "      <th>3</th>\n",
       "      <td>3</td>\n",
       "      <td>65</td>\n",
       "    </tr>\n",
       "    <tr>\n",
       "      <th>4</th>\n",
       "      <td>4</td>\n",
       "      <td>1</td>\n",
       "    </tr>\n",
       "  </tbody>\n",
       "</table>\n",
       "</div>"
      ],
      "text/plain": [
       "   total_of_special_requests  clients_number\n",
       "0                          0           11082\n",
       "1                          1            1579\n",
       "2                          2             479\n",
       "3                          3              65\n",
       "4                          4               1"
      ]
     },
     "metadata": {},
     "output_type": "display_data"
    },
    {
     "data": {
      "text/plain": [
       "'Количество пометок по клиентам, не отменивших бронь:'"
      ]
     },
     "metadata": {},
     "output_type": "display_data"
    },
    {
     "data": {
      "text/html": [
       "<div>\n",
       "<style scoped>\n",
       "    .dataframe tbody tr th:only-of-type {\n",
       "        vertical-align: middle;\n",
       "    }\n",
       "\n",
       "    .dataframe tbody tr th {\n",
       "        vertical-align: top;\n",
       "    }\n",
       "\n",
       "    .dataframe thead th {\n",
       "        text-align: right;\n",
       "    }\n",
       "</style>\n",
       "<table border=\"1\" class=\"dataframe\">\n",
       "  <thead>\n",
       "    <tr style=\"text-align: right;\">\n",
       "      <th></th>\n",
       "      <th>total_of_special_requests</th>\n",
       "      <th>clients_number</th>\n",
       "    </tr>\n",
       "  </thead>\n",
       "  <tbody>\n",
       "    <tr>\n",
       "      <th>0</th>\n",
       "      <td>0</td>\n",
       "      <td>11296</td>\n",
       "    </tr>\n",
       "    <tr>\n",
       "      <th>1</th>\n",
       "      <td>1</td>\n",
       "      <td>8334</td>\n",
       "    </tr>\n",
       "    <tr>\n",
       "      <th>2</th>\n",
       "      <td>2</td>\n",
       "      <td>2552</td>\n",
       "    </tr>\n",
       "    <tr>\n",
       "      <th>3</th>\n",
       "      <td>3</td>\n",
       "      <td>351</td>\n",
       "    </tr>\n",
       "    <tr>\n",
       "      <th>4</th>\n",
       "      <td>4</td>\n",
       "      <td>34</td>\n",
       "    </tr>\n",
       "    <tr>\n",
       "      <th>5</th>\n",
       "      <td>5</td>\n",
       "      <td>1</td>\n",
       "    </tr>\n",
       "  </tbody>\n",
       "</table>\n",
       "</div>"
      ],
      "text/plain": [
       "   total_of_special_requests  clients_number\n",
       "0                          0           11296\n",
       "1                          1            8334\n",
       "2                          2            2552\n",
       "3                          3             351\n",
       "4                          4              34\n",
       "5                          5               1"
      ]
     },
     "metadata": {},
     "output_type": "display_data"
    }
   ],
   "source": [
    "total_requests_cancel_df = hotel_train_clean[hotel_train_clean['is_canceled'] == 1].pivot_table(\n",
    "    index='total_of_special_requests', values='adults', aggfunc='count'\n",
    ").reset_index()\n",
    "total_requests_cancel_df.columns = ['total_of_special_requests', 'clients_number']\n",
    "\n",
    "total_requests_df = hotel_train_clean[hotel_train_clean['is_canceled'] == 0].pivot_table(\n",
    "    index='total_of_special_requests', values='adults', aggfunc='count'\n",
    ").reset_index()\n",
    "total_requests_df.columns = ['total_of_special_requests', 'clients_number']\n",
    "\n",
    "display(\"Количество пометок по клиентам, отменивших бронь:\", \n",
    "        total_requests_cancel_df.sort_values(by='clients_number', ascending=False))\n",
    "display(\"Количество пометок по клиентам, не отменивших бронь:\", \n",
    "        total_requests_df.sort_values(by='clients_number', ascending=False))"
   ]
  },
  {
   "cell_type": "markdown",
   "metadata": {},
   "source": [
    "Примечательно, что количество отметок у потенциальных постояльцев преимущественно равняется 0 (как и в случае с теми, кто не отменил бронь), однако, отношение к другому количеству специальных отметок (до 5 включительно) разное в двух случаях. Ввиду этого можно сделать вывод о том, что человек, не отметивший никаких специальных отметок с большей вероятностью отменить бронь, чем тот, кто указал какие-то из них."
   ]
  },
  {
   "cell_type": "markdown",
   "metadata": {},
   "source": [
    "**Вывод:**\n",
    "\n",
    "\"Ненадежного\" клиента можно характеризовтаь следующий образом:\n",
    "- Является уроженцев Португалии (с большей вероятностью) или Испании\n",
    "- Довольно заранее осуществляет бронь комнаты отеля\n",
    "- Не отмечает никаких специальных пометок\n",
    "\n",
    "Остальные параметры также можно рассмотреть, однако, в соответствии с матрицей корреляции phik они не играют такую же значимую роль, как рассмотренные ранее параметры."
   ]
  },
  {
   "cell_type": "markdown",
   "metadata": {},
   "source": [
    "<a name='conclusion'></a>\n",
    "### Шаг 6. Напишите общий вывод"
   ]
  },
  {
   "cell_type": "markdown",
   "metadata": {},
   "source": [
    "В рамках данного проекта была взята база данных о клиентах отеля с различными признаками о них, а также целевым показателем - отменили ли они бронь. Поскольку отель получает убытки ввиду того, что потенциальный постоялец отменяет бронь (как стоимость одного дня проживания в номере, а также разовое обслуживание), то необходимо разработать такую систему, которая бы прогнозировала, будет ли клиентом отменена бронь. В случае, если модель определяет потребителя как \"ненадежного\", ему необходимо внести депозит в 80% от стоимости одного дня проживания и разового обслуживания.\n",
    "\n",
    "Первоначально была осуществлена предобработка: не было выявлено никаких аномальных значений, была осуществлена корректировка значений по категориальным столбцам с помощью функции strip(). С помощью исследовательского анализа данных было определно, что наибольшую роль при определении значения целевого признака играют такие параметры, как \"гражданство постояльца\", \"период времени между бронированием и прибытием\" и \"количество специальных отметок\". \n",
    "\n",
    "Были определены следующие важные метрики для данной бизнес-задачи: recall, F1-мера и AUC-ROC. \n",
    "Наилучшей моделью получилась логистическая регрессия с таким гиперпараметром, как solver = 'liblinear', со следующими значениями данных показателей на тестовой выборке: recall - 0.488, F1-мера - 0.491, AUC-ROC - 0.677. На тестовой же выборке данные показатели логистической регрессии составили: recall - 0.576, F1-мера - 0.646, AUC-ROC - 0.722.\n",
    "\n",
    "Окончательным шагом проекта был расчет прибыльности внедрения системы.\n",
    "\n",
    "Прибыль (значения могут незначительно разниться, т. к. используется случайность):\n",
    "- При внедрении системы прогнозирования - 39 739 710 руб;\n",
    "- Без введения системы прогнозирования - 35 173 060.\n",
    "\n",
    "Разница в прибыли при внедрении системы прогнозирования отмены брони превышает изначальную на примерно 5 млн рублей, а затраты - лишь на 400 000 (бюджет внедрения системы прогнозирования бронирования). Увеличение прибыли возможно именно за счет увеличения выручки, что осуществляется при помощи учета депозитов \"ненадежных\" клиентов.\n",
    "\n",
    "[Перейти к диаграмме разницы в финансовых результатах в двух случаях](#financial_results)\n",
    "\n",
    "\"Ненадежный\" клиент преимущественно отличается следующими характеристиками:\n",
    "- Является уроженцев Португалии (с большей вероятностью) или Испании\n",
    "- Довольно заранее осуществляет бронь комнаты отеля\n",
    "- Не отмечает никаких специальных пометок\n",
    "\n",
    "**Рекомендации:**\n",
    "\n",
    "Рекомендуется внедрить системы прогнозирования отмены брони, в основе которой лежит модель логистической регрессии с применением прямого способа кодирования (One-Hot Encoding). Повышение издержек на 400 000 нивелируется значительным повышением прибыли, что является важнейшим финансовым показателем для любой организации."
   ]
  },
  {
   "cell_type": "markdown",
   "metadata": {},
   "source": [
    "[Вернуться к введению](#introduction)"
   ]
  },
  {
   "cell_type": "code",
   "execution_count": null,
   "metadata": {},
   "outputs": [],
   "source": []
  }
 ],
 "metadata": {
  "ExecuteTimeLog": [
   {
    "duration": 562,
    "start_time": "2022-12-20T17:06:22.678Z"
   },
   {
    "duration": 511,
    "start_time": "2022-12-20T17:06:47.812Z"
   },
   {
    "duration": 61,
    "start_time": "2022-12-20T17:07:10.539Z"
   },
   {
    "duration": 28,
    "start_time": "2022-12-20T17:07:13.363Z"
   },
   {
    "duration": 25,
    "start_time": "2022-12-20T17:08:17.681Z"
   },
   {
    "duration": 23,
    "start_time": "2022-12-20T17:08:28.121Z"
   },
   {
    "duration": 36,
    "start_time": "2022-12-20T17:08:51.425Z"
   },
   {
    "duration": 10,
    "start_time": "2022-12-20T17:09:02.561Z"
   },
   {
    "duration": 6,
    "start_time": "2022-12-20T17:09:13.633Z"
   },
   {
    "duration": 7,
    "start_time": "2022-12-20T17:09:18.938Z"
   },
   {
    "duration": 8,
    "start_time": "2022-12-20T17:09:44.434Z"
   },
   {
    "duration": 8,
    "start_time": "2022-12-20T17:09:48.065Z"
   },
   {
    "duration": 6,
    "start_time": "2022-12-20T17:09:54.874Z"
   },
   {
    "duration": 6,
    "start_time": "2022-12-20T17:10:02.266Z"
   },
   {
    "duration": 8,
    "start_time": "2022-12-20T17:10:21.739Z"
   },
   {
    "duration": 6,
    "start_time": "2022-12-20T17:10:31.152Z"
   },
   {
    "duration": 18,
    "start_time": "2022-12-20T17:10:56.727Z"
   },
   {
    "duration": 28,
    "start_time": "2022-12-20T17:11:03.175Z"
   },
   {
    "duration": 6,
    "start_time": "2022-12-20T17:11:43.753Z"
   },
   {
    "duration": 46,
    "start_time": "2022-12-20T17:12:53.241Z"
   },
   {
    "duration": 238,
    "start_time": "2022-12-20T17:12:57.433Z"
   },
   {
    "duration": 8,
    "start_time": "2022-12-20T17:14:32.075Z"
   },
   {
    "duration": 10,
    "start_time": "2022-12-20T17:14:38.360Z"
   },
   {
    "duration": 8113,
    "start_time": "2022-12-20T17:17:18.439Z"
   },
   {
    "duration": 647,
    "start_time": "2022-12-20T17:18:35.002Z"
   },
   {
    "duration": 29,
    "start_time": "2022-12-20T17:18:35.651Z"
   },
   {
    "duration": 14,
    "start_time": "2022-12-20T17:18:35.682Z"
   },
   {
    "duration": 79,
    "start_time": "2022-12-20T17:18:35.698Z"
   },
   {
    "duration": 0,
    "start_time": "2022-12-20T17:18:35.778Z"
   },
   {
    "duration": 30,
    "start_time": "2022-12-20T17:18:47.049Z"
   },
   {
    "duration": 9,
    "start_time": "2022-12-20T17:19:14.323Z"
   },
   {
    "duration": 47,
    "start_time": "2022-12-20T17:19:18.857Z"
   },
   {
    "duration": 60,
    "start_time": "2022-12-20T17:19:27.154Z"
   },
   {
    "duration": 8,
    "start_time": "2022-12-20T17:20:07.780Z"
   },
   {
    "duration": 8,
    "start_time": "2022-12-20T17:20:34.442Z"
   },
   {
    "duration": 51,
    "start_time": "2022-12-20T17:20:58.883Z"
   },
   {
    "duration": 69,
    "start_time": "2022-12-20T17:21:12.340Z"
   },
   {
    "duration": 54,
    "start_time": "2022-12-20T17:21:29.724Z"
   },
   {
    "duration": 3542,
    "start_time": "2022-12-20T17:21:34.413Z"
   },
   {
    "duration": 41,
    "start_time": "2022-12-20T17:22:20.088Z"
   },
   {
    "duration": 50,
    "start_time": "2022-12-20T17:22:28.174Z"
   },
   {
    "duration": 59,
    "start_time": "2022-12-20T17:22:43.718Z"
   },
   {
    "duration": 56,
    "start_time": "2022-12-20T17:22:50.734Z"
   },
   {
    "duration": 65,
    "start_time": "2022-12-20T17:22:53.022Z"
   },
   {
    "duration": 77,
    "start_time": "2022-12-20T17:22:59.576Z"
   },
   {
    "duration": 46,
    "start_time": "2022-12-20T17:23:09.144Z"
   },
   {
    "duration": 40,
    "start_time": "2022-12-20T17:23:26.387Z"
   },
   {
    "duration": 52,
    "start_time": "2022-12-20T17:23:36.870Z"
   },
   {
    "duration": 53,
    "start_time": "2022-12-20T17:23:39.436Z"
   },
   {
    "duration": 4023,
    "start_time": "2022-12-20T17:23:50.256Z"
   },
   {
    "duration": 6075,
    "start_time": "2022-12-20T17:23:59.081Z"
   },
   {
    "duration": 9,
    "start_time": "2022-12-20T17:24:55.593Z"
   },
   {
    "duration": 25,
    "start_time": "2022-12-20T17:24:59.345Z"
   },
   {
    "duration": 11,
    "start_time": "2022-12-20T17:25:25.863Z"
   },
   {
    "duration": 48,
    "start_time": "2022-12-20T17:25:44.545Z"
   },
   {
    "duration": 9,
    "start_time": "2022-12-20T17:25:49.096Z"
   },
   {
    "duration": 676,
    "start_time": "2022-12-20T17:27:13.483Z"
   },
   {
    "duration": 52,
    "start_time": "2022-12-20T17:28:41.269Z"
   },
   {
    "duration": 18,
    "start_time": "2022-12-20T17:28:52.493Z"
   },
   {
    "duration": 6,
    "start_time": "2022-12-20T17:28:59.045Z"
   },
   {
    "duration": 53,
    "start_time": "2022-12-20T17:29:10.788Z"
   },
   {
    "duration": 13,
    "start_time": "2022-12-20T17:30:26.959Z"
   },
   {
    "duration": 5,
    "start_time": "2022-12-20T17:30:28.390Z"
   },
   {
    "duration": 761,
    "start_time": "2022-12-20T17:30:33.924Z"
   },
   {
    "duration": 51,
    "start_time": "2022-12-20T17:30:34.688Z"
   },
   {
    "duration": 18,
    "start_time": "2022-12-20T17:30:34.742Z"
   },
   {
    "duration": 485,
    "start_time": "2022-12-20T17:30:34.762Z"
   },
   {
    "duration": 0,
    "start_time": "2022-12-20T17:30:35.249Z"
   },
   {
    "duration": 0,
    "start_time": "2022-12-20T17:30:35.251Z"
   },
   {
    "duration": 4,
    "start_time": "2022-12-20T17:33:34.202Z"
   },
   {
    "duration": 10,
    "start_time": "2022-12-20T17:33:34.402Z"
   },
   {
    "duration": 1172,
    "start_time": "2022-12-20T17:33:37.867Z"
   },
   {
    "duration": 0,
    "start_time": "2022-12-20T17:33:39.041Z"
   },
   {
    "duration": 17,
    "start_time": "2022-12-20T17:33:54.779Z"
   },
   {
    "duration": 6,
    "start_time": "2022-12-20T17:33:55.897Z"
   },
   {
    "duration": 73,
    "start_time": "2022-12-20T17:34:03.922Z"
   },
   {
    "duration": 18,
    "start_time": "2022-12-20T17:34:26.404Z"
   },
   {
    "duration": 23,
    "start_time": "2022-12-20T17:35:00.896Z"
   },
   {
    "duration": 8,
    "start_time": "2022-12-20T17:35:01.740Z"
   },
   {
    "duration": 17,
    "start_time": "2022-12-20T17:35:30.039Z"
   },
   {
    "duration": 17,
    "start_time": "2022-12-20T17:35:36.469Z"
   },
   {
    "duration": 65,
    "start_time": "2022-12-20T17:36:14.582Z"
   },
   {
    "duration": 251,
    "start_time": "2022-12-20T17:36:17.677Z"
   },
   {
    "duration": 272,
    "start_time": "2022-12-20T17:36:28.059Z"
   },
   {
    "duration": 12,
    "start_time": "2022-12-20T17:36:46.542Z"
   },
   {
    "duration": 6,
    "start_time": "2022-12-20T17:36:47.237Z"
   },
   {
    "duration": 614,
    "start_time": "2022-12-20T17:37:04.680Z"
   },
   {
    "duration": 29,
    "start_time": "2022-12-20T17:37:05.296Z"
   },
   {
    "duration": 24,
    "start_time": "2022-12-20T17:37:05.327Z"
   },
   {
    "duration": 28,
    "start_time": "2022-12-20T17:37:05.353Z"
   },
   {
    "duration": 70,
    "start_time": "2022-12-20T17:37:05.383Z"
   },
   {
    "duration": 111,
    "start_time": "2022-12-20T17:38:51.392Z"
   },
   {
    "duration": 5499,
    "start_time": "2022-12-20T17:38:54.833Z"
   },
   {
    "duration": 50,
    "start_time": "2022-12-20T17:39:23.291Z"
   },
   {
    "duration": 53,
    "start_time": "2022-12-20T17:39:31.690Z"
   },
   {
    "duration": 40,
    "start_time": "2022-12-20T17:39:37.329Z"
   },
   {
    "duration": 45,
    "start_time": "2022-12-20T17:39:45.954Z"
   },
   {
    "duration": 705,
    "start_time": "2022-12-20T17:39:57.800Z"
   },
   {
    "duration": 29,
    "start_time": "2022-12-20T17:39:58.507Z"
   },
   {
    "duration": 17,
    "start_time": "2022-12-20T17:39:58.538Z"
   },
   {
    "duration": 119,
    "start_time": "2022-12-20T17:39:58.557Z"
   },
   {
    "duration": 0,
    "start_time": "2022-12-20T17:39:58.677Z"
   },
   {
    "duration": 46,
    "start_time": "2022-12-20T17:40:07.472Z"
   },
   {
    "duration": 57,
    "start_time": "2022-12-20T17:40:16.345Z"
   },
   {
    "duration": 53,
    "start_time": "2022-12-20T17:40:29.170Z"
   },
   {
    "duration": 39,
    "start_time": "2022-12-20T17:40:34.495Z"
   },
   {
    "duration": 41,
    "start_time": "2022-12-20T17:40:36.601Z"
   },
   {
    "duration": 38,
    "start_time": "2022-12-20T17:40:39.591Z"
   },
   {
    "duration": 43,
    "start_time": "2022-12-20T17:40:46.760Z"
   },
   {
    "duration": 49,
    "start_time": "2022-12-20T17:41:21.850Z"
   },
   {
    "duration": 38,
    "start_time": "2022-12-20T17:41:36.035Z"
   },
   {
    "duration": 3,
    "start_time": "2022-12-20T17:42:08.494Z"
   },
   {
    "duration": 40,
    "start_time": "2022-12-20T17:42:17.907Z"
   },
   {
    "duration": 47,
    "start_time": "2022-12-20T17:42:32.051Z"
   },
   {
    "duration": 41,
    "start_time": "2022-12-20T17:42:40.003Z"
   },
   {
    "duration": 382,
    "start_time": "2022-12-20T17:43:24.909Z"
   },
   {
    "duration": 36,
    "start_time": "2022-12-20T17:44:33.926Z"
   },
   {
    "duration": 52,
    "start_time": "2022-12-20T17:45:00.696Z"
   },
   {
    "duration": 40,
    "start_time": "2022-12-20T17:45:04.215Z"
   },
   {
    "duration": 49,
    "start_time": "2022-12-20T17:45:10.304Z"
   },
   {
    "duration": 42,
    "start_time": "2022-12-20T17:45:18.505Z"
   },
   {
    "duration": 66,
    "start_time": "2022-12-20T17:45:26.144Z"
   },
   {
    "duration": 37,
    "start_time": "2022-12-20T17:45:30.455Z"
   },
   {
    "duration": 661,
    "start_time": "2022-12-20T17:45:35.302Z"
   },
   {
    "duration": 30,
    "start_time": "2022-12-20T17:45:35.965Z"
   },
   {
    "duration": 16,
    "start_time": "2022-12-20T17:45:35.997Z"
   },
   {
    "duration": 66,
    "start_time": "2022-12-20T17:45:36.035Z"
   },
   {
    "duration": 43,
    "start_time": "2022-12-20T17:45:36.103Z"
   },
   {
    "duration": 113,
    "start_time": "2022-12-20T17:45:51.234Z"
   },
   {
    "duration": 671,
    "start_time": "2022-12-20T17:45:55.354Z"
   },
   {
    "duration": 40,
    "start_time": "2022-12-20T17:45:56.027Z"
   },
   {
    "duration": 17,
    "start_time": "2022-12-20T17:45:56.069Z"
   },
   {
    "duration": 80,
    "start_time": "2022-12-20T17:45:56.089Z"
   },
   {
    "duration": 28,
    "start_time": "2022-12-20T17:45:56.171Z"
   },
   {
    "duration": 706,
    "start_time": "2022-12-20T17:46:20.208Z"
   },
   {
    "duration": 29,
    "start_time": "2022-12-20T17:46:20.917Z"
   },
   {
    "duration": 15,
    "start_time": "2022-12-20T17:46:20.948Z"
   },
   {
    "duration": 82,
    "start_time": "2022-12-20T17:46:20.965Z"
   },
   {
    "duration": 28,
    "start_time": "2022-12-20T17:46:21.049Z"
   },
   {
    "duration": 108,
    "start_time": "2022-12-20T17:46:32.137Z"
   },
   {
    "duration": 45,
    "start_time": "2022-12-20T17:46:37.337Z"
   },
   {
    "duration": 6,
    "start_time": "2022-12-20T17:46:39.654Z"
   },
   {
    "duration": 737,
    "start_time": "2022-12-20T17:46:52.107Z"
   },
   {
    "duration": 28,
    "start_time": "2022-12-20T17:46:52.846Z"
   },
   {
    "duration": 14,
    "start_time": "2022-12-20T17:46:52.876Z"
   },
   {
    "duration": 68536,
    "start_time": "2022-12-20T17:46:52.892Z"
   },
   {
    "duration": 9,
    "start_time": "2022-12-20T17:48:01.430Z"
   },
   {
    "duration": 59,
    "start_time": "2022-12-20T17:48:01.441Z"
   },
   {
    "duration": 9,
    "start_time": "2022-12-20T17:50:23.687Z"
   },
   {
    "duration": 4,
    "start_time": "2022-12-20T17:50:37.594Z"
   },
   {
    "duration": 45,
    "start_time": "2022-12-20T17:50:42.646Z"
   },
   {
    "duration": 6,
    "start_time": "2022-12-20T17:50:54.054Z"
   },
   {
    "duration": 673,
    "start_time": "2022-12-20T17:51:22.742Z"
   },
   {
    "duration": 30,
    "start_time": "2022-12-20T17:51:23.417Z"
   },
   {
    "duration": 15,
    "start_time": "2022-12-20T17:51:23.450Z"
   },
   {
    "duration": 68653,
    "start_time": "2022-12-20T17:51:23.467Z"
   },
   {
    "duration": 8,
    "start_time": "2022-12-20T17:52:32.121Z"
   },
   {
    "duration": 28,
    "start_time": "2022-12-20T17:52:32.136Z"
   },
   {
    "duration": 19,
    "start_time": "2022-12-20T17:56:09.829Z"
   },
   {
    "duration": 80,
    "start_time": "2022-12-20T17:56:40.686Z"
   },
   {
    "duration": 63,
    "start_time": "2022-12-20T17:56:51.733Z"
   },
   {
    "duration": 46,
    "start_time": "2022-12-20T17:56:53.967Z"
   },
   {
    "duration": 9,
    "start_time": "2022-12-20T17:57:12.993Z"
   },
   {
    "duration": 27,
    "start_time": "2022-12-20T17:57:19.815Z"
   },
   {
    "duration": 695,
    "start_time": "2022-12-20T17:57:34.953Z"
   },
   {
    "duration": 31,
    "start_time": "2022-12-20T17:57:35.651Z"
   },
   {
    "duration": 17,
    "start_time": "2022-12-20T17:57:35.684Z"
   },
   {
    "duration": 69259,
    "start_time": "2022-12-20T17:57:35.703Z"
   },
   {
    "duration": 6,
    "start_time": "2022-12-20T17:58:44.964Z"
   },
   {
    "duration": 43,
    "start_time": "2022-12-20T17:58:44.972Z"
   },
   {
    "duration": 0,
    "start_time": "2022-12-20T17:58:45.029Z"
   },
   {
    "duration": 32,
    "start_time": "2022-12-20T18:00:07.857Z"
   },
   {
    "duration": 7,
    "start_time": "2022-12-20T18:00:28.513Z"
   },
   {
    "duration": 11,
    "start_time": "2022-12-20T18:00:34.170Z"
   },
   {
    "duration": 4,
    "start_time": "2022-12-20T18:00:51.658Z"
   },
   {
    "duration": 10,
    "start_time": "2022-12-20T18:01:56.228Z"
   },
   {
    "duration": 7,
    "start_time": "2022-12-20T18:03:31.181Z"
   },
   {
    "duration": 9,
    "start_time": "2022-12-20T18:03:42.614Z"
   },
   {
    "duration": 7,
    "start_time": "2022-12-20T18:04:09.766Z"
   },
   {
    "duration": 667,
    "start_time": "2022-12-20T18:04:26.349Z"
   },
   {
    "duration": 28,
    "start_time": "2022-12-20T18:04:27.019Z"
   },
   {
    "duration": 14,
    "start_time": "2022-12-20T18:04:27.051Z"
   },
   {
    "duration": 66303,
    "start_time": "2022-12-20T18:04:27.067Z"
   },
   {
    "duration": 6,
    "start_time": "2022-12-20T18:05:33.372Z"
   },
   {
    "duration": 30,
    "start_time": "2022-12-20T18:05:33.380Z"
   },
   {
    "duration": 87,
    "start_time": "2022-12-20T18:05:33.411Z"
   },
   {
    "duration": 800,
    "start_time": "2022-12-20T18:06:26.234Z"
   },
   {
    "duration": 10,
    "start_time": "2022-12-20T18:06:44.059Z"
   },
   {
    "duration": 10,
    "start_time": "2022-12-20T18:07:09.563Z"
   },
   {
    "duration": 41,
    "start_time": "2022-12-20T18:07:24.786Z"
   },
   {
    "duration": 27,
    "start_time": "2022-12-20T18:07:30.809Z"
   },
   {
    "duration": 35,
    "start_time": "2022-12-20T18:08:08.356Z"
   },
   {
    "duration": 25,
    "start_time": "2022-12-20T18:08:09.842Z"
   },
   {
    "duration": 48,
    "start_time": "2022-12-20T18:09:42.852Z"
   },
   {
    "duration": 28,
    "start_time": "2022-12-20T18:09:46.334Z"
   },
   {
    "duration": 15,
    "start_time": "2022-12-20T18:10:02.565Z"
   },
   {
    "duration": 22,
    "start_time": "2022-12-20T18:10:03.748Z"
   },
   {
    "duration": 13,
    "start_time": "2022-12-20T18:10:52.165Z"
   },
   {
    "duration": 21,
    "start_time": "2022-12-20T18:14:19.105Z"
   },
   {
    "duration": 9,
    "start_time": "2022-12-20T18:16:44.755Z"
   },
   {
    "duration": 237,
    "start_time": "2022-12-20T18:16:48.741Z"
   },
   {
    "duration": 18,
    "start_time": "2022-12-20T18:16:51.331Z"
   },
   {
    "duration": 8,
    "start_time": "2022-12-20T18:18:11.584Z"
   },
   {
    "duration": 47,
    "start_time": "2022-12-20T18:18:13.032Z"
   },
   {
    "duration": 7,
    "start_time": "2022-12-20T18:18:13.225Z"
   },
   {
    "duration": 4,
    "start_time": "2022-12-20T18:18:19.541Z"
   },
   {
    "duration": 4189,
    "start_time": "2022-12-20T18:18:21.925Z"
   },
   {
    "duration": 11,
    "start_time": "2022-12-20T18:18:42.983Z"
   },
   {
    "duration": 784,
    "start_time": "2022-12-20T18:19:10.686Z"
   },
   {
    "duration": 653,
    "start_time": "2022-12-20T18:19:25.451Z"
   },
   {
    "duration": 36,
    "start_time": "2022-12-20T18:19:26.106Z"
   },
   {
    "duration": 17,
    "start_time": "2022-12-20T18:19:26.143Z"
   },
   {
    "duration": 74,
    "start_time": "2022-12-20T18:19:26.162Z"
   },
   {
    "duration": 0,
    "start_time": "2022-12-20T18:19:26.238Z"
   },
   {
    "duration": 0,
    "start_time": "2022-12-20T18:19:26.239Z"
   },
   {
    "duration": 0,
    "start_time": "2022-12-20T18:19:26.240Z"
   },
   {
    "duration": 0,
    "start_time": "2022-12-20T18:19:26.241Z"
   },
   {
    "duration": 0,
    "start_time": "2022-12-20T18:19:26.243Z"
   },
   {
    "duration": 51,
    "start_time": "2022-12-20T18:20:47.441Z"
   },
   {
    "duration": 725,
    "start_time": "2022-12-20T18:21:23.273Z"
   },
   {
    "duration": 775,
    "start_time": "2022-12-20T18:23:22.286Z"
   },
   {
    "duration": 591,
    "start_time": "2022-12-20T18:23:27.493Z"
   },
   {
    "duration": 57,
    "start_time": "2022-12-20T18:23:28.085Z"
   },
   {
    "duration": 23,
    "start_time": "2022-12-20T18:23:28.144Z"
   },
   {
    "duration": 4,
    "start_time": "2022-12-20T18:23:28.169Z"
   },
   {
    "duration": 93678,
    "start_time": "2022-12-20T18:23:28.175Z"
   },
   {
    "duration": 19,
    "start_time": "2022-12-20T18:25:01.854Z"
   },
   {
    "duration": 23,
    "start_time": "2022-12-20T18:25:01.874Z"
   },
   {
    "duration": 73,
    "start_time": "2022-12-20T18:25:01.898Z"
   },
   {
    "duration": 26,
    "start_time": "2022-12-20T18:25:01.973Z"
   },
   {
    "duration": 34,
    "start_time": "2022-12-20T18:26:20.502Z"
   },
   {
    "duration": 17,
    "start_time": "2022-12-20T18:26:23.890Z"
   },
   {
    "duration": 7,
    "start_time": "2022-12-20T18:27:17.184Z"
   },
   {
    "duration": 9,
    "start_time": "2022-12-20T18:27:20.550Z"
   },
   {
    "duration": 6,
    "start_time": "2022-12-20T18:27:24.149Z"
   },
   {
    "duration": 6,
    "start_time": "2022-12-20T18:27:34.184Z"
   },
   {
    "duration": 6,
    "start_time": "2022-12-20T18:27:42.344Z"
   },
   {
    "duration": 6,
    "start_time": "2022-12-20T18:27:49.154Z"
   },
   {
    "duration": 6,
    "start_time": "2022-12-20T18:27:56.785Z"
   },
   {
    "duration": 46,
    "start_time": "2022-12-20T18:28:46.672Z"
   },
   {
    "duration": 1361,
    "start_time": "2022-12-21T04:28:21.042Z"
   },
   {
    "duration": 54,
    "start_time": "2022-12-21T04:28:22.405Z"
   },
   {
    "duration": 25,
    "start_time": "2022-12-21T04:28:22.460Z"
   },
   {
    "duration": 4,
    "start_time": "2022-12-21T04:28:22.488Z"
   },
   {
    "duration": 95522,
    "start_time": "2022-12-21T04:28:22.494Z"
   },
   {
    "duration": 19,
    "start_time": "2022-12-21T04:29:58.018Z"
   },
   {
    "duration": 12,
    "start_time": "2022-12-21T04:29:58.039Z"
   },
   {
    "duration": 67,
    "start_time": "2022-12-21T04:29:58.053Z"
   },
   {
    "duration": 61,
    "start_time": "2022-12-21T04:29:58.121Z"
   },
   {
    "duration": 87,
    "start_time": "2022-12-21T04:29:58.185Z"
   },
   {
    "duration": 92,
    "start_time": "2022-12-21T04:31:20.515Z"
   },
   {
    "duration": 12,
    "start_time": "2022-12-21T04:31:24.495Z"
   },
   {
    "duration": 27,
    "start_time": "2022-12-21T04:32:44.029Z"
   },
   {
    "duration": 93,
    "start_time": "2022-12-21T04:32:48.260Z"
   },
   {
    "duration": 16,
    "start_time": "2022-12-21T04:32:48.410Z"
   },
   {
    "duration": 18,
    "start_time": "2022-12-21T04:37:12.944Z"
   },
   {
    "duration": 19,
    "start_time": "2022-12-21T04:37:22.635Z"
   },
   {
    "duration": 20,
    "start_time": "2022-12-21T04:37:31.177Z"
   },
   {
    "duration": 793,
    "start_time": "2022-12-21T04:37:52.449Z"
   },
   {
    "duration": 235,
    "start_time": "2022-12-21T04:38:05.569Z"
   },
   {
    "duration": 259,
    "start_time": "2022-12-21T04:38:28.484Z"
   },
   {
    "duration": 38,
    "start_time": "2022-12-21T04:38:57.587Z"
   },
   {
    "duration": 253,
    "start_time": "2022-12-21T04:39:50.827Z"
   },
   {
    "duration": 18657,
    "start_time": "2022-12-21T04:41:39.150Z"
   },
   {
    "duration": 1665521,
    "start_time": "2022-12-21T04:42:55.585Z"
   },
   {
    "duration": 0,
    "start_time": "2022-12-21T05:10:41.108Z"
   },
   {
    "duration": 3,
    "start_time": "2022-12-21T05:11:19.908Z"
   },
   {
    "duration": 4,
    "start_time": "2022-12-21T15:37:32.658Z"
   },
   {
    "duration": 1783,
    "start_time": "2022-12-21T15:38:00.611Z"
   },
   {
    "duration": 56,
    "start_time": "2022-12-21T15:38:02.397Z"
   },
   {
    "duration": 55,
    "start_time": "2022-12-21T15:38:02.458Z"
   },
   {
    "duration": 4,
    "start_time": "2022-12-21T15:38:02.515Z"
   },
   {
    "duration": 96152,
    "start_time": "2022-12-21T15:38:02.522Z"
   },
   {
    "duration": 32,
    "start_time": "2022-12-21T15:39:38.676Z"
   },
   {
    "duration": 5,
    "start_time": "2022-12-21T15:39:38.710Z"
   },
   {
    "duration": 111,
    "start_time": "2022-12-21T15:39:38.717Z"
   },
   {
    "duration": 73,
    "start_time": "2022-12-21T15:39:38.832Z"
   },
   {
    "duration": 19,
    "start_time": "2022-12-21T15:39:38.907Z"
   },
   {
    "duration": 39,
    "start_time": "2022-12-21T15:39:38.929Z"
   },
   {
    "duration": 2565,
    "start_time": "2022-12-21T15:39:38.970Z"
   },
   {
    "duration": 0,
    "start_time": "2022-12-21T15:39:41.537Z"
   },
   {
    "duration": 0,
    "start_time": "2022-12-21T15:39:41.539Z"
   },
   {
    "duration": 0,
    "start_time": "2022-12-21T15:39:41.541Z"
   },
   {
    "duration": 0,
    "start_time": "2022-12-21T15:39:41.542Z"
   },
   {
    "duration": 4,
    "start_time": "2022-12-21T15:51:58.364Z"
   },
   {
    "duration": 271,
    "start_time": "2022-12-21T15:52:26.545Z"
   },
   {
    "duration": 74,
    "start_time": "2022-12-21T15:54:03.034Z"
   },
   {
    "duration": 70,
    "start_time": "2022-12-21T15:54:07.778Z"
   },
   {
    "duration": 339,
    "start_time": "2022-12-21T15:54:12.128Z"
   },
   {
    "duration": 350,
    "start_time": "2022-12-21T15:54:17.025Z"
   },
   {
    "duration": 12,
    "start_time": "2022-12-21T15:54:19.546Z"
   },
   {
    "duration": 19,
    "start_time": "2022-12-21T15:54:20.064Z"
   },
   {
    "duration": 8196,
    "start_time": "2022-12-21T15:54:20.838Z"
   },
   {
    "duration": 13,
    "start_time": "2022-12-21T15:54:29.038Z"
   },
   {
    "duration": 1412,
    "start_time": "2022-12-21T15:54:44.217Z"
   },
   {
    "duration": 1263,
    "start_time": "2022-12-21T15:56:31.512Z"
   },
   {
    "duration": 1798,
    "start_time": "2022-12-21T16:01:02.876Z"
   },
   {
    "duration": 63,
    "start_time": "2022-12-21T16:01:04.677Z"
   },
   {
    "duration": 31,
    "start_time": "2022-12-21T16:01:04.743Z"
   },
   {
    "duration": 22,
    "start_time": "2022-12-21T16:01:04.776Z"
   },
   {
    "duration": 15257,
    "start_time": "2022-12-21T16:01:04.801Z"
   },
   {
    "duration": 0,
    "start_time": "2022-12-21T16:01:20.061Z"
   },
   {
    "duration": 0,
    "start_time": "2022-12-21T16:01:20.063Z"
   },
   {
    "duration": 0,
    "start_time": "2022-12-21T16:01:20.064Z"
   },
   {
    "duration": 0,
    "start_time": "2022-12-21T16:01:20.065Z"
   },
   {
    "duration": 0,
    "start_time": "2022-12-21T16:01:20.067Z"
   },
   {
    "duration": 0,
    "start_time": "2022-12-21T16:01:20.069Z"
   },
   {
    "duration": 0,
    "start_time": "2022-12-21T16:01:20.070Z"
   },
   {
    "duration": 0,
    "start_time": "2022-12-21T16:01:20.072Z"
   },
   {
    "duration": 0,
    "start_time": "2022-12-21T16:01:20.074Z"
   },
   {
    "duration": 0,
    "start_time": "2022-12-21T16:01:20.075Z"
   },
   {
    "duration": 0,
    "start_time": "2022-12-21T16:01:20.077Z"
   },
   {
    "duration": 0,
    "start_time": "2022-12-21T16:01:20.078Z"
   },
   {
    "duration": 0,
    "start_time": "2022-12-21T16:01:20.083Z"
   },
   {
    "duration": 1856,
    "start_time": "2022-12-21T16:02:05.271Z"
   },
   {
    "duration": 68,
    "start_time": "2022-12-21T16:02:07.130Z"
   },
   {
    "duration": 28,
    "start_time": "2022-12-21T16:02:07.201Z"
   },
   {
    "duration": 5,
    "start_time": "2022-12-21T16:02:07.234Z"
   },
   {
    "duration": 107323,
    "start_time": "2022-12-21T16:02:07.241Z"
   },
   {
    "duration": 30,
    "start_time": "2022-12-21T16:03:54.566Z"
   },
   {
    "duration": 4,
    "start_time": "2022-12-21T16:03:54.599Z"
   },
   {
    "duration": 107,
    "start_time": "2022-12-21T16:03:54.604Z"
   },
   {
    "duration": 63,
    "start_time": "2022-12-21T16:03:54.713Z"
   },
   {
    "duration": 4,
    "start_time": "2022-12-21T16:03:54.799Z"
   },
   {
    "duration": 404,
    "start_time": "2022-12-21T16:03:54.805Z"
   },
   {
    "duration": 153,
    "start_time": "2022-12-21T16:03:55.212Z"
   },
   {
    "duration": 0,
    "start_time": "2022-12-21T16:03:55.368Z"
   },
   {
    "duration": 0,
    "start_time": "2022-12-21T16:03:55.369Z"
   },
   {
    "duration": 0,
    "start_time": "2022-12-21T16:03:55.370Z"
   },
   {
    "duration": 0,
    "start_time": "2022-12-21T16:03:55.371Z"
   },
   {
    "duration": 0,
    "start_time": "2022-12-21T16:03:55.373Z"
   },
   {
    "duration": 0,
    "start_time": "2022-12-21T16:03:55.374Z"
   },
   {
    "duration": 0,
    "start_time": "2022-12-21T16:03:55.375Z"
   },
   {
    "duration": 23,
    "start_time": "2022-12-21T16:04:32.533Z"
   },
   {
    "duration": 19,
    "start_time": "2022-12-21T16:04:46.503Z"
   },
   {
    "duration": 21,
    "start_time": "2022-12-21T16:06:25.749Z"
   },
   {
    "duration": 13,
    "start_time": "2022-12-21T16:06:37.648Z"
   },
   {
    "duration": 12,
    "start_time": "2022-12-21T16:06:42.859Z"
   },
   {
    "duration": 367,
    "start_time": "2022-12-21T16:10:22.935Z"
   },
   {
    "duration": 62,
    "start_time": "2022-12-21T16:12:04.938Z"
   },
   {
    "duration": 14,
    "start_time": "2022-12-21T16:12:39.485Z"
   },
   {
    "duration": 39,
    "start_time": "2022-12-21T16:12:40.389Z"
   },
   {
    "duration": 101,
    "start_time": "2022-12-21T16:13:30.863Z"
   },
   {
    "duration": 462,
    "start_time": "2022-12-21T16:13:43.485Z"
   },
   {
    "duration": 15,
    "start_time": "2022-12-21T16:13:44.693Z"
   },
   {
    "duration": 20,
    "start_time": "2022-12-21T16:13:45.101Z"
   },
   {
    "duration": 78,
    "start_time": "2022-12-21T16:13:46.022Z"
   },
   {
    "duration": 1795,
    "start_time": "2022-12-21T16:14:11.839Z"
   },
   {
    "duration": 84,
    "start_time": "2022-12-21T16:14:13.637Z"
   },
   {
    "duration": 33,
    "start_time": "2022-12-21T16:14:13.723Z"
   },
   {
    "duration": 5,
    "start_time": "2022-12-21T16:14:13.759Z"
   },
   {
    "duration": 105498,
    "start_time": "2022-12-21T16:14:13.766Z"
   },
   {
    "duration": 24,
    "start_time": "2022-12-21T16:15:59.267Z"
   },
   {
    "duration": 4,
    "start_time": "2022-12-21T16:15:59.300Z"
   },
   {
    "duration": 108,
    "start_time": "2022-12-21T16:15:59.317Z"
   },
   {
    "duration": 71,
    "start_time": "2022-12-21T16:15:59.427Z"
   },
   {
    "duration": 390,
    "start_time": "2022-12-21T16:15:59.501Z"
   },
   {
    "duration": 16,
    "start_time": "2022-12-21T16:15:59.893Z"
   },
   {
    "duration": 46,
    "start_time": "2022-12-21T16:15:59.914Z"
   },
   {
    "duration": 272,
    "start_time": "2022-12-21T16:15:59.962Z"
   },
   {
    "duration": 0,
    "start_time": "2022-12-21T16:16:00.237Z"
   },
   {
    "duration": 0,
    "start_time": "2022-12-21T16:16:00.239Z"
   },
   {
    "duration": 0,
    "start_time": "2022-12-21T16:16:00.240Z"
   },
   {
    "duration": 0,
    "start_time": "2022-12-21T16:16:00.241Z"
   },
   {
    "duration": 0,
    "start_time": "2022-12-21T16:16:00.242Z"
   },
   {
    "duration": 0,
    "start_time": "2022-12-21T16:16:00.243Z"
   },
   {
    "duration": 54,
    "start_time": "2022-12-21T16:16:36.541Z"
   },
   {
    "duration": 53,
    "start_time": "2022-12-21T16:16:49.863Z"
   },
   {
    "duration": 1368,
    "start_time": "2022-12-21T16:17:07.908Z"
   },
   {
    "duration": 49,
    "start_time": "2022-12-21T16:17:09.278Z"
   },
   {
    "duration": 25,
    "start_time": "2022-12-21T16:17:09.329Z"
   },
   {
    "duration": 4,
    "start_time": "2022-12-21T16:17:09.356Z"
   },
   {
    "duration": 94323,
    "start_time": "2022-12-21T16:17:09.361Z"
   },
   {
    "duration": 28,
    "start_time": "2022-12-21T16:18:43.686Z"
   },
   {
    "duration": 3,
    "start_time": "2022-12-21T16:18:43.716Z"
   },
   {
    "duration": 75,
    "start_time": "2022-12-21T16:18:43.722Z"
   },
   {
    "duration": 62,
    "start_time": "2022-12-21T16:18:43.800Z"
   },
   {
    "duration": 307,
    "start_time": "2022-12-21T16:18:43.866Z"
   },
   {
    "duration": 11,
    "start_time": "2022-12-21T16:18:44.175Z"
   },
   {
    "duration": 23,
    "start_time": "2022-12-21T16:18:44.197Z"
   },
   {
    "duration": 166,
    "start_time": "2022-12-21T16:18:44.222Z"
   },
   {
    "duration": 0,
    "start_time": "2022-12-21T16:18:44.390Z"
   },
   {
    "duration": 0,
    "start_time": "2022-12-21T16:18:44.397Z"
   },
   {
    "duration": 0,
    "start_time": "2022-12-21T16:18:44.398Z"
   },
   {
    "duration": 0,
    "start_time": "2022-12-21T16:18:44.400Z"
   },
   {
    "duration": 0,
    "start_time": "2022-12-21T16:18:44.401Z"
   },
   {
    "duration": 0,
    "start_time": "2022-12-21T16:18:44.402Z"
   },
   {
    "duration": 2157,
    "start_time": "2022-12-21T18:45:32.652Z"
   },
   {
    "duration": 92,
    "start_time": "2022-12-21T18:45:34.812Z"
   },
   {
    "duration": 31,
    "start_time": "2022-12-21T18:45:34.907Z"
   },
   {
    "duration": 4,
    "start_time": "2022-12-21T18:45:34.941Z"
   },
   {
    "duration": 91364,
    "start_time": "2022-12-21T18:45:34.947Z"
   },
   {
    "duration": 3,
    "start_time": "2022-12-21T18:47:06.313Z"
   },
   {
    "duration": 7,
    "start_time": "2022-12-21T18:47:06.318Z"
   },
   {
    "duration": 109,
    "start_time": "2022-12-21T18:47:06.327Z"
   },
   {
    "duration": 62,
    "start_time": "2022-12-21T18:47:06.438Z"
   },
   {
    "duration": 317,
    "start_time": "2022-12-21T18:47:06.502Z"
   },
   {
    "duration": 7,
    "start_time": "2022-12-21T18:47:06.821Z"
   },
   {
    "duration": 33,
    "start_time": "2022-12-21T18:47:06.829Z"
   },
   {
    "duration": 144,
    "start_time": "2022-12-21T18:47:06.870Z"
   },
   {
    "duration": 0,
    "start_time": "2022-12-21T18:47:07.015Z"
   },
   {
    "duration": 0,
    "start_time": "2022-12-21T18:47:07.017Z"
   },
   {
    "duration": 0,
    "start_time": "2022-12-21T18:47:07.018Z"
   },
   {
    "duration": 0,
    "start_time": "2022-12-21T18:47:07.019Z"
   },
   {
    "duration": 0,
    "start_time": "2022-12-21T18:47:07.020Z"
   },
   {
    "duration": 0,
    "start_time": "2022-12-21T18:47:07.021Z"
   },
   {
    "duration": 45,
    "start_time": "2022-12-21T18:47:34.206Z"
   },
   {
    "duration": 44,
    "start_time": "2022-12-21T18:49:12.202Z"
   },
   {
    "duration": 57,
    "start_time": "2022-12-21T18:50:10.081Z"
   },
   {
    "duration": 49,
    "start_time": "2022-12-21T18:50:24.147Z"
   },
   {
    "duration": 30,
    "start_time": "2022-12-21T18:50:45.109Z"
   },
   {
    "duration": 7049,
    "start_time": "2022-12-21T18:50:49.385Z"
   },
   {
    "duration": 1213,
    "start_time": "2022-12-21T18:50:58.552Z"
   },
   {
    "duration": 942573,
    "start_time": "2022-12-21T18:51:06.357Z"
   },
   {
    "duration": 1125939,
    "start_time": "2022-12-21T19:08:38.582Z"
   },
   {
    "duration": 1249,
    "start_time": "2022-12-21T19:30:40.023Z"
   },
   {
    "duration": 79024,
    "start_time": "2022-12-21T19:30:58.695Z"
   },
   {
    "duration": 1576,
    "start_time": "2022-12-22T04:34:16.055Z"
   },
   {
    "duration": 44,
    "start_time": "2022-12-22T04:34:17.633Z"
   },
   {
    "duration": 22,
    "start_time": "2022-12-22T04:34:17.679Z"
   },
   {
    "duration": 4,
    "start_time": "2022-12-22T04:34:17.703Z"
   },
   {
    "duration": 80612,
    "start_time": "2022-12-22T04:34:17.709Z"
   },
   {
    "duration": 2,
    "start_time": "2022-12-22T04:35:38.323Z"
   },
   {
    "duration": 14,
    "start_time": "2022-12-22T04:35:38.327Z"
   },
   {
    "duration": 61,
    "start_time": "2022-12-22T04:35:38.342Z"
   },
   {
    "duration": 44,
    "start_time": "2022-12-22T04:35:38.405Z"
   },
   {
    "duration": 97,
    "start_time": "2022-12-22T04:35:38.452Z"
   },
   {
    "duration": 265,
    "start_time": "2022-12-22T04:35:38.550Z"
   },
   {
    "duration": 8,
    "start_time": "2022-12-22T04:35:38.816Z"
   },
   {
    "duration": 20,
    "start_time": "2022-12-22T04:35:38.825Z"
   },
   {
    "duration": 34,
    "start_time": "2022-12-22T04:35:38.846Z"
   },
   {
    "duration": 5633,
    "start_time": "2022-12-22T04:35:38.881Z"
   },
   {
    "duration": 1029,
    "start_time": "2022-12-22T04:35:44.516Z"
   },
   {
    "duration": 2,
    "start_time": "2022-12-22T04:35:45.547Z"
   },
   {
    "duration": 13934,
    "start_time": "2022-12-22T04:35:45.551Z"
   },
   {
    "duration": 0,
    "start_time": "2022-12-22T04:35:59.487Z"
   },
   {
    "duration": 0,
    "start_time": "2022-12-22T04:35:59.489Z"
   },
   {
    "duration": 0,
    "start_time": "2022-12-22T04:36:25.632Z"
   },
   {
    "duration": 60342,
    "start_time": "2022-12-22T04:36:26.866Z"
   },
   {
    "duration": 3,
    "start_time": "2022-12-22T04:37:46.012Z"
   },
   {
    "duration": 3,
    "start_time": "2022-12-22T04:37:51.909Z"
   },
   {
    "duration": 1001,
    "start_time": "2022-12-22T04:38:03.877Z"
   },
   {
    "duration": 274,
    "start_time": "2022-12-22T04:39:10.504Z"
   },
   {
    "duration": 6,
    "start_time": "2022-12-22T04:39:11.983Z"
   },
   {
    "duration": 13,
    "start_time": "2022-12-22T04:39:13.416Z"
   },
   {
    "duration": 30,
    "start_time": "2022-12-22T04:39:15.622Z"
   },
   {
    "duration": 1006,
    "start_time": "2022-12-22T04:39:20.623Z"
   },
   {
    "duration": 59506,
    "start_time": "2022-12-22T04:39:25.344Z"
   },
   {
    "duration": 17,
    "start_time": "2022-12-22T04:44:19.692Z"
   },
   {
    "duration": 7,
    "start_time": "2022-12-22T04:44:24.573Z"
   },
   {
    "duration": 16,
    "start_time": "2022-12-22T04:44:25.084Z"
   },
   {
    "duration": 23,
    "start_time": "2022-12-22T04:44:26.868Z"
   },
   {
    "duration": 974,
    "start_time": "2022-12-22T04:44:31.619Z"
   },
   {
    "duration": 57984,
    "start_time": "2022-12-22T04:45:04.061Z"
   },
   {
    "duration": 1233,
    "start_time": "2022-12-22T04:46:48.963Z"
   },
   {
    "duration": 45,
    "start_time": "2022-12-22T04:46:50.198Z"
   },
   {
    "duration": 22,
    "start_time": "2022-12-22T04:46:50.244Z"
   },
   {
    "duration": 3,
    "start_time": "2022-12-22T04:46:50.268Z"
   },
   {
    "duration": 81339,
    "start_time": "2022-12-22T04:46:50.273Z"
   },
   {
    "duration": 2,
    "start_time": "2022-12-22T04:48:11.613Z"
   },
   {
    "duration": 10,
    "start_time": "2022-12-22T04:48:11.621Z"
   },
   {
    "duration": 66,
    "start_time": "2022-12-22T04:48:11.633Z"
   },
   {
    "duration": 44,
    "start_time": "2022-12-22T04:48:11.701Z"
   },
   {
    "duration": 102,
    "start_time": "2022-12-22T04:48:11.747Z"
   },
   {
    "duration": 3,
    "start_time": "2022-12-22T04:48:11.851Z"
   },
   {
    "duration": 43,
    "start_time": "2022-12-22T04:48:11.856Z"
   },
   {
    "duration": 33,
    "start_time": "2022-12-22T04:48:11.901Z"
   },
   {
    "duration": 306,
    "start_time": "2022-12-22T04:48:11.936Z"
   },
   {
    "duration": 102,
    "start_time": "2022-12-22T04:48:12.243Z"
   },
   {
    "duration": 0,
    "start_time": "2022-12-22T04:48:12.346Z"
   },
   {
    "duration": 0,
    "start_time": "2022-12-22T04:48:12.347Z"
   },
   {
    "duration": 0,
    "start_time": "2022-12-22T04:48:12.349Z"
   },
   {
    "duration": 0,
    "start_time": "2022-12-22T04:48:12.350Z"
   },
   {
    "duration": 2491,
    "start_time": "2022-12-22T04:48:22.904Z"
   },
   {
    "duration": 91323,
    "start_time": "2022-12-22T04:48:40.691Z"
   },
   {
    "duration": 3,
    "start_time": "2022-12-22T04:55:50.338Z"
   },
   {
    "duration": 1224,
    "start_time": "2022-12-22T05:05:27.785Z"
   },
   {
    "duration": 47,
    "start_time": "2022-12-22T05:05:29.010Z"
   },
   {
    "duration": 21,
    "start_time": "2022-12-22T05:05:29.058Z"
   },
   {
    "duration": 82010,
    "start_time": "2022-12-22T05:05:29.081Z"
   },
   {
    "duration": 97,
    "start_time": "2022-12-22T05:06:51.092Z"
   },
   {
    "duration": 4,
    "start_time": "2022-12-22T05:06:51.190Z"
   },
   {
    "duration": 189,
    "start_time": "2022-12-22T05:06:51.196Z"
   },
   {
    "duration": 0,
    "start_time": "2022-12-22T05:06:51.387Z"
   },
   {
    "duration": 0,
    "start_time": "2022-12-22T05:06:51.388Z"
   },
   {
    "duration": 0,
    "start_time": "2022-12-22T05:06:51.389Z"
   },
   {
    "duration": 0,
    "start_time": "2022-12-22T05:06:51.390Z"
   },
   {
    "duration": 0,
    "start_time": "2022-12-22T05:06:51.391Z"
   },
   {
    "duration": 0,
    "start_time": "2022-12-22T05:06:51.392Z"
   },
   {
    "duration": 83,
    "start_time": "2022-12-22T05:09:19.786Z"
   },
   {
    "duration": 143,
    "start_time": "2022-12-22T05:09:28.155Z"
   },
   {
    "duration": 3,
    "start_time": "2022-12-22T05:10:18.754Z"
   },
   {
    "duration": 352,
    "start_time": "2022-12-22T05:10:18.923Z"
   },
   {
    "duration": 4,
    "start_time": "2022-12-22T05:10:35.594Z"
   },
   {
    "duration": 406,
    "start_time": "2022-12-22T05:10:37.218Z"
   },
   {
    "duration": 188,
    "start_time": "2022-12-22T05:10:38.962Z"
   },
   {
    "duration": 4,
    "start_time": "2022-12-22T05:10:49.234Z"
   },
   {
    "duration": 398,
    "start_time": "2022-12-22T05:10:49.601Z"
   },
   {
    "duration": 231,
    "start_time": "2022-12-22T05:10:52.658Z"
   },
   {
    "duration": 93427,
    "start_time": "2022-12-22T05:10:56.394Z"
   },
   {
    "duration": 60368,
    "start_time": "2022-12-22T05:12:29.822Z"
   },
   {
    "duration": 1985,
    "start_time": "2022-12-22T07:08:53.766Z"
   },
   {
    "duration": 178,
    "start_time": "2022-12-22T07:15:18.728Z"
   },
   {
    "duration": 1420,
    "start_time": "2022-12-22T07:15:23.341Z"
   },
   {
    "duration": 60,
    "start_time": "2022-12-22T07:15:24.763Z"
   },
   {
    "duration": 28,
    "start_time": "2022-12-22T07:15:24.824Z"
   },
   {
    "duration": 92187,
    "start_time": "2022-12-22T07:15:24.854Z"
   },
   {
    "duration": 121,
    "start_time": "2022-12-22T07:16:57.043Z"
   },
   {
    "duration": 4,
    "start_time": "2022-12-22T07:16:57.166Z"
   },
   {
    "duration": 525,
    "start_time": "2022-12-22T07:16:57.172Z"
   },
   {
    "duration": 284,
    "start_time": "2022-12-22T07:16:57.700Z"
   },
   {
    "duration": 149,
    "start_time": "2022-12-22T07:16:57.986Z"
   },
   {
    "duration": 0,
    "start_time": "2022-12-22T07:16:58.137Z"
   },
   {
    "duration": 0,
    "start_time": "2022-12-22T07:16:58.138Z"
   },
   {
    "duration": 0,
    "start_time": "2022-12-22T07:16:58.149Z"
   },
   {
    "duration": 117211,
    "start_time": "2022-12-22T07:17:41.100Z"
   },
   {
    "duration": 67474,
    "start_time": "2022-12-22T07:19:38.313Z"
   },
   {
    "duration": 3996,
    "start_time": "2022-12-22T07:20:49.615Z"
   },
   {
    "duration": 8,
    "start_time": "2022-12-22T07:22:23.274Z"
   },
   {
    "duration": 65150,
    "start_time": "2022-12-22T07:23:36.556Z"
   },
   {
    "duration": 28830,
    "start_time": "2022-12-22T07:27:34.648Z"
   },
   {
    "duration": 6140,
    "start_time": "2022-12-22T07:28:03.480Z"
   },
   {
    "duration": 36244,
    "start_time": "2022-12-22T07:30:10.134Z"
   },
   {
    "duration": 519387,
    "start_time": "2022-12-22T07:31:09.228Z"
   },
   {
    "duration": 9,
    "start_time": "2022-12-22T07:45:56.334Z"
   },
   {
    "duration": 3203,
    "start_time": "2022-12-22T07:46:19.198Z"
   },
   {
    "duration": 684,
    "start_time": "2022-12-22T07:46:29.283Z"
   },
   {
    "duration": 5214,
    "start_time": "2022-12-22T07:48:47.174Z"
   },
   {
    "duration": 9817,
    "start_time": "2022-12-22T07:49:00.513Z"
   },
   {
    "duration": 9433,
    "start_time": "2022-12-22T07:49:25.292Z"
   },
   {
    "duration": 9256,
    "start_time": "2022-12-22T07:49:57.554Z"
   },
   {
    "duration": 26,
    "start_time": "2022-12-22T07:51:56.633Z"
   },
   {
    "duration": 18,
    "start_time": "2022-12-22T07:52:02.468Z"
   },
   {
    "duration": 27,
    "start_time": "2022-12-22T07:52:11.371Z"
   },
   {
    "duration": 2170,
    "start_time": "2022-12-22T07:52:23.152Z"
   },
   {
    "duration": 1550,
    "start_time": "2022-12-22T07:52:25.324Z"
   },
   {
    "duration": 45,
    "start_time": "2022-12-22T07:52:26.876Z"
   },
   {
    "duration": 23,
    "start_time": "2022-12-22T07:52:26.923Z"
   },
   {
    "duration": 86799,
    "start_time": "2022-12-22T07:52:26.948Z"
   },
   {
    "duration": 110,
    "start_time": "2022-12-22T07:53:53.749Z"
   },
   {
    "duration": 8289,
    "start_time": "2022-12-22T07:53:53.860Z"
   },
   {
    "duration": 106,
    "start_time": "2022-12-22T07:54:02.151Z"
   },
   {
    "duration": 0,
    "start_time": "2022-12-22T07:54:02.258Z"
   },
   {
    "duration": 0,
    "start_time": "2022-12-22T07:54:02.260Z"
   },
   {
    "duration": 0,
    "start_time": "2022-12-22T07:54:02.261Z"
   },
   {
    "duration": 0,
    "start_time": "2022-12-22T07:54:02.262Z"
   },
   {
    "duration": 0,
    "start_time": "2022-12-22T07:54:02.263Z"
   },
   {
    "duration": 0,
    "start_time": "2022-12-22T07:54:02.264Z"
   },
   {
    "duration": 0,
    "start_time": "2022-12-22T07:54:02.265Z"
   },
   {
    "duration": 0,
    "start_time": "2022-12-22T07:54:02.266Z"
   },
   {
    "duration": 8447,
    "start_time": "2022-12-22T08:00:17.620Z"
   },
   {
    "duration": 79,
    "start_time": "2022-12-22T08:03:19.871Z"
   },
   {
    "duration": 136,
    "start_time": "2022-12-22T08:04:59.126Z"
   },
   {
    "duration": 31,
    "start_time": "2022-12-22T08:09:15.122Z"
   },
   {
    "duration": 33,
    "start_time": "2022-12-22T08:09:34.174Z"
   },
   {
    "duration": 40,
    "start_time": "2022-12-22T08:09:37.756Z"
   },
   {
    "duration": 52,
    "start_time": "2022-12-22T08:09:41.491Z"
   },
   {
    "duration": 31,
    "start_time": "2022-12-22T08:09:47.780Z"
   },
   {
    "duration": 6,
    "start_time": "2022-12-22T08:10:05.557Z"
   },
   {
    "duration": 8494,
    "start_time": "2022-12-22T08:14:18.391Z"
   },
   {
    "duration": 2959,
    "start_time": "2022-12-22T13:33:05.094Z"
   },
   {
    "duration": 1906,
    "start_time": "2022-12-22T13:33:08.054Z"
   },
   {
    "duration": 44,
    "start_time": "2022-12-22T13:33:09.961Z"
   },
   {
    "duration": 20,
    "start_time": "2022-12-22T13:33:10.006Z"
   },
   {
    "duration": 4502,
    "start_time": "2022-12-22T13:33:10.028Z"
   },
   {
    "duration": 0,
    "start_time": "2022-12-22T13:33:14.532Z"
   },
   {
    "duration": 0,
    "start_time": "2022-12-22T13:33:14.533Z"
   },
   {
    "duration": 0,
    "start_time": "2022-12-22T13:33:14.534Z"
   },
   {
    "duration": 0,
    "start_time": "2022-12-22T13:33:14.535Z"
   },
   {
    "duration": 0,
    "start_time": "2022-12-22T13:33:14.536Z"
   },
   {
    "duration": 0,
    "start_time": "2022-12-22T13:33:14.537Z"
   },
   {
    "duration": 0,
    "start_time": "2022-12-22T13:33:14.538Z"
   },
   {
    "duration": 0,
    "start_time": "2022-12-22T13:33:14.539Z"
   },
   {
    "duration": 0,
    "start_time": "2022-12-22T13:33:14.540Z"
   },
   {
    "duration": 0,
    "start_time": "2022-12-22T13:33:14.541Z"
   },
   {
    "duration": 0,
    "start_time": "2022-12-22T13:33:14.542Z"
   },
   {
    "duration": 0,
    "start_time": "2022-12-22T13:33:14.543Z"
   },
   {
    "duration": 2041,
    "start_time": "2022-12-22T13:33:17.668Z"
   },
   {
    "duration": 1438,
    "start_time": "2022-12-22T13:33:19.712Z"
   },
   {
    "duration": 43,
    "start_time": "2022-12-22T13:33:21.152Z"
   },
   {
    "duration": 20,
    "start_time": "2022-12-22T13:33:21.196Z"
   },
   {
    "duration": 85748,
    "start_time": "2022-12-22T13:33:21.218Z"
   },
   {
    "duration": 119,
    "start_time": "2022-12-22T13:34:46.967Z"
   },
   {
    "duration": 142,
    "start_time": "2022-12-22T13:34:47.087Z"
   },
   {
    "duration": 8410,
    "start_time": "2022-12-22T13:34:47.231Z"
   },
   {
    "duration": 4,
    "start_time": "2022-12-22T13:34:55.643Z"
   },
   {
    "duration": 446,
    "start_time": "2022-12-22T13:34:55.649Z"
   },
   {
    "duration": 251,
    "start_time": "2022-12-22T13:34:56.096Z"
   },
   {
    "duration": 112,
    "start_time": "2022-12-22T13:34:56.348Z"
   },
   {
    "duration": 0,
    "start_time": "2022-12-22T13:34:56.461Z"
   },
   {
    "duration": 0,
    "start_time": "2022-12-22T13:34:56.462Z"
   },
   {
    "duration": 0,
    "start_time": "2022-12-22T13:34:56.464Z"
   },
   {
    "duration": 0,
    "start_time": "2022-12-22T13:34:56.476Z"
   },
   {
    "duration": 48,
    "start_time": "2022-12-22T13:39:33.194Z"
   },
   {
    "duration": 9,
    "start_time": "2022-12-22T13:39:39.289Z"
   },
   {
    "duration": 9,
    "start_time": "2022-12-22T13:39:55.241Z"
   },
   {
    "duration": 5,
    "start_time": "2022-12-22T13:40:06.482Z"
   },
   {
    "duration": 252,
    "start_time": "2022-12-22T13:41:34.813Z"
   },
   {
    "duration": 65,
    "start_time": "2022-12-22T13:46:51.794Z"
   },
   {
    "duration": 77,
    "start_time": "2022-12-22T13:47:01.631Z"
   },
   {
    "duration": 4,
    "start_time": "2022-12-22T13:47:27.866Z"
   },
   {
    "duration": 394,
    "start_time": "2022-12-22T13:47:34.739Z"
   },
   {
    "duration": 322,
    "start_time": "2022-12-22T13:47:51.570Z"
   },
   {
    "duration": 3091,
    "start_time": "2022-12-22T13:48:10.076Z"
   },
   {
    "duration": 44,
    "start_time": "2022-12-22T13:49:07.900Z"
   },
   {
    "duration": 2694,
    "start_time": "2022-12-22T13:49:10.356Z"
   },
   {
    "duration": 2685,
    "start_time": "2022-12-22T13:49:19.492Z"
   },
   {
    "duration": 2837,
    "start_time": "2022-12-22T13:50:18.454Z"
   },
   {
    "duration": 319,
    "start_time": "2022-12-22T13:50:49.191Z"
   },
   {
    "duration": 2727,
    "start_time": "2022-12-22T13:50:57.454Z"
   },
   {
    "duration": 2809,
    "start_time": "2022-12-22T13:51:08.374Z"
   },
   {
    "duration": 23757,
    "start_time": "2022-12-22T13:52:07.753Z"
   },
   {
    "duration": 2894,
    "start_time": "2022-12-22T13:53:03.137Z"
   },
   {
    "duration": 80256,
    "start_time": "2022-12-22T13:53:38.196Z"
   },
   {
    "duration": 13,
    "start_time": "2022-12-22T14:01:24.979Z"
   },
   {
    "duration": 2480,
    "start_time": "2022-12-22T14:01:29.739Z"
   },
   {
    "duration": 95074,
    "start_time": "2022-12-22T14:01:49.531Z"
   },
   {
    "duration": 89791,
    "start_time": "2022-12-22T14:07:00.250Z"
   },
   {
    "duration": 8,
    "start_time": "2022-12-22T14:09:00.051Z"
   },
   {
    "duration": 5,
    "start_time": "2022-12-22T14:09:07.524Z"
   },
   {
    "duration": 3,
    "start_time": "2022-12-22T14:11:03.382Z"
   },
   {
    "duration": 5,
    "start_time": "2022-12-22T14:13:09.455Z"
   },
   {
    "duration": 93613,
    "start_time": "2022-12-22T14:13:21.856Z"
   },
   {
    "duration": 3022,
    "start_time": "2022-12-23T11:01:10.636Z"
   },
   {
    "duration": 2705,
    "start_time": "2022-12-23T11:01:13.661Z"
   },
   {
    "duration": 58,
    "start_time": "2022-12-23T11:01:16.368Z"
   },
   {
    "duration": 33,
    "start_time": "2022-12-23T11:01:16.428Z"
   },
   {
    "duration": 2200,
    "start_time": "2022-12-23T11:02:20.796Z"
   },
   {
    "duration": 1689,
    "start_time": "2022-12-23T11:02:22.998Z"
   },
   {
    "duration": 44,
    "start_time": "2022-12-23T11:02:24.689Z"
   },
   {
    "duration": 43,
    "start_time": "2022-12-23T11:02:24.735Z"
   },
   {
    "duration": 86945,
    "start_time": "2022-12-23T11:02:24.779Z"
   },
   {
    "duration": 91,
    "start_time": "2022-12-23T11:03:51.725Z"
   },
   {
    "duration": 155,
    "start_time": "2022-12-23T11:03:51.817Z"
   },
   {
    "duration": 8609,
    "start_time": "2022-12-23T11:03:51.974Z"
   },
   {
    "duration": 4,
    "start_time": "2022-12-23T11:04:00.585Z"
   },
   {
    "duration": 457,
    "start_time": "2022-12-23T11:04:00.591Z"
   },
   {
    "duration": 237,
    "start_time": "2022-12-23T11:04:01.050Z"
   },
   {
    "duration": 118,
    "start_time": "2022-12-23T11:04:01.288Z"
   },
   {
    "duration": 0,
    "start_time": "2022-12-23T11:04:01.407Z"
   },
   {
    "duration": 0,
    "start_time": "2022-12-23T11:04:01.408Z"
   },
   {
    "duration": 0,
    "start_time": "2022-12-23T11:04:01.409Z"
   },
   {
    "duration": 0,
    "start_time": "2022-12-23T11:04:01.410Z"
   },
   {
    "duration": 0,
    "start_time": "2022-12-23T11:04:01.411Z"
   },
   {
    "duration": 0,
    "start_time": "2022-12-23T11:04:01.412Z"
   },
   {
    "duration": 0,
    "start_time": "2022-12-23T11:04:01.413Z"
   },
   {
    "duration": 9,
    "start_time": "2022-12-23T11:04:44.874Z"
   },
   {
    "duration": 82,
    "start_time": "2022-12-23T11:05:05.239Z"
   },
   {
    "duration": 6,
    "start_time": "2022-12-23T11:05:09.635Z"
   },
   {
    "duration": 165,
    "start_time": "2022-12-23T11:05:14.064Z"
   },
   {
    "duration": 96647,
    "start_time": "2022-12-23T11:05:36.811Z"
   },
   {
    "duration": 356503,
    "start_time": "2022-12-23T11:07:25.812Z"
   },
   {
    "duration": 48,
    "start_time": "2022-12-23T15:55:38.535Z"
   },
   {
    "duration": 2766,
    "start_time": "2022-12-26T12:45:27.754Z"
   },
   {
    "duration": 2341,
    "start_time": "2022-12-26T12:45:30.523Z"
   },
   {
    "duration": 44,
    "start_time": "2022-12-26T12:45:32.866Z"
   },
   {
    "duration": 26,
    "start_time": "2022-12-26T12:45:32.911Z"
   },
   {
    "duration": 87692,
    "start_time": "2022-12-26T12:45:32.940Z"
   },
   {
    "duration": 97,
    "start_time": "2022-12-26T12:47:00.634Z"
   },
   {
    "duration": 152,
    "start_time": "2022-12-26T12:47:00.733Z"
   },
   {
    "duration": 8218,
    "start_time": "2022-12-26T12:47:00.887Z"
   },
   {
    "duration": 4,
    "start_time": "2022-12-26T12:47:09.107Z"
   },
   {
    "duration": 462,
    "start_time": "2022-12-26T12:47:09.112Z"
   },
   {
    "duration": 219,
    "start_time": "2022-12-26T12:47:09.576Z"
   },
   {
    "duration": 118,
    "start_time": "2022-12-26T12:47:09.797Z"
   },
   {
    "duration": 0,
    "start_time": "2022-12-26T12:47:09.917Z"
   },
   {
    "duration": 0,
    "start_time": "2022-12-26T12:47:09.918Z"
   },
   {
    "duration": 0,
    "start_time": "2022-12-26T12:47:09.925Z"
   },
   {
    "duration": 0,
    "start_time": "2022-12-26T12:47:09.926Z"
   },
   {
    "duration": 0,
    "start_time": "2022-12-26T12:47:09.927Z"
   },
   {
    "duration": 0,
    "start_time": "2022-12-26T12:47:09.928Z"
   },
   {
    "duration": 0,
    "start_time": "2022-12-26T12:47:09.929Z"
   },
   {
    "duration": 0,
    "start_time": "2022-12-26T12:47:09.930Z"
   },
   {
    "duration": 9,
    "start_time": "2022-12-26T12:47:24.660Z"
   },
   {
    "duration": 5,
    "start_time": "2022-12-26T12:47:39.102Z"
   },
   {
    "duration": 5,
    "start_time": "2022-12-26T12:47:40.558Z"
   },
   {
    "duration": 17,
    "start_time": "2022-12-26T12:47:41.942Z"
   },
   {
    "duration": 962,
    "start_time": "2022-12-26T12:47:49.181Z"
   },
   {
    "duration": 84,
    "start_time": "2022-12-26T12:48:37.950Z"
   },
   {
    "duration": 170,
    "start_time": "2022-12-26T12:48:43.254Z"
   },
   {
    "duration": 908,
    "start_time": "2022-12-26T12:48:46.662Z"
   },
   {
    "duration": 23461,
    "start_time": "2022-12-26T12:49:00.154Z"
   },
   {
    "duration": 22668,
    "start_time": "2022-12-26T12:55:25.763Z"
   },
   {
    "duration": 101984,
    "start_time": "2022-12-26T12:55:54.758Z"
   },
   {
    "duration": 85,
    "start_time": "2022-12-26T12:57:36.744Z"
   },
   {
    "duration": 856134,
    "start_time": "2022-12-26T12:58:01.619Z"
   },
   {
    "duration": 21327,
    "start_time": "2022-12-26T13:16:20.066Z"
   },
   {
    "duration": 22566,
    "start_time": "2022-12-26T13:16:52.765Z"
   },
   {
    "duration": 146,
    "start_time": "2022-12-26T13:17:23.695Z"
   },
   {
    "duration": 5,
    "start_time": "2022-12-26T13:27:17.254Z"
   },
   {
    "duration": 151,
    "start_time": "2022-12-26T13:27:22.856Z"
   },
   {
    "duration": 81,
    "start_time": "2022-12-26T13:28:40.446Z"
   },
   {
    "duration": 5,
    "start_time": "2022-12-26T13:28:43.154Z"
   },
   {
    "duration": 32543,
    "start_time": "2022-12-26T13:28:43.990Z"
   },
   {
    "duration": 132,
    "start_time": "2022-12-26T13:29:16.535Z"
   },
   {
    "duration": 169,
    "start_time": "2022-12-26T13:29:23.704Z"
   },
   {
    "duration": 5,
    "start_time": "2022-12-26T13:29:53.882Z"
   },
   {
    "duration": 5,
    "start_time": "2022-12-26T13:30:02.450Z"
   },
   {
    "duration": 9,
    "start_time": "2022-12-26T13:30:32.359Z"
   },
   {
    "duration": 27,
    "start_time": "2022-12-26T13:30:38.425Z"
   },
   {
    "duration": 4,
    "start_time": "2022-12-26T13:30:43.153Z"
   },
   {
    "duration": 5,
    "start_time": "2022-12-26T13:30:55.442Z"
   },
   {
    "duration": 12,
    "start_time": "2022-12-26T13:31:05.026Z"
   },
   {
    "duration": 5,
    "start_time": "2022-12-26T13:31:20.869Z"
   },
   {
    "duration": 23474,
    "start_time": "2022-12-26T13:31:21.906Z"
   },
   {
    "duration": 146,
    "start_time": "2022-12-26T13:31:45.382Z"
   },
   {
    "duration": 5,
    "start_time": "2022-12-26T13:32:12.579Z"
   },
   {
    "duration": 5,
    "start_time": "2022-12-26T13:32:36.219Z"
   },
   {
    "duration": 158,
    "start_time": "2022-12-26T13:32:39.914Z"
   },
   {
    "duration": 5,
    "start_time": "2022-12-26T13:32:56.020Z"
   },
   {
    "duration": 9,
    "start_time": "2022-12-26T13:33:02.789Z"
   },
   {
    "duration": 4,
    "start_time": "2022-12-26T13:33:06.148Z"
   },
   {
    "duration": 27,
    "start_time": "2022-12-26T13:34:10.710Z"
   },
   {
    "duration": 1900,
    "start_time": "2022-12-26T13:34:41.124Z"
   },
   {
    "duration": 1519,
    "start_time": "2022-12-26T13:34:43.026Z"
   },
   {
    "duration": 39,
    "start_time": "2022-12-26T13:34:44.548Z"
   },
   {
    "duration": 21,
    "start_time": "2022-12-26T13:34:44.589Z"
   },
   {
    "duration": 83497,
    "start_time": "2022-12-26T13:34:44.626Z"
   },
   {
    "duration": 105,
    "start_time": "2022-12-26T13:36:08.125Z"
   },
   {
    "duration": 162,
    "start_time": "2022-12-26T13:36:08.232Z"
   },
   {
    "duration": 8409,
    "start_time": "2022-12-26T13:36:08.396Z"
   },
   {
    "duration": 4,
    "start_time": "2022-12-26T13:36:16.808Z"
   },
   {
    "duration": 440,
    "start_time": "2022-12-26T13:36:16.814Z"
   },
   {
    "duration": 107,
    "start_time": "2022-12-26T13:36:17.256Z"
   },
   {
    "duration": 0,
    "start_time": "2022-12-26T13:36:17.365Z"
   },
   {
    "duration": 0,
    "start_time": "2022-12-26T13:36:17.366Z"
   },
   {
    "duration": 0,
    "start_time": "2022-12-26T13:36:17.367Z"
   },
   {
    "duration": 0,
    "start_time": "2022-12-26T13:36:17.368Z"
   },
   {
    "duration": 0,
    "start_time": "2022-12-26T13:36:17.369Z"
   },
   {
    "duration": 0,
    "start_time": "2022-12-26T13:36:17.370Z"
   },
   {
    "duration": 0,
    "start_time": "2022-12-26T13:36:17.371Z"
   },
   {
    "duration": 0,
    "start_time": "2022-12-26T13:36:17.372Z"
   },
   {
    "duration": 0,
    "start_time": "2022-12-26T13:36:17.373Z"
   },
   {
    "duration": 0,
    "start_time": "2022-12-26T13:36:17.374Z"
   },
   {
    "duration": 0,
    "start_time": "2022-12-26T13:36:17.375Z"
   },
   {
    "duration": 0,
    "start_time": "2022-12-26T13:36:17.377Z"
   },
   {
    "duration": 0,
    "start_time": "2022-12-26T13:36:17.378Z"
   },
   {
    "duration": 186,
    "start_time": "2022-12-26T13:41:24.003Z"
   },
   {
    "duration": 49,
    "start_time": "2022-12-26T13:41:25.434Z"
   },
   {
    "duration": 16,
    "start_time": "2022-12-26T13:41:27.486Z"
   },
   {
    "duration": 1807,
    "start_time": "2022-12-26T13:41:35.573Z"
   },
   {
    "duration": 1438,
    "start_time": "2022-12-26T13:41:37.383Z"
   },
   {
    "duration": 40,
    "start_time": "2022-12-26T13:41:38.823Z"
   },
   {
    "duration": 39,
    "start_time": "2022-12-26T13:41:38.864Z"
   },
   {
    "duration": 83410,
    "start_time": "2022-12-26T13:41:38.905Z"
   },
   {
    "duration": 86,
    "start_time": "2022-12-26T13:43:02.316Z"
   },
   {
    "duration": 175,
    "start_time": "2022-12-26T13:43:02.403Z"
   },
   {
    "duration": 7754,
    "start_time": "2022-12-26T13:43:02.579Z"
   },
   {
    "duration": 4,
    "start_time": "2022-12-26T13:43:10.335Z"
   },
   {
    "duration": 0,
    "start_time": "2022-12-26T13:43:10.609Z"
   },
   {
    "duration": 0,
    "start_time": "2022-12-26T13:43:10.610Z"
   },
   {
    "duration": 0,
    "start_time": "2022-12-26T13:43:10.612Z"
   },
   {
    "duration": 0,
    "start_time": "2022-12-26T13:43:10.613Z"
   },
   {
    "duration": 0,
    "start_time": "2022-12-26T13:43:10.614Z"
   },
   {
    "duration": 0,
    "start_time": "2022-12-26T13:43:10.626Z"
   },
   {
    "duration": 0,
    "start_time": "2022-12-26T13:43:10.628Z"
   },
   {
    "duration": 0,
    "start_time": "2022-12-26T13:43:10.630Z"
   },
   {
    "duration": 0,
    "start_time": "2022-12-26T13:43:10.631Z"
   },
   {
    "duration": 0,
    "start_time": "2022-12-26T13:43:10.632Z"
   },
   {
    "duration": 0,
    "start_time": "2022-12-26T13:43:10.634Z"
   },
   {
    "duration": 0,
    "start_time": "2022-12-26T13:43:10.635Z"
   },
   {
    "duration": 0,
    "start_time": "2022-12-26T13:43:10.637Z"
   },
   {
    "duration": 0,
    "start_time": "2022-12-26T13:43:10.638Z"
   },
   {
    "duration": 0,
    "start_time": "2022-12-26T13:43:10.641Z"
   },
   {
    "duration": 150,
    "start_time": "2022-12-26T13:43:46.495Z"
   },
   {
    "duration": 411,
    "start_time": "2022-12-26T13:44:07.585Z"
   },
   {
    "duration": 77,
    "start_time": "2022-12-26T13:48:36.678Z"
   },
   {
    "duration": 415,
    "start_time": "2022-12-26T13:48:51.371Z"
   },
   {
    "duration": 410,
    "start_time": "2022-12-26T13:48:58.703Z"
   },
   {
    "duration": 424,
    "start_time": "2022-12-26T13:49:21.720Z"
   },
   {
    "duration": 84,
    "start_time": "2022-12-26T13:49:26.266Z"
   },
   {
    "duration": 412,
    "start_time": "2022-12-26T13:49:28.477Z"
   },
   {
    "duration": 12,
    "start_time": "2022-12-26T13:54:44.996Z"
   },
   {
    "duration": 5,
    "start_time": "2022-12-26T13:54:51.019Z"
   },
   {
    "duration": 407,
    "start_time": "2022-12-26T13:54:52.444Z"
   },
   {
    "duration": 218,
    "start_time": "2022-12-26T13:54:54.878Z"
   },
   {
    "duration": 102431,
    "start_time": "2022-12-26T13:55:13.212Z"
   },
   {
    "duration": 60320,
    "start_time": "2022-12-26T14:00:11.065Z"
   },
   {
    "duration": 5,
    "start_time": "2022-12-26T14:01:11.387Z"
   },
   {
    "duration": 47,
    "start_time": "2022-12-26T14:01:11.394Z"
   },
   {
    "duration": 6,
    "start_time": "2022-12-26T14:01:11.444Z"
   },
   {
    "duration": 9,
    "start_time": "2022-12-26T14:01:11.452Z"
   },
   {
    "duration": 23401,
    "start_time": "2022-12-26T14:01:11.463Z"
   },
   {
    "duration": 125,
    "start_time": "2022-12-26T14:01:34.866Z"
   },
   {
    "duration": 3,
    "start_time": "2022-12-26T14:11:56.901Z"
   },
   {
    "duration": 25,
    "start_time": "2022-12-26T14:11:57.975Z"
   },
   {
    "duration": 4,
    "start_time": "2022-12-26T14:12:04.390Z"
   },
   {
    "duration": 23478,
    "start_time": "2022-12-26T14:12:06.637Z"
   },
   {
    "duration": 94,
    "start_time": "2022-12-26T14:12:30.117Z"
   },
   {
    "duration": 30,
    "start_time": "2022-12-26T14:13:15.656Z"
   },
   {
    "duration": 6,
    "start_time": "2022-12-26T14:13:28.841Z"
   },
   {
    "duration": 6,
    "start_time": "2022-12-26T14:34:00.008Z"
   },
   {
    "duration": 4,
    "start_time": "2022-12-26T14:34:16.551Z"
   },
   {
    "duration": 37,
    "start_time": "2022-12-26T14:35:47.603Z"
   },
   {
    "duration": 111,
    "start_time": "2022-12-26T14:35:51.173Z"
   },
   {
    "duration": 11,
    "start_time": "2022-12-26T14:36:02.776Z"
   },
   {
    "duration": 25,
    "start_time": "2022-12-26T14:36:07.168Z"
   },
   {
    "duration": 521,
    "start_time": "2022-12-26T14:38:31.146Z"
   },
   {
    "duration": 21706,
    "start_time": "2022-12-26T14:38:33.636Z"
   },
   {
    "duration": 9877,
    "start_time": "2022-12-26T14:39:30.952Z"
   },
   {
    "duration": 11265,
    "start_time": "2022-12-26T14:40:03.367Z"
   },
   {
    "duration": 535,
    "start_time": "2022-12-26T14:41:21.438Z"
   },
   {
    "duration": 509,
    "start_time": "2022-12-26T14:41:31.831Z"
   },
   {
    "duration": 4,
    "start_time": "2022-12-26T14:44:20.875Z"
   },
   {
    "duration": 496,
    "start_time": "2022-12-26T14:44:44.387Z"
   },
   {
    "duration": 12,
    "start_time": "2022-12-26T14:45:42.941Z"
   },
   {
    "duration": 548,
    "start_time": "2022-12-26T14:45:51.516Z"
   },
   {
    "duration": 3,
    "start_time": "2022-12-26T14:45:54.652Z"
   },
   {
    "duration": 562,
    "start_time": "2022-12-26T14:45:55.269Z"
   },
   {
    "duration": 3,
    "start_time": "2022-12-26T14:46:20.814Z"
   },
   {
    "duration": 500,
    "start_time": "2022-12-26T14:46:22.860Z"
   },
   {
    "duration": 491,
    "start_time": "2022-12-26T14:46:36.934Z"
   },
   {
    "duration": 596,
    "start_time": "2022-12-26T14:46:45.701Z"
   },
   {
    "duration": 496,
    "start_time": "2022-12-26T14:48:02.504Z"
   },
   {
    "duration": 22296,
    "start_time": "2022-12-26T14:48:20.708Z"
   },
   {
    "duration": 10777,
    "start_time": "2022-12-26T14:50:32.154Z"
   },
   {
    "duration": 23139,
    "start_time": "2022-12-26T14:51:46.967Z"
   },
   {
    "duration": 4,
    "start_time": "2022-12-26T14:52:20.068Z"
   },
   {
    "duration": 31183,
    "start_time": "2022-12-26T14:53:37.246Z"
   },
   {
    "duration": 34616,
    "start_time": "2022-12-26T14:54:20.319Z"
   },
   {
    "duration": 3,
    "start_time": "2022-12-26T14:55:26.912Z"
   },
   {
    "duration": 34569,
    "start_time": "2022-12-26T14:55:27.261Z"
   },
   {
    "duration": 34014,
    "start_time": "2022-12-26T14:56:35.113Z"
   },
   {
    "duration": 43721,
    "start_time": "2022-12-26T15:02:47.111Z"
   },
   {
    "duration": 49,
    "start_time": "2022-12-26T19:03:45.804Z"
   },
   {
    "duration": 7,
    "start_time": "2022-12-26T19:03:52.799Z"
   },
   {
    "duration": 2687,
    "start_time": "2022-12-26T19:04:09.873Z"
   },
   {
    "duration": 2770,
    "start_time": "2022-12-26T19:04:12.563Z"
   },
   {
    "duration": 41,
    "start_time": "2022-12-26T19:04:15.335Z"
   },
   {
    "duration": 23,
    "start_time": "2022-12-26T19:04:15.378Z"
   },
   {
    "duration": 86522,
    "start_time": "2022-12-26T19:04:15.403Z"
   },
   {
    "duration": 101,
    "start_time": "2022-12-26T19:05:41.926Z"
   },
   {
    "duration": 149,
    "start_time": "2022-12-26T19:05:42.029Z"
   },
   {
    "duration": 8509,
    "start_time": "2022-12-26T19:05:42.179Z"
   },
   {
    "duration": 5,
    "start_time": "2022-12-26T19:05:50.690Z"
   },
   {
    "duration": 454,
    "start_time": "2022-12-26T19:05:50.699Z"
   },
   {
    "duration": 243,
    "start_time": "2022-12-26T19:05:51.155Z"
   },
   {
    "duration": 117,
    "start_time": "2022-12-26T19:05:51.399Z"
   },
   {
    "duration": 0,
    "start_time": "2022-12-26T19:05:51.517Z"
   },
   {
    "duration": 0,
    "start_time": "2022-12-26T19:05:51.522Z"
   },
   {
    "duration": 0,
    "start_time": "2022-12-26T19:05:51.523Z"
   },
   {
    "duration": 0,
    "start_time": "2022-12-26T19:05:51.525Z"
   },
   {
    "duration": 0,
    "start_time": "2022-12-26T19:05:51.526Z"
   },
   {
    "duration": 0,
    "start_time": "2022-12-26T19:05:51.527Z"
   },
   {
    "duration": 0,
    "start_time": "2022-12-26T19:05:51.528Z"
   },
   {
    "duration": 0,
    "start_time": "2022-12-26T19:05:51.529Z"
   },
   {
    "duration": 0,
    "start_time": "2022-12-26T19:05:51.530Z"
   },
   {
    "duration": 107876,
    "start_time": "2022-12-26T19:07:06.779Z"
   },
   {
    "duration": 6,
    "start_time": "2022-12-26T19:08:54.721Z"
   },
   {
    "duration": 19602,
    "start_time": "2022-12-26T19:08:54.729Z"
   },
   {
    "duration": 19644,
    "start_time": "2022-12-26T19:09:37.878Z"
   },
   {
    "duration": 1149,
    "start_time": "2022-12-26T19:20:37.077Z"
   },
   {
    "duration": 18,
    "start_time": "2022-12-26T19:20:43.975Z"
   },
   {
    "duration": 8,
    "start_time": "2022-12-26T19:20:48.900Z"
   },
   {
    "duration": 188,
    "start_time": "2022-12-26T19:23:37.486Z"
   },
   {
    "duration": 87043,
    "start_time": "2022-12-26T19:24:53.400Z"
   },
   {
    "duration": 54,
    "start_time": "2022-12-26T19:26:20.445Z"
   },
   {
    "duration": 7,
    "start_time": "2022-12-26T19:29:47.360Z"
   },
   {
    "duration": 35,
    "start_time": "2022-12-26T19:30:30.960Z"
   },
   {
    "duration": 4,
    "start_time": "2022-12-26T19:32:15.936Z"
   },
   {
    "duration": 11,
    "start_time": "2022-12-26T19:34:34.845Z"
   },
   {
    "duration": 10,
    "start_time": "2022-12-26T19:34:36.867Z"
   },
   {
    "duration": 22,
    "start_time": "2022-12-26T19:34:40.179Z"
   },
   {
    "duration": 364,
    "start_time": "2022-12-26T19:39:09.184Z"
   },
   {
    "duration": 147,
    "start_time": "2022-12-26T19:42:10.278Z"
   },
   {
    "duration": 138,
    "start_time": "2022-12-26T19:42:22.884Z"
   },
   {
    "duration": 67,
    "start_time": "2022-12-26T19:42:30.564Z"
   },
   {
    "duration": 194,
    "start_time": "2022-12-26T19:42:33.131Z"
   },
   {
    "duration": 73,
    "start_time": "2022-12-26T19:42:35.723Z"
   },
   {
    "duration": 70,
    "start_time": "2022-12-26T19:42:39.261Z"
   },
   {
    "duration": 222,
    "start_time": "2022-12-26T19:42:55.509Z"
   },
   {
    "duration": 118,
    "start_time": "2022-12-26T19:43:02.405Z"
   },
   {
    "duration": 180,
    "start_time": "2022-12-26T19:43:17.364Z"
   },
   {
    "duration": 1240,
    "start_time": "2022-12-26T19:43:23.997Z"
   },
   {
    "duration": 120,
    "start_time": "2022-12-26T19:43:27.005Z"
   },
   {
    "duration": 673,
    "start_time": "2022-12-26T19:44:41.351Z"
   },
   {
    "duration": 81,
    "start_time": "2022-12-26T19:44:54.544Z"
   },
   {
    "duration": 34,
    "start_time": "2022-12-26T19:54:22.900Z"
   },
   {
    "duration": 101,
    "start_time": "2022-12-26T19:54:25.922Z"
   },
   {
    "duration": 46,
    "start_time": "2022-12-26T19:54:34.585Z"
   },
   {
    "duration": 98,
    "start_time": "2022-12-26T19:54:36.697Z"
   },
   {
    "duration": 50,
    "start_time": "2022-12-26T19:54:38.779Z"
   },
   {
    "duration": 32,
    "start_time": "2022-12-26T19:54:47.691Z"
   },
   {
    "duration": 32,
    "start_time": "2022-12-26T19:54:51.890Z"
   },
   {
    "duration": 66,
    "start_time": "2022-12-26T19:55:40.258Z"
   },
   {
    "duration": 4,
    "start_time": "2022-12-26T19:55:52.428Z"
   },
   {
    "duration": 82,
    "start_time": "2022-12-26T19:55:59.941Z"
   },
   {
    "duration": 27,
    "start_time": "2022-12-26T19:56:17.932Z"
   },
   {
    "duration": 27,
    "start_time": "2022-12-26T19:57:30.205Z"
   },
   {
    "duration": 20,
    "start_time": "2022-12-26T19:57:45.224Z"
   },
   {
    "duration": 20,
    "start_time": "2022-12-26T19:58:13.751Z"
   },
   {
    "duration": 71,
    "start_time": "2022-12-26T19:59:08.151Z"
   },
   {
    "duration": 80,
    "start_time": "2022-12-26T19:59:11.743Z"
   },
   {
    "duration": 121,
    "start_time": "2022-12-26T19:59:18.104Z"
   },
   {
    "duration": 269,
    "start_time": "2022-12-26T19:59:20.616Z"
   },
   {
    "duration": 24,
    "start_time": "2022-12-26T20:03:24.721Z"
   },
   {
    "duration": 144,
    "start_time": "2022-12-26T20:03:33.981Z"
   },
   {
    "duration": 129,
    "start_time": "2022-12-26T20:03:47.710Z"
   },
   {
    "duration": 93,
    "start_time": "2022-12-26T20:03:56.241Z"
   },
   {
    "duration": 24,
    "start_time": "2022-12-26T20:04:00.688Z"
   },
   {
    "duration": 73,
    "start_time": "2022-12-26T20:05:36.750Z"
   },
   {
    "duration": 3,
    "start_time": "2022-12-26T20:09:04.721Z"
   },
   {
    "duration": 50,
    "start_time": "2022-12-27T06:09:53.915Z"
   },
   {
    "duration": 2795,
    "start_time": "2022-12-27T06:10:04.516Z"
   },
   {
    "duration": 1860,
    "start_time": "2022-12-27T06:10:07.314Z"
   },
   {
    "duration": 46,
    "start_time": "2022-12-27T06:10:09.176Z"
   },
   {
    "duration": 22,
    "start_time": "2022-12-27T06:10:09.224Z"
   },
   {
    "duration": 80659,
    "start_time": "2022-12-27T06:10:09.247Z"
   },
   {
    "duration": 92,
    "start_time": "2022-12-27T06:11:29.908Z"
   },
   {
    "duration": 3,
    "start_time": "2022-12-27T06:11:30.001Z"
   },
   {
    "duration": 136,
    "start_time": "2022-12-27T06:11:30.021Z"
   },
   {
    "duration": 7626,
    "start_time": "2022-12-27T06:11:30.158Z"
   },
   {
    "duration": 4,
    "start_time": "2022-12-27T06:11:37.786Z"
   },
   {
    "duration": 438,
    "start_time": "2022-12-27T06:11:37.792Z"
   },
   {
    "duration": 228,
    "start_time": "2022-12-27T06:11:38.232Z"
   },
   {
    "duration": 105,
    "start_time": "2022-12-27T06:11:38.462Z"
   },
   {
    "duration": 0,
    "start_time": "2022-12-27T06:11:38.569Z"
   },
   {
    "duration": 0,
    "start_time": "2022-12-27T06:11:38.571Z"
   },
   {
    "duration": 0,
    "start_time": "2022-12-27T06:11:38.572Z"
   },
   {
    "duration": 0,
    "start_time": "2022-12-27T06:11:38.574Z"
   },
   {
    "duration": 0,
    "start_time": "2022-12-27T06:11:38.575Z"
   },
   {
    "duration": 0,
    "start_time": "2022-12-27T06:11:38.577Z"
   },
   {
    "duration": 0,
    "start_time": "2022-12-27T06:11:38.578Z"
   },
   {
    "duration": 0,
    "start_time": "2022-12-27T06:11:38.580Z"
   },
   {
    "duration": 1,
    "start_time": "2022-12-27T06:11:38.581Z"
   },
   {
    "duration": 0,
    "start_time": "2022-12-27T06:11:38.583Z"
   },
   {
    "duration": 0,
    "start_time": "2022-12-27T06:11:38.584Z"
   },
   {
    "duration": 0,
    "start_time": "2022-12-27T06:11:38.586Z"
   },
   {
    "duration": 3,
    "start_time": "2022-12-27T06:12:42.223Z"
   },
   {
    "duration": 388,
    "start_time": "2022-12-27T06:12:44.321Z"
   },
   {
    "duration": 9,
    "start_time": "2022-12-27T06:12:47.720Z"
   },
   {
    "duration": 98783,
    "start_time": "2022-12-27T06:12:51.439Z"
   },
   {
    "duration": 16898,
    "start_time": "2022-12-27T06:14:30.225Z"
   },
   {
    "duration": 4,
    "start_time": "2022-12-27T06:14:47.124Z"
   },
   {
    "duration": 44,
    "start_time": "2022-12-27T06:14:47.129Z"
   },
   {
    "duration": 0,
    "start_time": "2022-12-27T06:14:47.175Z"
   },
   {
    "duration": 0,
    "start_time": "2022-12-27T06:14:47.175Z"
   },
   {
    "duration": 104,
    "start_time": "2022-12-27T06:15:03.730Z"
   },
   {
    "duration": 45,
    "start_time": "2022-12-27T06:15:21.387Z"
   },
   {
    "duration": 7,
    "start_time": "2022-12-27T06:15:40.411Z"
   },
   {
    "duration": 5,
    "start_time": "2022-12-27T06:16:07.653Z"
   },
   {
    "duration": 37,
    "start_time": "2022-12-27T06:16:34.701Z"
   },
   {
    "duration": 92,
    "start_time": "2022-12-27T06:17:20.836Z"
   },
   {
    "duration": 78,
    "start_time": "2022-12-27T06:18:57.552Z"
   },
   {
    "duration": 60,
    "start_time": "2022-12-27T06:19:13.071Z"
   },
   {
    "duration": 102,
    "start_time": "2022-12-27T06:24:01.621Z"
   },
   {
    "duration": 96,
    "start_time": "2022-12-27T06:25:54.427Z"
   },
   {
    "duration": 132,
    "start_time": "2022-12-27T06:26:12.990Z"
   },
   {
    "duration": 12,
    "start_time": "2022-12-27T06:26:55.432Z"
   },
   {
    "duration": 98,
    "start_time": "2022-12-27T06:34:01.427Z"
   },
   {
    "duration": 49,
    "start_time": "2022-12-27T06:34:19.274Z"
   },
   {
    "duration": 95,
    "start_time": "2022-12-27T06:35:27.933Z"
   },
   {
    "duration": 120,
    "start_time": "2022-12-27T06:35:52.810Z"
   },
   {
    "duration": 32,
    "start_time": "2022-12-27T06:36:00.498Z"
   },
   {
    "duration": 182,
    "start_time": "2022-12-27T06:36:08.242Z"
   },
   {
    "duration": 87,
    "start_time": "2022-12-27T06:36:16.942Z"
   },
   {
    "duration": 49,
    "start_time": "2022-12-27T06:36:45.075Z"
   },
   {
    "duration": 170,
    "start_time": "2022-12-27T06:37:30.156Z"
   },
   {
    "duration": 8906,
    "start_time": "2022-12-27T06:38:23.051Z"
   },
   {
    "duration": 2915,
    "start_time": "2022-12-27T10:35:25.479Z"
   },
   {
    "duration": 1857,
    "start_time": "2022-12-27T10:35:28.396Z"
   },
   {
    "duration": 46,
    "start_time": "2022-12-27T10:35:30.255Z"
   },
   {
    "duration": 23,
    "start_time": "2022-12-27T10:35:30.303Z"
   },
   {
    "duration": 82806,
    "start_time": "2022-12-27T10:35:30.328Z"
   },
   {
    "duration": 103,
    "start_time": "2022-12-27T10:36:53.136Z"
   },
   {
    "duration": 3,
    "start_time": "2022-12-27T10:36:53.240Z"
   },
   {
    "duration": 153,
    "start_time": "2022-12-27T10:36:53.245Z"
   },
   {
    "duration": 8090,
    "start_time": "2022-12-27T10:36:53.400Z"
   },
   {
    "duration": 5,
    "start_time": "2022-12-27T10:37:01.492Z"
   },
   {
    "duration": 456,
    "start_time": "2022-12-27T10:37:01.498Z"
   },
   {
    "duration": 234,
    "start_time": "2022-12-27T10:37:01.956Z"
   },
   {
    "duration": 99,
    "start_time": "2022-12-27T10:37:02.192Z"
   },
   {
    "duration": 0,
    "start_time": "2022-12-27T10:37:02.297Z"
   },
   {
    "duration": 0,
    "start_time": "2022-12-27T10:37:02.298Z"
   },
   {
    "duration": 0,
    "start_time": "2022-12-27T10:37:02.299Z"
   },
   {
    "duration": 0,
    "start_time": "2022-12-27T10:37:02.300Z"
   },
   {
    "duration": 0,
    "start_time": "2022-12-27T10:37:02.301Z"
   },
   {
    "duration": 0,
    "start_time": "2022-12-27T10:37:02.302Z"
   },
   {
    "duration": 0,
    "start_time": "2022-12-27T10:37:02.303Z"
   },
   {
    "duration": 0,
    "start_time": "2022-12-27T10:37:02.304Z"
   },
   {
    "duration": 0,
    "start_time": "2022-12-27T10:37:02.305Z"
   },
   {
    "duration": 0,
    "start_time": "2022-12-27T10:37:02.307Z"
   },
   {
    "duration": 103317,
    "start_time": "2022-12-27T11:08:45.782Z"
   },
   {
    "duration": 4,
    "start_time": "2022-12-27T11:10:29.101Z"
   },
   {
    "duration": 469,
    "start_time": "2022-12-27T11:10:29.107Z"
   },
   {
    "duration": 14920,
    "start_time": "2022-12-27T11:10:29.579Z"
   },
   {
    "duration": 4,
    "start_time": "2022-12-27T11:10:44.501Z"
   },
   {
    "duration": 0,
    "start_time": "2022-12-27T11:10:53.379Z"
   },
   {
    "duration": 8694,
    "start_time": "2022-12-27T11:10:55.799Z"
   },
   {
    "duration": 9501,
    "start_time": "2022-12-27T11:12:14.106Z"
   },
   {
    "duration": 9638,
    "start_time": "2022-12-27T11:12:28.459Z"
   },
   {
    "duration": 33,
    "start_time": "2022-12-27T11:15:26.469Z"
   },
   {
    "duration": 28,
    "start_time": "2022-12-27T11:15:39.783Z"
   },
   {
    "duration": 9050,
    "start_time": "2022-12-27T11:15:54.605Z"
   },
   {
    "duration": 9050,
    "start_time": "2022-12-27T11:16:32.062Z"
   },
   {
    "duration": 9145,
    "start_time": "2022-12-27T11:17:23.695Z"
   },
   {
    "duration": 8959,
    "start_time": "2022-12-27T11:17:37.151Z"
   },
   {
    "duration": 8997,
    "start_time": "2022-12-27T11:17:57.512Z"
   },
   {
    "duration": 9040,
    "start_time": "2022-12-27T11:18:57.689Z"
   },
   {
    "duration": 9083,
    "start_time": "2022-12-27T11:22:34.143Z"
   },
   {
    "duration": 9265,
    "start_time": "2022-12-27T11:23:33.369Z"
   },
   {
    "duration": 9076,
    "start_time": "2022-12-27T11:26:05.956Z"
   },
   {
    "duration": 9355,
    "start_time": "2022-12-27T11:26:50.814Z"
   },
   {
    "duration": 9078,
    "start_time": "2022-12-27T11:28:08.519Z"
   },
   {
    "duration": 9301,
    "start_time": "2022-12-27T11:28:57.979Z"
   },
   {
    "duration": 9607,
    "start_time": "2022-12-27T11:34:29.364Z"
   },
   {
    "duration": 9405,
    "start_time": "2022-12-27T11:35:13.747Z"
   },
   {
    "duration": 10153,
    "start_time": "2022-12-27T11:36:03.170Z"
   },
   {
    "duration": 9879,
    "start_time": "2022-12-27T11:36:15.546Z"
   },
   {
    "duration": 9631,
    "start_time": "2022-12-27T11:36:31.530Z"
   },
   {
    "duration": 9891,
    "start_time": "2022-12-27T11:40:54.399Z"
   },
   {
    "duration": 3201,
    "start_time": "2022-12-27T13:51:33.080Z"
   },
   {
    "duration": 1966,
    "start_time": "2022-12-27T13:51:36.284Z"
   },
   {
    "duration": 45,
    "start_time": "2022-12-27T13:51:38.252Z"
   },
   {
    "duration": 23,
    "start_time": "2022-12-27T13:51:38.299Z"
   },
   {
    "duration": 86740,
    "start_time": "2022-12-27T13:51:38.324Z"
   },
   {
    "duration": 125,
    "start_time": "2022-12-27T13:53:05.066Z"
   },
   {
    "duration": 3,
    "start_time": "2022-12-27T13:53:05.192Z"
   },
   {
    "duration": 162,
    "start_time": "2022-12-27T13:53:05.196Z"
   },
   {
    "duration": 8449,
    "start_time": "2022-12-27T13:53:05.360Z"
   },
   {
    "duration": 4,
    "start_time": "2022-12-27T13:53:13.812Z"
   },
   {
    "duration": 452,
    "start_time": "2022-12-27T13:53:13.818Z"
   },
   {
    "duration": 250,
    "start_time": "2022-12-27T13:53:14.272Z"
   },
   {
    "duration": 111,
    "start_time": "2022-12-27T13:53:14.523Z"
   },
   {
    "duration": 0,
    "start_time": "2022-12-27T13:53:14.635Z"
   },
   {
    "duration": 0,
    "start_time": "2022-12-27T13:53:14.636Z"
   },
   {
    "duration": 0,
    "start_time": "2022-12-27T13:53:14.637Z"
   },
   {
    "duration": 0,
    "start_time": "2022-12-27T13:53:14.639Z"
   },
   {
    "duration": 0,
    "start_time": "2022-12-27T13:53:14.640Z"
   },
   {
    "duration": 0,
    "start_time": "2022-12-27T13:53:14.641Z"
   },
   {
    "duration": 0,
    "start_time": "2022-12-27T13:53:14.642Z"
   },
   {
    "duration": 0,
    "start_time": "2022-12-27T13:53:14.643Z"
   },
   {
    "duration": 0,
    "start_time": "2022-12-27T13:53:14.644Z"
   },
   {
    "duration": 0,
    "start_time": "2022-12-27T13:53:14.646Z"
   },
   {
    "duration": 0,
    "start_time": "2022-12-27T13:53:14.647Z"
   },
   {
    "duration": 106363,
    "start_time": "2022-12-27T13:58:09.933Z"
   },
   {
    "duration": 81,
    "start_time": "2022-12-27T13:59:56.300Z"
   },
   {
    "duration": 472,
    "start_time": "2022-12-27T13:59:56.384Z"
   },
   {
    "duration": 15226,
    "start_time": "2022-12-27T13:59:56.858Z"
   },
   {
    "duration": 94,
    "start_time": "2022-12-27T14:00:12.086Z"
   },
   {
    "duration": 9375,
    "start_time": "2022-12-27T14:00:12.182Z"
   },
   {
    "duration": 9268,
    "start_time": "2022-12-27T14:00:21.559Z"
   },
   {
    "duration": 9529,
    "start_time": "2022-12-27T14:01:40.241Z"
   },
   {
    "duration": 9435,
    "start_time": "2022-12-27T14:01:49.775Z"
   },
   {
    "duration": 9275,
    "start_time": "2022-12-27T14:03:15.484Z"
   },
   {
    "duration": 9,
    "start_time": "2022-12-27T14:05:57.253Z"
   },
   {
    "duration": 10104,
    "start_time": "2022-12-27T14:06:11.817Z"
   },
   {
    "duration": 9309,
    "start_time": "2022-12-27T14:06:21.922Z"
   },
   {
    "duration": 4,
    "start_time": "2022-12-27T14:06:31.233Z"
   },
   {
    "duration": 4,
    "start_time": "2022-12-27T14:09:16.743Z"
   },
   {
    "duration": 9998,
    "start_time": "2022-12-27T14:10:59.211Z"
   },
   {
    "duration": 0,
    "start_time": "2022-12-27T14:11:09.210Z"
   },
   {
    "duration": 9,
    "start_time": "2022-12-27T14:46:51.419Z"
   },
   {
    "duration": 9,
    "start_time": "2022-12-27T14:47:38.670Z"
   },
   {
    "duration": 17,
    "start_time": "2022-12-27T14:48:49.822Z"
   },
   {
    "duration": 12,
    "start_time": "2022-12-27T14:48:58.469Z"
   },
   {
    "duration": 13,
    "start_time": "2022-12-27T14:49:47.145Z"
   },
   {
    "duration": 15,
    "start_time": "2022-12-27T14:50:05.294Z"
   },
   {
    "duration": 12,
    "start_time": "2022-12-27T14:50:19.698Z"
   },
   {
    "duration": 12,
    "start_time": "2022-12-27T14:55:46.812Z"
   },
   {
    "duration": 11493,
    "start_time": "2022-12-27T14:56:02.142Z"
   },
   {
    "duration": 12,
    "start_time": "2022-12-27T14:57:16.463Z"
   },
   {
    "duration": 12,
    "start_time": "2022-12-27T14:57:24.383Z"
   },
   {
    "duration": 16,
    "start_time": "2022-12-27T14:57:30.344Z"
   },
   {
    "duration": 12,
    "start_time": "2022-12-27T14:57:40.703Z"
   },
   {
    "duration": 15,
    "start_time": "2022-12-27T14:58:39.734Z"
   },
   {
    "duration": 21,
    "start_time": "2022-12-27T14:58:48.580Z"
   },
   {
    "duration": 188,
    "start_time": "2022-12-27T14:58:53.209Z"
   },
   {
    "duration": 18,
    "start_time": "2022-12-27T14:59:20.673Z"
   },
   {
    "duration": 17,
    "start_time": "2022-12-27T15:01:04.263Z"
   },
   {
    "duration": 49,
    "start_time": "2022-12-27T15:01:30.436Z"
   },
   {
    "duration": 147,
    "start_time": "2022-12-27T15:01:32.874Z"
   },
   {
    "duration": 190,
    "start_time": "2022-12-27T15:01:44.678Z"
   },
   {
    "duration": 211,
    "start_time": "2022-12-27T15:02:04.668Z"
   },
   {
    "duration": 152,
    "start_time": "2022-12-27T15:02:12.124Z"
   },
   {
    "duration": 157,
    "start_time": "2022-12-27T15:02:18.326Z"
   },
   {
    "duration": 141,
    "start_time": "2022-12-27T15:02:24.268Z"
   },
   {
    "duration": 165,
    "start_time": "2022-12-27T15:03:54.374Z"
   },
   {
    "duration": 153,
    "start_time": "2022-12-27T15:03:57.181Z"
   },
   {
    "duration": 165,
    "start_time": "2022-12-27T15:04:00.157Z"
   },
   {
    "duration": 152,
    "start_time": "2022-12-27T15:04:11.701Z"
   },
   {
    "duration": 148,
    "start_time": "2022-12-27T15:04:25.566Z"
   },
   {
    "duration": 178,
    "start_time": "2022-12-27T15:05:08.400Z"
   },
   {
    "duration": 201,
    "start_time": "2022-12-27T15:05:35.156Z"
   },
   {
    "duration": 230,
    "start_time": "2022-12-27T15:05:40.248Z"
   },
   {
    "duration": 146,
    "start_time": "2022-12-27T15:05:44.071Z"
   },
   {
    "duration": 150,
    "start_time": "2022-12-27T15:06:01.756Z"
   },
   {
    "duration": 60,
    "start_time": "2022-12-27T15:06:33.259Z"
   },
   {
    "duration": 159,
    "start_time": "2022-12-27T15:06:35.896Z"
   },
   {
    "duration": 178,
    "start_time": "2022-12-27T15:07:12.073Z"
   },
   {
    "duration": 169,
    "start_time": "2022-12-27T15:08:06.636Z"
   },
   {
    "duration": 282,
    "start_time": "2022-12-27T15:08:10.049Z"
   },
   {
    "duration": 187,
    "start_time": "2022-12-27T15:08:53.457Z"
   },
   {
    "duration": 10311,
    "start_time": "2022-12-27T15:11:49.638Z"
   },
   {
    "duration": 10616,
    "start_time": "2022-12-27T15:12:16.806Z"
   },
   {
    "duration": 9967,
    "start_time": "2022-12-27T15:12:36.888Z"
   },
   {
    "duration": 9792,
    "start_time": "2022-12-27T15:13:16.432Z"
   },
   {
    "duration": 10460,
    "start_time": "2022-12-27T15:13:51.325Z"
   },
   {
    "duration": 9188,
    "start_time": "2022-12-27T15:14:42.089Z"
   },
   {
    "duration": 2247,
    "start_time": "2022-12-27T15:17:14.734Z"
   },
   {
    "duration": 1518,
    "start_time": "2022-12-27T15:17:16.983Z"
   },
   {
    "duration": 45,
    "start_time": "2022-12-27T15:17:18.503Z"
   },
   {
    "duration": 34,
    "start_time": "2022-12-27T15:17:18.550Z"
   },
   {
    "duration": 86157,
    "start_time": "2022-12-27T15:17:18.586Z"
   },
   {
    "duration": 123,
    "start_time": "2022-12-27T15:18:44.745Z"
   },
   {
    "duration": 3,
    "start_time": "2022-12-27T15:18:44.877Z"
   },
   {
    "duration": 163,
    "start_time": "2022-12-27T15:18:44.881Z"
   },
   {
    "duration": 7894,
    "start_time": "2022-12-27T15:18:45.045Z"
   },
   {
    "duration": 4,
    "start_time": "2022-12-27T15:18:52.942Z"
   },
   {
    "duration": 460,
    "start_time": "2022-12-27T15:18:52.947Z"
   },
   {
    "duration": 248,
    "start_time": "2022-12-27T15:18:53.408Z"
   },
   {
    "duration": 122,
    "start_time": "2022-12-27T15:18:53.657Z"
   },
   {
    "duration": 0,
    "start_time": "2022-12-27T15:18:53.780Z"
   },
   {
    "duration": 0,
    "start_time": "2022-12-27T15:18:53.782Z"
   },
   {
    "duration": 0,
    "start_time": "2022-12-27T15:18:53.783Z"
   },
   {
    "duration": 0,
    "start_time": "2022-12-27T15:18:53.784Z"
   },
   {
    "duration": 0,
    "start_time": "2022-12-27T15:18:53.785Z"
   },
   {
    "duration": 0,
    "start_time": "2022-12-27T15:18:53.786Z"
   },
   {
    "duration": 0,
    "start_time": "2022-12-27T15:18:53.787Z"
   },
   {
    "duration": 1,
    "start_time": "2022-12-27T15:18:53.788Z"
   },
   {
    "duration": 0,
    "start_time": "2022-12-27T15:18:53.789Z"
   },
   {
    "duration": 0,
    "start_time": "2022-12-27T15:18:53.791Z"
   },
   {
    "duration": 0,
    "start_time": "2022-12-27T15:18:53.792Z"
   },
   {
    "duration": 0,
    "start_time": "2022-12-27T15:18:53.793Z"
   },
   {
    "duration": 0,
    "start_time": "2022-12-27T15:18:53.793Z"
   },
   {
    "duration": 109427,
    "start_time": "2022-12-27T15:34:32.901Z"
   },
   {
    "duration": 7,
    "start_time": "2022-12-27T15:36:22.380Z"
   },
   {
    "duration": 388,
    "start_time": "2022-12-27T15:36:22.477Z"
   },
   {
    "duration": 13311,
    "start_time": "2022-12-27T15:36:22.867Z"
   },
   {
    "duration": 98,
    "start_time": "2022-12-27T15:36:36.188Z"
   },
   {
    "duration": 9162,
    "start_time": "2022-12-27T15:36:36.288Z"
   },
   {
    "duration": 8809,
    "start_time": "2022-12-27T15:36:45.452Z"
   },
   {
    "duration": 236,
    "start_time": "2022-12-27T15:36:54.263Z"
   },
   {
    "duration": 14,
    "start_time": "2022-12-27T15:39:37.997Z"
   },
   {
    "duration": 43,
    "start_time": "2022-12-27T15:41:23.519Z"
   },
   {
    "duration": 11,
    "start_time": "2022-12-27T15:41:31.439Z"
   },
   {
    "duration": 41,
    "start_time": "2022-12-27T15:41:52.136Z"
   },
   {
    "duration": 12,
    "start_time": "2022-12-27T15:41:59.973Z"
   },
   {
    "duration": 10,
    "start_time": "2022-12-27T15:42:10.990Z"
   },
   {
    "duration": 10,
    "start_time": "2022-12-27T15:42:16.405Z"
   },
   {
    "duration": 11,
    "start_time": "2022-12-27T15:43:36.840Z"
   },
   {
    "duration": 11,
    "start_time": "2022-12-27T15:43:46.856Z"
   },
   {
    "duration": 19,
    "start_time": "2022-12-27T15:44:29.009Z"
   },
   {
    "duration": 18,
    "start_time": "2022-12-27T15:44:32.057Z"
   },
   {
    "duration": 17,
    "start_time": "2022-12-27T15:45:26.859Z"
   },
   {
    "duration": 19,
    "start_time": "2022-12-27T15:46:03.533Z"
   },
   {
    "duration": 23,
    "start_time": "2022-12-27T15:46:10.997Z"
   },
   {
    "duration": 17,
    "start_time": "2022-12-27T15:47:38.246Z"
   },
   {
    "duration": 24,
    "start_time": "2022-12-27T15:47:43.725Z"
   },
   {
    "duration": 32,
    "start_time": "2022-12-27T15:47:55.124Z"
   },
   {
    "duration": 28,
    "start_time": "2022-12-27T15:48:05.056Z"
   },
   {
    "duration": 48,
    "start_time": "2022-12-27T15:48:13.438Z"
   },
   {
    "duration": 16,
    "start_time": "2022-12-27T15:48:20.150Z"
   },
   {
    "duration": 26,
    "start_time": "2022-12-27T15:48:26.629Z"
   },
   {
    "duration": 17,
    "start_time": "2022-12-27T15:48:32.782Z"
   },
   {
    "duration": 15,
    "start_time": "2022-12-27T15:48:51.072Z"
   },
   {
    "duration": 32,
    "start_time": "2022-12-27T15:49:02.624Z"
   },
   {
    "duration": 15,
    "start_time": "2022-12-27T15:49:20.576Z"
   },
   {
    "duration": 30,
    "start_time": "2022-12-27T15:49:27.702Z"
   },
   {
    "duration": 18,
    "start_time": "2022-12-27T15:49:38.888Z"
   },
   {
    "duration": 227,
    "start_time": "2022-12-27T15:50:13.152Z"
   },
   {
    "duration": 217,
    "start_time": "2022-12-27T15:50:22.825Z"
   },
   {
    "duration": 18,
    "start_time": "2022-12-27T15:50:31.972Z"
   },
   {
    "duration": 238,
    "start_time": "2022-12-27T15:50:43.390Z"
   },
   {
    "duration": 19,
    "start_time": "2022-12-27T15:50:48.208Z"
   },
   {
    "duration": 20,
    "start_time": "2022-12-27T15:50:54.410Z"
   },
   {
    "duration": 19,
    "start_time": "2022-12-27T15:51:07.193Z"
   },
   {
    "duration": 19,
    "start_time": "2022-12-27T15:51:30.841Z"
   },
   {
    "duration": 19,
    "start_time": "2022-12-27T15:51:38.750Z"
   },
   {
    "duration": 17,
    "start_time": "2022-12-27T15:51:48.480Z"
   },
   {
    "duration": 19,
    "start_time": "2022-12-27T15:52:12.697Z"
   },
   {
    "duration": 20,
    "start_time": "2022-12-27T15:52:20.793Z"
   },
   {
    "duration": 20,
    "start_time": "2022-12-27T15:52:43.522Z"
   },
   {
    "duration": 18,
    "start_time": "2022-12-27T15:52:47.776Z"
   },
   {
    "duration": 19,
    "start_time": "2022-12-27T15:53:08.972Z"
   },
   {
    "duration": 19,
    "start_time": "2022-12-27T15:53:23.428Z"
   },
   {
    "duration": 19,
    "start_time": "2022-12-27T15:53:30.571Z"
   },
   {
    "duration": 348,
    "start_time": "2022-12-27T16:03:25.929Z"
   },
   {
    "duration": 39,
    "start_time": "2022-12-27T16:03:37.840Z"
   },
   {
    "duration": 37,
    "start_time": "2022-12-27T16:04:02.495Z"
   },
   {
    "duration": 40,
    "start_time": "2022-12-27T16:05:00.374Z"
   },
   {
    "duration": 38,
    "start_time": "2022-12-27T16:05:15.584Z"
   },
   {
    "duration": 36,
    "start_time": "2022-12-27T16:05:20.648Z"
   },
   {
    "duration": 35,
    "start_time": "2022-12-27T16:05:32.033Z"
   },
   {
    "duration": 11,
    "start_time": "2022-12-27T16:08:21.797Z"
   },
   {
    "duration": 3,
    "start_time": "2022-12-27T16:08:36.069Z"
   },
   {
    "duration": 2,
    "start_time": "2022-12-27T16:08:57.890Z"
   },
   {
    "duration": 928,
    "start_time": "2022-12-27T16:09:05.531Z"
   },
   {
    "duration": 58,
    "start_time": "2022-12-27T16:09:06.868Z"
   },
   {
    "duration": 46,
    "start_time": "2022-12-27T16:09:27.101Z"
   },
   {
    "duration": 871,
    "start_time": "2022-12-27T16:09:29.123Z"
   },
   {
    "duration": 2385,
    "start_time": "2022-12-27T16:09:53.473Z"
   },
   {
    "duration": 1677,
    "start_time": "2022-12-27T16:09:55.860Z"
   },
   {
    "duration": 64,
    "start_time": "2022-12-27T16:09:57.539Z"
   },
   {
    "duration": 24,
    "start_time": "2022-12-27T16:09:57.605Z"
   },
   {
    "duration": 88256,
    "start_time": "2022-12-27T16:09:57.631Z"
   },
   {
    "duration": 105,
    "start_time": "2022-12-27T16:11:25.889Z"
   },
   {
    "duration": 2,
    "start_time": "2022-12-27T16:11:25.996Z"
   },
   {
    "duration": 149,
    "start_time": "2022-12-27T16:11:26.000Z"
   },
   {
    "duration": 8257,
    "start_time": "2022-12-27T16:11:26.151Z"
   },
   {
    "duration": 4,
    "start_time": "2022-12-27T16:11:34.410Z"
   },
   {
    "duration": 471,
    "start_time": "2022-12-27T16:11:34.416Z"
   },
   {
    "duration": 305,
    "start_time": "2022-12-27T16:11:34.891Z"
   },
   {
    "duration": 143,
    "start_time": "2022-12-27T16:11:35.197Z"
   },
   {
    "duration": 0,
    "start_time": "2022-12-27T16:11:35.343Z"
   },
   {
    "duration": 0,
    "start_time": "2022-12-27T16:11:35.345Z"
   },
   {
    "duration": 0,
    "start_time": "2022-12-27T16:11:35.346Z"
   },
   {
    "duration": 0,
    "start_time": "2022-12-27T16:11:35.348Z"
   },
   {
    "duration": 0,
    "start_time": "2022-12-27T16:11:35.349Z"
   },
   {
    "duration": 0,
    "start_time": "2022-12-27T16:11:35.350Z"
   },
   {
    "duration": 0,
    "start_time": "2022-12-27T16:11:35.352Z"
   },
   {
    "duration": 0,
    "start_time": "2022-12-27T16:11:35.353Z"
   },
   {
    "duration": 0,
    "start_time": "2022-12-27T16:11:35.355Z"
   },
   {
    "duration": 0,
    "start_time": "2022-12-27T16:11:35.356Z"
   },
   {
    "duration": 0,
    "start_time": "2022-12-27T16:11:35.380Z"
   },
   {
    "duration": 0,
    "start_time": "2022-12-27T16:11:35.381Z"
   },
   {
    "duration": 0,
    "start_time": "2022-12-27T16:11:35.382Z"
   },
   {
    "duration": 0,
    "start_time": "2022-12-27T16:11:35.382Z"
   },
   {
    "duration": 0,
    "start_time": "2022-12-27T16:11:35.383Z"
   },
   {
    "duration": 111937,
    "start_time": "2022-12-27T16:20:35.450Z"
   },
   {
    "duration": 86,
    "start_time": "2022-12-27T16:22:27.391Z"
   },
   {
    "duration": 451,
    "start_time": "2022-12-27T16:22:27.481Z"
   },
   {
    "duration": 16842,
    "start_time": "2022-12-27T16:22:27.935Z"
   },
   {
    "duration": 6,
    "start_time": "2022-12-27T16:22:44.779Z"
   },
   {
    "duration": 10532,
    "start_time": "2022-12-27T16:22:44.788Z"
   },
   {
    "duration": 0,
    "start_time": "2022-12-27T16:22:55.340Z"
   },
   {
    "duration": 0,
    "start_time": "2022-12-27T16:22:55.342Z"
   },
   {
    "duration": 0,
    "start_time": "2022-12-27T16:22:55.344Z"
   },
   {
    "duration": 0,
    "start_time": "2022-12-27T16:22:55.354Z"
   },
   {
    "duration": 0,
    "start_time": "2022-12-27T16:22:55.355Z"
   },
   {
    "duration": 9996,
    "start_time": "2022-12-27T16:23:56.317Z"
   },
   {
    "duration": 284,
    "start_time": "2022-12-27T16:24:06.315Z"
   },
   {
    "duration": 16,
    "start_time": "2022-12-27T16:24:06.602Z"
   },
   {
    "duration": 72,
    "start_time": "2022-12-27T16:24:06.621Z"
   },
   {
    "duration": 10,
    "start_time": "2022-12-27T16:24:06.696Z"
   },
   {
    "duration": 31,
    "start_time": "2022-12-27T16:26:14.486Z"
   },
   {
    "duration": 20,
    "start_time": "2022-12-27T16:26:30.927Z"
   },
   {
    "duration": 18,
    "start_time": "2022-12-27T16:26:36.912Z"
   },
   {
    "duration": 16,
    "start_time": "2022-12-27T16:27:01.625Z"
   },
   {
    "duration": 18,
    "start_time": "2022-12-27T16:27:22.736Z"
   },
   {
    "duration": 36,
    "start_time": "2022-12-27T16:27:56.344Z"
   },
   {
    "duration": 56,
    "start_time": "2022-12-27T16:29:46.151Z"
   },
   {
    "duration": 49,
    "start_time": "2022-12-27T16:30:08.004Z"
   },
   {
    "duration": 2978,
    "start_time": "2022-12-27T20:46:49.576Z"
   },
   {
    "duration": 2784,
    "start_time": "2022-12-27T20:46:52.557Z"
   },
   {
    "duration": 51,
    "start_time": "2022-12-27T20:46:55.343Z"
   },
   {
    "duration": 24,
    "start_time": "2022-12-27T20:46:55.397Z"
   },
   {
    "duration": 92952,
    "start_time": "2022-12-27T20:46:55.424Z"
   },
   {
    "duration": 125,
    "start_time": "2022-12-27T20:48:28.378Z"
   },
   {
    "duration": 4,
    "start_time": "2022-12-27T20:48:28.505Z"
   },
   {
    "duration": 171,
    "start_time": "2022-12-27T20:48:28.510Z"
   },
   {
    "duration": 9158,
    "start_time": "2022-12-27T20:48:28.683Z"
   },
   {
    "duration": 6,
    "start_time": "2022-12-27T20:48:37.842Z"
   },
   {
    "duration": 457,
    "start_time": "2022-12-27T20:48:37.850Z"
   },
   {
    "duration": 247,
    "start_time": "2022-12-27T20:48:38.308Z"
   },
   {
    "duration": 119,
    "start_time": "2022-12-27T20:48:38.557Z"
   },
   {
    "duration": 0,
    "start_time": "2022-12-27T20:48:38.678Z"
   },
   {
    "duration": 0,
    "start_time": "2022-12-27T20:48:38.680Z"
   },
   {
    "duration": 0,
    "start_time": "2022-12-27T20:48:38.681Z"
   },
   {
    "duration": 0,
    "start_time": "2022-12-27T20:48:38.683Z"
   },
   {
    "duration": 0,
    "start_time": "2022-12-27T20:48:38.684Z"
   },
   {
    "duration": 0,
    "start_time": "2022-12-27T20:48:38.685Z"
   },
   {
    "duration": 0,
    "start_time": "2022-12-27T20:48:38.687Z"
   },
   {
    "duration": 0,
    "start_time": "2022-12-27T20:48:38.688Z"
   },
   {
    "duration": 0,
    "start_time": "2022-12-27T20:48:38.689Z"
   },
   {
    "duration": 0,
    "start_time": "2022-12-27T20:48:38.691Z"
   },
   {
    "duration": 0,
    "start_time": "2022-12-27T20:48:38.692Z"
   },
   {
    "duration": 0,
    "start_time": "2022-12-27T20:48:38.694Z"
   },
   {
    "duration": 0,
    "start_time": "2022-12-27T20:48:38.695Z"
   },
   {
    "duration": 0,
    "start_time": "2022-12-27T20:48:38.696Z"
   },
   {
    "duration": 0,
    "start_time": "2022-12-27T20:48:38.698Z"
   },
   {
    "duration": 116803,
    "start_time": "2022-12-27T20:49:07.448Z"
   },
   {
    "duration": 33541,
    "start_time": "2022-12-27T20:51:04.258Z"
   },
   {
    "duration": 0,
    "start_time": "2022-12-27T20:51:37.801Z"
   },
   {
    "duration": 0,
    "start_time": "2022-12-27T20:51:37.802Z"
   },
   {
    "duration": 0,
    "start_time": "2022-12-27T20:51:37.803Z"
   },
   {
    "duration": 0,
    "start_time": "2022-12-27T20:51:37.804Z"
   },
   {
    "duration": 0,
    "start_time": "2022-12-27T20:51:37.805Z"
   },
   {
    "duration": 0,
    "start_time": "2022-12-27T20:51:37.806Z"
   },
   {
    "duration": 0,
    "start_time": "2022-12-27T20:51:37.807Z"
   },
   {
    "duration": 0,
    "start_time": "2022-12-27T20:51:37.808Z"
   },
   {
    "duration": 0,
    "start_time": "2022-12-27T20:51:37.809Z"
   },
   {
    "duration": 0,
    "start_time": "2022-12-27T20:51:37.811Z"
   },
   {
    "duration": 3,
    "start_time": "2022-12-27T20:51:42.841Z"
   },
   {
    "duration": 378,
    "start_time": "2022-12-27T20:51:43.393Z"
   },
   {
    "duration": 14377,
    "start_time": "2022-12-27T20:51:43.988Z"
   },
   {
    "duration": 5,
    "start_time": "2022-12-27T20:51:58.368Z"
   },
   {
    "duration": 10734,
    "start_time": "2022-12-27T20:51:58.375Z"
   },
   {
    "duration": 9999,
    "start_time": "2022-12-27T20:52:09.111Z"
   },
   {
    "duration": 238,
    "start_time": "2022-12-27T20:52:19.112Z"
   },
   {
    "duration": 12,
    "start_time": "2022-12-27T20:52:19.352Z"
   },
   {
    "duration": 63,
    "start_time": "2022-12-27T20:52:19.366Z"
   },
   {
    "duration": 129,
    "start_time": "2022-12-27T20:52:19.431Z"
   },
   {
    "duration": 2696,
    "start_time": "2023-01-10T11:07:12.340Z"
   },
   {
    "duration": 1597,
    "start_time": "2023-01-10T11:07:15.039Z"
   },
   {
    "duration": 912,
    "start_time": "2023-01-10T11:07:16.638Z"
   },
   {
    "duration": 41,
    "start_time": "2023-01-10T11:07:17.552Z"
   },
   {
    "duration": 222,
    "start_time": "2023-01-10T11:07:17.595Z"
   },
   {
    "duration": 114,
    "start_time": "2023-01-10T11:07:17.818Z"
   },
   {
    "duration": 0,
    "start_time": "2023-01-10T11:07:17.935Z"
   },
   {
    "duration": 0,
    "start_time": "2023-01-10T11:07:17.936Z"
   },
   {
    "duration": 0,
    "start_time": "2023-01-10T11:07:17.937Z"
   },
   {
    "duration": 0,
    "start_time": "2023-01-10T11:07:17.938Z"
   },
   {
    "duration": 0,
    "start_time": "2023-01-10T11:07:17.939Z"
   },
   {
    "duration": 0,
    "start_time": "2023-01-10T11:07:17.940Z"
   },
   {
    "duration": 0,
    "start_time": "2023-01-10T11:07:17.941Z"
   },
   {
    "duration": 0,
    "start_time": "2023-01-10T11:07:17.942Z"
   },
   {
    "duration": 0,
    "start_time": "2023-01-10T11:07:17.943Z"
   },
   {
    "duration": 0,
    "start_time": "2023-01-10T11:07:17.944Z"
   },
   {
    "duration": 0,
    "start_time": "2023-01-10T11:07:17.945Z"
   },
   {
    "duration": 0,
    "start_time": "2023-01-10T11:07:17.946Z"
   },
   {
    "duration": 0,
    "start_time": "2023-01-10T11:07:17.947Z"
   },
   {
    "duration": 0,
    "start_time": "2023-01-10T11:07:17.948Z"
   },
   {
    "duration": 0,
    "start_time": "2023-01-10T11:07:17.949Z"
   },
   {
    "duration": 0,
    "start_time": "2023-01-10T11:07:17.950Z"
   },
   {
    "duration": 0,
    "start_time": "2023-01-10T11:07:17.951Z"
   },
   {
    "duration": 0,
    "start_time": "2023-01-10T11:07:17.952Z"
   },
   {
    "duration": 0,
    "start_time": "2023-01-10T11:07:17.953Z"
   },
   {
    "duration": 0,
    "start_time": "2023-01-10T11:07:17.954Z"
   },
   {
    "duration": 0,
    "start_time": "2023-01-10T11:07:17.956Z"
   },
   {
    "duration": 0,
    "start_time": "2023-01-10T11:07:17.957Z"
   },
   {
    "duration": 0,
    "start_time": "2023-01-10T11:07:17.958Z"
   },
   {
    "duration": 0,
    "start_time": "2023-01-10T11:07:17.960Z"
   },
   {
    "duration": 0,
    "start_time": "2023-01-10T11:07:17.961Z"
   },
   {
    "duration": 1,
    "start_time": "2023-01-10T11:07:17.961Z"
   },
   {
    "duration": 0,
    "start_time": "2023-01-10T11:07:17.963Z"
   },
   {
    "duration": 0,
    "start_time": "2023-01-10T11:07:17.964Z"
   },
   {
    "duration": 0,
    "start_time": "2023-01-10T11:07:17.965Z"
   },
   {
    "duration": 0,
    "start_time": "2023-01-10T11:07:17.965Z"
   },
   {
    "duration": 0,
    "start_time": "2023-01-10T11:07:17.966Z"
   },
   {
    "duration": 0,
    "start_time": "2023-01-10T11:07:17.967Z"
   },
   {
    "duration": 0,
    "start_time": "2023-01-10T11:07:17.968Z"
   },
   {
    "duration": 0,
    "start_time": "2023-01-10T11:07:17.969Z"
   },
   {
    "duration": 0,
    "start_time": "2023-01-10T11:07:17.970Z"
   },
   {
    "duration": 0,
    "start_time": "2023-01-10T11:07:18.026Z"
   },
   {
    "duration": 1213,
    "start_time": "2023-01-10T11:07:35.472Z"
   },
   {
    "duration": 4,
    "start_time": "2023-01-10T11:08:01.365Z"
   },
   {
    "duration": 1134,
    "start_time": "2023-01-10T13:25:28.249Z"
   },
   {
    "duration": 240,
    "start_time": "2023-01-10T13:26:21.330Z"
   },
   {
    "duration": 43,
    "start_time": "2023-01-10T13:26:23.584Z"
   },
   {
    "duration": 147,
    "start_time": "2023-01-10T13:26:24.889Z"
   },
   {
    "duration": 46478,
    "start_time": "2023-01-10T13:31:03.476Z"
   },
   {
    "duration": 82,
    "start_time": "2023-01-10T13:31:49.956Z"
   },
   {
    "duration": 133,
    "start_time": "2023-01-10T13:31:50.039Z"
   },
   {
    "duration": 7307,
    "start_time": "2023-01-10T13:31:50.174Z"
   },
   {
    "duration": 18,
    "start_time": "2023-01-10T13:31:57.482Z"
   },
   {
    "duration": 4,
    "start_time": "2023-01-10T13:31:57.501Z"
   },
   {
    "duration": 161,
    "start_time": "2023-01-10T13:31:57.506Z"
   },
   {
    "duration": 57,
    "start_time": "2023-01-10T13:31:57.669Z"
   },
   {
    "duration": 10,
    "start_time": "2023-01-10T13:31:57.728Z"
   },
   {
    "duration": 4,
    "start_time": "2023-01-10T13:38:14.112Z"
   },
   {
    "duration": 4,
    "start_time": "2023-01-10T13:38:25.277Z"
   },
   {
    "duration": 13,
    "start_time": "2023-01-10T13:38:25.919Z"
   },
   {
    "duration": 9,
    "start_time": "2023-01-10T13:41:19.941Z"
   },
   {
    "duration": 13,
    "start_time": "2023-01-10T13:41:23.681Z"
   },
   {
    "duration": 108,
    "start_time": "2023-01-10T13:41:24.880Z"
   },
   {
    "duration": 4,
    "start_time": "2023-01-10T13:41:30.842Z"
   },
   {
    "duration": 332,
    "start_time": "2023-01-10T13:41:53.170Z"
   },
   {
    "duration": 424,
    "start_time": "2023-01-10T13:42:03.018Z"
   },
   {
    "duration": 26,
    "start_time": "2023-01-10T13:42:13.331Z"
   },
   {
    "duration": 21,
    "start_time": "2023-01-10T13:42:18.167Z"
   },
   {
    "duration": 3,
    "start_time": "2023-01-10T13:43:05.039Z"
   },
   {
    "duration": 102,
    "start_time": "2023-01-10T13:43:12.890Z"
   },
   {
    "duration": 450,
    "start_time": "2023-01-10T13:43:20.580Z"
   },
   {
    "duration": 98,
    "start_time": "2023-01-10T13:43:24.482Z"
   },
   {
    "duration": 37,
    "start_time": "2023-01-10T15:05:23.769Z"
   },
   {
    "duration": 5,
    "start_time": "2023-01-10T15:06:03.714Z"
   },
   {
    "duration": 4,
    "start_time": "2023-01-10T15:06:22.394Z"
   },
   {
    "duration": 12,
    "start_time": "2023-01-10T15:07:11.364Z"
   },
   {
    "duration": 8,
    "start_time": "2023-01-10T15:08:10.522Z"
   },
   {
    "duration": 16,
    "start_time": "2023-01-10T15:08:36.031Z"
   },
   {
    "duration": 15,
    "start_time": "2023-01-10T15:08:55.478Z"
   },
   {
    "duration": 2225,
    "start_time": "2023-01-10T15:09:01.510Z"
   },
   {
    "duration": 34060,
    "start_time": "2023-01-10T15:09:40.778Z"
   },
   {
    "duration": 41,
    "start_time": "2023-01-10T15:11:43.554Z"
   },
   {
    "duration": 204293,
    "start_time": "2023-01-10T15:11:58.498Z"
   },
   {
    "duration": 7,
    "start_time": "2023-01-10T15:16:30.078Z"
   },
   {
    "duration": 101,
    "start_time": "2023-01-10T15:16:42.853Z"
   },
   {
    "duration": 85,
    "start_time": "2023-01-10T15:17:03.440Z"
   },
   {
    "duration": 87,
    "start_time": "2023-01-10T15:17:10.997Z"
   },
   {
    "duration": 95,
    "start_time": "2023-01-10T15:17:29.327Z"
   },
   {
    "duration": 139,
    "start_time": "2023-01-10T15:17:59.210Z"
   },
   {
    "duration": 6,
    "start_time": "2023-01-10T15:18:06.929Z"
   },
   {
    "duration": 184486,
    "start_time": "2023-01-10T15:20:16.614Z"
   },
   {
    "duration": 191578,
    "start_time": "2023-01-10T15:26:10.133Z"
   },
   {
    "duration": 1456,
    "start_time": "2023-01-10T15:33:01.864Z"
   },
   {
    "duration": 1523,
    "start_time": "2023-01-10T15:33:34.163Z"
   },
   {
    "duration": 1579,
    "start_time": "2023-01-10T15:34:00.780Z"
   },
   {
    "duration": 3,
    "start_time": "2023-01-10T15:37:41.729Z"
   },
   {
    "duration": 4,
    "start_time": "2023-01-10T15:43:52.991Z"
   },
   {
    "duration": 4,
    "start_time": "2023-01-10T15:44:02.672Z"
   },
   {
    "duration": 4,
    "start_time": "2023-01-10T15:44:07.720Z"
   },
   {
    "duration": 4,
    "start_time": "2023-01-10T15:44:10.464Z"
   },
   {
    "duration": 4,
    "start_time": "2023-01-10T15:44:20.138Z"
   },
   {
    "duration": 10,
    "start_time": "2023-01-10T15:44:43.698Z"
   },
   {
    "duration": 18,
    "start_time": "2023-01-10T15:44:48.834Z"
   },
   {
    "duration": 38,
    "start_time": "2023-01-10T15:45:05.855Z"
   },
   {
    "duration": 44,
    "start_time": "2023-01-10T15:45:11.029Z"
   },
   {
    "duration": 41,
    "start_time": "2023-01-10T15:45:16.074Z"
   },
   {
    "duration": 242,
    "start_time": "2023-01-10T15:45:20.350Z"
   },
   {
    "duration": 10,
    "start_time": "2023-01-10T15:45:27.506Z"
   },
   {
    "duration": 3,
    "start_time": "2023-01-10T15:45:30.909Z"
   },
   {
    "duration": 1549,
    "start_time": "2023-01-10T15:45:42.211Z"
   },
   {
    "duration": 4,
    "start_time": "2023-01-10T15:46:00.267Z"
   },
   {
    "duration": 265,
    "start_time": "2023-01-10T15:46:39.380Z"
   },
   {
    "duration": 247,
    "start_time": "2023-01-10T15:46:49.870Z"
   },
   {
    "duration": 1032,
    "start_time": "2023-01-10T15:47:34.704Z"
   },
   {
    "duration": 1054,
    "start_time": "2023-01-10T15:48:38.159Z"
   },
   {
    "duration": 1208,
    "start_time": "2023-01-10T15:48:53.383Z"
   },
   {
    "duration": 940,
    "start_time": "2023-01-10T15:49:19.361Z"
   },
   {
    "duration": 885,
    "start_time": "2023-01-10T15:49:32.657Z"
   },
   {
    "duration": 971,
    "start_time": "2023-01-10T15:49:37.168Z"
   },
   {
    "duration": 1131,
    "start_time": "2023-01-10T15:50:19.065Z"
   },
   {
    "duration": 838,
    "start_time": "2023-01-10T15:50:26.834Z"
   },
   {
    "duration": 929,
    "start_time": "2023-01-10T15:50:46.633Z"
   },
   {
    "duration": 963,
    "start_time": "2023-01-10T15:50:54.986Z"
   },
   {
    "duration": 957,
    "start_time": "2023-01-10T15:51:04.459Z"
   },
   {
    "duration": 994,
    "start_time": "2023-01-10T15:51:16.864Z"
   },
   {
    "duration": 1006,
    "start_time": "2023-01-10T15:51:29.637Z"
   },
   {
    "duration": 990,
    "start_time": "2023-01-10T15:51:36.122Z"
   },
   {
    "duration": 1018,
    "start_time": "2023-01-10T15:51:40.639Z"
   },
   {
    "duration": 77,
    "start_time": "2023-01-10T15:52:09.657Z"
   },
   {
    "duration": 1099,
    "start_time": "2023-01-10T15:52:12.500Z"
   },
   {
    "duration": 5796,
    "start_time": "2023-01-10T16:02:45.044Z"
   },
   {
    "duration": 0,
    "start_time": "2023-01-10T16:19:43.033Z"
   },
   {
    "duration": 6426,
    "start_time": "2023-01-10T16:29:56.448Z"
   },
   {
    "duration": 4,
    "start_time": "2023-01-10T16:30:09.870Z"
   },
   {
    "duration": 6,
    "start_time": "2023-01-10T16:30:15.990Z"
   },
   {
    "duration": 5,
    "start_time": "2023-01-10T16:30:18.145Z"
   },
   {
    "duration": 278,
    "start_time": "2023-01-10T16:30:53.367Z"
   },
   {
    "duration": 76,
    "start_time": "2023-01-10T19:02:21.275Z"
   },
   {
    "duration": 3393,
    "start_time": "2023-01-10T19:02:43.248Z"
   },
   {
    "duration": 1731,
    "start_time": "2023-01-10T19:02:46.643Z"
   },
   {
    "duration": 1475,
    "start_time": "2023-01-10T19:02:48.376Z"
   },
   {
    "duration": 56,
    "start_time": "2023-01-10T19:02:49.853Z"
   },
   {
    "duration": 204,
    "start_time": "2023-01-10T19:02:49.911Z"
   },
   {
    "duration": 51585,
    "start_time": "2023-01-10T19:02:50.117Z"
   },
   {
    "duration": 90,
    "start_time": "2023-01-10T19:03:41.704Z"
   },
   {
    "duration": 155,
    "start_time": "2023-01-10T19:03:41.797Z"
   },
   {
    "duration": 8923,
    "start_time": "2023-01-10T19:03:41.953Z"
   },
   {
    "duration": 30,
    "start_time": "2023-01-10T19:03:50.880Z"
   },
   {
    "duration": 10,
    "start_time": "2023-01-10T19:03:50.913Z"
   },
   {
    "duration": 218,
    "start_time": "2023-01-10T19:03:50.925Z"
   },
   {
    "duration": 98,
    "start_time": "2023-01-10T19:03:51.144Z"
   },
   {
    "duration": 10,
    "start_time": "2023-01-10T19:03:51.244Z"
   },
   {
    "duration": 10,
    "start_time": "2023-01-10T19:03:51.255Z"
   },
   {
    "duration": 20,
    "start_time": "2023-01-10T19:03:51.267Z"
   },
   {
    "duration": 12,
    "start_time": "2023-01-10T19:03:51.290Z"
   },
   {
    "duration": 669,
    "start_time": "2023-01-10T19:03:51.304Z"
   },
   {
    "duration": 3,
    "start_time": "2023-01-10T19:03:51.979Z"
   },
   {
    "duration": 430,
    "start_time": "2023-01-10T19:03:51.985Z"
   },
   {
    "duration": 17,
    "start_time": "2023-01-10T19:03:52.418Z"
   },
   {
    "duration": 511,
    "start_time": "2023-01-10T19:03:52.436Z"
   },
   {
    "duration": 275,
    "start_time": "2023-01-10T19:03:52.949Z"
   },
   {
    "duration": 287,
    "start_time": "2023-01-10T19:03:53.228Z"
   },
   {
    "duration": 118,
    "start_time": "2023-01-10T19:03:53.517Z"
   },
   {
    "duration": 0,
    "start_time": "2023-01-10T19:03:53.638Z"
   },
   {
    "duration": 0,
    "start_time": "2023-01-10T19:03:53.640Z"
   },
   {
    "duration": 0,
    "start_time": "2023-01-10T19:03:53.641Z"
   },
   {
    "duration": 0,
    "start_time": "2023-01-10T19:03:53.642Z"
   },
   {
    "duration": 0,
    "start_time": "2023-01-10T19:03:53.644Z"
   },
   {
    "duration": 0,
    "start_time": "2023-01-10T19:03:53.645Z"
   },
   {
    "duration": 1,
    "start_time": "2023-01-10T19:03:53.646Z"
   },
   {
    "duration": 0,
    "start_time": "2023-01-10T19:03:53.649Z"
   },
   {
    "duration": 0,
    "start_time": "2023-01-10T19:03:53.649Z"
   },
   {
    "duration": 0,
    "start_time": "2023-01-10T19:03:53.651Z"
   },
   {
    "duration": 0,
    "start_time": "2023-01-10T19:03:53.678Z"
   },
   {
    "duration": 0,
    "start_time": "2023-01-10T19:03:53.680Z"
   },
   {
    "duration": 0,
    "start_time": "2023-01-10T19:03:53.681Z"
   },
   {
    "duration": 0,
    "start_time": "2023-01-10T19:03:53.683Z"
   },
   {
    "duration": 16,
    "start_time": "2023-01-10T19:12:24.378Z"
   },
   {
    "duration": 186,
    "start_time": "2023-01-10T19:12:30.059Z"
   },
   {
    "duration": 9,
    "start_time": "2023-01-10T19:12:38.154Z"
   },
   {
    "duration": 99,
    "start_time": "2023-01-10T19:12:43.504Z"
   },
   {
    "duration": 33760,
    "start_time": "2023-01-10T19:12:47.265Z"
   },
   {
    "duration": 35039,
    "start_time": "2023-01-10T19:14:47.095Z"
   },
   {
    "duration": 495,
    "start_time": "2023-01-10T19:15:28.823Z"
   },
   {
    "duration": 210,
    "start_time": "2023-01-10T19:15:29.320Z"
   },
   {
    "duration": 12048,
    "start_time": "2023-01-10T19:15:54.667Z"
   },
   {
    "duration": 12100,
    "start_time": "2023-01-10T19:16:41.552Z"
   },
   {
    "duration": 11926,
    "start_time": "2023-01-10T19:24:18.775Z"
   },
   {
    "duration": 11844,
    "start_time": "2023-01-10T19:28:49.711Z"
   },
   {
    "duration": 2,
    "start_time": "2023-01-10T19:35:32.163Z"
   },
   {
    "duration": 11840,
    "start_time": "2023-01-10T19:36:04.828Z"
   },
   {
    "duration": 10,
    "start_time": "2023-01-10T19:36:30.511Z"
   },
   {
    "duration": 11589,
    "start_time": "2023-01-10T19:36:37.117Z"
   },
   {
    "duration": 13,
    "start_time": "2023-01-10T19:37:12.429Z"
   },
   {
    "duration": 12,
    "start_time": "2023-01-10T19:37:25.453Z"
   },
   {
    "duration": 3,
    "start_time": "2023-01-10T19:37:36.495Z"
   },
   {
    "duration": 12086,
    "start_time": "2023-01-10T19:37:36.847Z"
   },
   {
    "duration": 255,
    "start_time": "2023-01-10T19:43:37.695Z"
   },
   {
    "duration": 212,
    "start_time": "2023-01-10T19:46:33.023Z"
   },
   {
    "duration": 12132,
    "start_time": "2023-01-10T20:35:09.807Z"
   },
   {
    "duration": 30,
    "start_time": "2023-01-10T20:41:35.463Z"
   },
   {
    "duration": 38,
    "start_time": "2023-01-10T20:42:03.098Z"
   },
   {
    "duration": 25,
    "start_time": "2023-01-10T20:42:12.926Z"
   },
   {
    "duration": 176,
    "start_time": "2023-01-10T20:42:16.920Z"
   },
   {
    "duration": 6421,
    "start_time": "2023-01-10T20:42:24.912Z"
   },
   {
    "duration": 6544,
    "start_time": "2023-01-10T20:42:57.460Z"
   },
   {
    "duration": 189,
    "start_time": "2023-01-10T20:43:32.278Z"
   },
   {
    "duration": 191,
    "start_time": "2023-01-10T20:43:44.379Z"
   },
   {
    "duration": 11308,
    "start_time": "2023-01-10T20:43:53.012Z"
   },
   {
    "duration": 4,
    "start_time": "2023-01-10T20:45:25.321Z"
   },
   {
    "duration": 2416,
    "start_time": "2023-01-10T20:47:04.507Z"
   },
   {
    "duration": 1448,
    "start_time": "2023-01-10T20:47:06.925Z"
   },
   {
    "duration": 335,
    "start_time": "2023-01-10T20:47:08.375Z"
   },
   {
    "duration": 44,
    "start_time": "2023-01-10T20:47:08.712Z"
   },
   {
    "duration": 196,
    "start_time": "2023-01-10T20:47:08.758Z"
   },
   {
    "duration": 51945,
    "start_time": "2023-01-10T20:47:08.956Z"
   },
   {
    "duration": 101,
    "start_time": "2023-01-10T20:48:00.902Z"
   },
   {
    "duration": 155,
    "start_time": "2023-01-10T20:48:01.004Z"
   },
   {
    "duration": 8887,
    "start_time": "2023-01-10T20:48:01.161Z"
   },
   {
    "duration": 21,
    "start_time": "2023-01-10T20:48:10.051Z"
   },
   {
    "duration": 7,
    "start_time": "2023-01-10T20:48:10.074Z"
   },
   {
    "duration": 228,
    "start_time": "2023-01-10T20:48:10.084Z"
   },
   {
    "duration": 78,
    "start_time": "2023-01-10T20:48:10.314Z"
   },
   {
    "duration": 15,
    "start_time": "2023-01-10T20:48:10.395Z"
   },
   {
    "duration": 13,
    "start_time": "2023-01-10T20:48:10.412Z"
   },
   {
    "duration": 24,
    "start_time": "2023-01-10T20:48:10.427Z"
   },
   {
    "duration": 19,
    "start_time": "2023-01-10T20:48:10.454Z"
   },
   {
    "duration": 793,
    "start_time": "2023-01-10T20:48:10.476Z"
   },
   {
    "duration": 3,
    "start_time": "2023-01-10T20:48:11.271Z"
   },
   {
    "duration": 444,
    "start_time": "2023-01-10T20:48:11.276Z"
   },
   {
    "duration": 16,
    "start_time": "2023-01-10T20:48:11.722Z"
   },
   {
    "duration": 244,
    "start_time": "2023-01-10T20:48:11.740Z"
   },
   {
    "duration": 335,
    "start_time": "2023-01-10T20:48:11.988Z"
   },
   {
    "duration": 12731,
    "start_time": "2023-01-10T20:48:12.325Z"
   },
   {
    "duration": 0,
    "start_time": "2023-01-10T20:48:25.058Z"
   },
   {
    "duration": 0,
    "start_time": "2023-01-10T20:48:25.060Z"
   },
   {
    "duration": 0,
    "start_time": "2023-01-10T20:48:25.061Z"
   },
   {
    "duration": 0,
    "start_time": "2023-01-10T20:48:25.062Z"
   },
   {
    "duration": 0,
    "start_time": "2023-01-10T20:48:25.063Z"
   },
   {
    "duration": 0,
    "start_time": "2023-01-10T20:48:25.064Z"
   },
   {
    "duration": 0,
    "start_time": "2023-01-10T20:48:25.066Z"
   },
   {
    "duration": 0,
    "start_time": "2023-01-10T20:48:25.078Z"
   },
   {
    "duration": 0,
    "start_time": "2023-01-10T20:48:25.080Z"
   },
   {
    "duration": 0,
    "start_time": "2023-01-10T20:48:25.081Z"
   },
   {
    "duration": 0,
    "start_time": "2023-01-10T20:48:25.082Z"
   },
   {
    "duration": 0,
    "start_time": "2023-01-10T20:48:25.083Z"
   },
   {
    "duration": 0,
    "start_time": "2023-01-10T20:48:25.084Z"
   },
   {
    "duration": 12745,
    "start_time": "2023-01-10T20:49:03.415Z"
   },
   {
    "duration": 44,
    "start_time": "2023-01-11T06:42:02.514Z"
   },
   {
    "duration": 3176,
    "start_time": "2023-01-11T06:42:28.663Z"
   },
   {
    "duration": 1520,
    "start_time": "2023-01-11T06:42:31.841Z"
   },
   {
    "duration": 360,
    "start_time": "2023-01-11T06:42:33.363Z"
   },
   {
    "duration": 45,
    "start_time": "2023-01-11T06:42:33.726Z"
   },
   {
    "duration": 155,
    "start_time": "2023-01-11T06:42:33.772Z"
   },
   {
    "duration": 47832,
    "start_time": "2023-01-11T06:42:33.928Z"
   },
   {
    "duration": 91,
    "start_time": "2023-01-11T06:43:21.762Z"
   },
   {
    "duration": 156,
    "start_time": "2023-01-11T06:43:21.854Z"
   },
   {
    "duration": 7522,
    "start_time": "2023-01-11T06:43:22.012Z"
   },
   {
    "duration": 21,
    "start_time": "2023-01-11T06:43:29.537Z"
   },
   {
    "duration": 10,
    "start_time": "2023-01-11T06:43:29.560Z"
   },
   {
    "duration": 174,
    "start_time": "2023-01-11T06:43:29.571Z"
   },
   {
    "duration": 72,
    "start_time": "2023-01-11T06:43:29.746Z"
   },
   {
    "duration": 11,
    "start_time": "2023-01-11T06:43:29.820Z"
   },
   {
    "duration": 6,
    "start_time": "2023-01-11T06:43:29.833Z"
   },
   {
    "duration": 15,
    "start_time": "2023-01-11T06:43:29.841Z"
   },
   {
    "duration": 8,
    "start_time": "2023-01-11T06:43:29.858Z"
   },
   {
    "duration": 588,
    "start_time": "2023-01-11T06:43:29.868Z"
   },
   {
    "duration": 3,
    "start_time": "2023-01-11T06:43:30.458Z"
   },
   {
    "duration": 412,
    "start_time": "2023-01-11T06:43:30.463Z"
   },
   {
    "duration": 20,
    "start_time": "2023-01-11T06:43:30.877Z"
   },
   {
    "duration": 248,
    "start_time": "2023-01-11T06:43:30.899Z"
   },
   {
    "duration": 113,
    "start_time": "2023-01-11T06:43:31.149Z"
   },
   {
    "duration": 0,
    "start_time": "2023-01-11T06:43:31.264Z"
   },
   {
    "duration": 0,
    "start_time": "2023-01-11T06:43:31.266Z"
   },
   {
    "duration": 0,
    "start_time": "2023-01-11T06:43:31.267Z"
   },
   {
    "duration": 0,
    "start_time": "2023-01-11T06:43:31.268Z"
   },
   {
    "duration": 0,
    "start_time": "2023-01-11T06:43:31.269Z"
   },
   {
    "duration": 0,
    "start_time": "2023-01-11T06:43:31.270Z"
   },
   {
    "duration": 0,
    "start_time": "2023-01-11T06:43:31.271Z"
   },
   {
    "duration": 0,
    "start_time": "2023-01-11T06:43:31.272Z"
   },
   {
    "duration": 0,
    "start_time": "2023-01-11T06:43:31.273Z"
   },
   {
    "duration": 0,
    "start_time": "2023-01-11T06:43:31.274Z"
   },
   {
    "duration": 0,
    "start_time": "2023-01-11T06:43:31.275Z"
   },
   {
    "duration": 0,
    "start_time": "2023-01-11T06:43:31.298Z"
   },
   {
    "duration": 0,
    "start_time": "2023-01-11T06:43:31.299Z"
   },
   {
    "duration": 0,
    "start_time": "2023-01-11T06:43:31.300Z"
   },
   {
    "duration": 0,
    "start_time": "2023-01-11T06:43:31.301Z"
   },
   {
    "duration": 0,
    "start_time": "2023-01-11T06:43:31.302Z"
   },
   {
    "duration": 2060,
    "start_time": "2023-01-11T06:57:26.668Z"
   },
   {
    "duration": 1304,
    "start_time": "2023-01-11T06:57:28.730Z"
   },
   {
    "duration": 225,
    "start_time": "2023-01-11T06:57:30.036Z"
   },
   {
    "duration": 51,
    "start_time": "2023-01-11T06:57:30.263Z"
   },
   {
    "duration": 174,
    "start_time": "2023-01-11T06:57:30.316Z"
   },
   {
    "duration": 48320,
    "start_time": "2023-01-11T06:57:30.491Z"
   },
   {
    "duration": 85,
    "start_time": "2023-01-11T06:58:18.813Z"
   },
   {
    "duration": 142,
    "start_time": "2023-01-11T06:58:18.899Z"
   },
   {
    "duration": 7849,
    "start_time": "2023-01-11T06:58:19.043Z"
   },
   {
    "duration": 21,
    "start_time": "2023-01-11T06:58:26.898Z"
   },
   {
    "duration": 4,
    "start_time": "2023-01-11T06:58:26.921Z"
   },
   {
    "duration": 214,
    "start_time": "2023-01-11T06:58:26.926Z"
   },
   {
    "duration": 59,
    "start_time": "2023-01-11T06:58:27.141Z"
   },
   {
    "duration": 11,
    "start_time": "2023-01-11T06:58:27.202Z"
   },
   {
    "duration": 5,
    "start_time": "2023-01-11T06:58:27.215Z"
   },
   {
    "duration": 26,
    "start_time": "2023-01-11T06:58:27.221Z"
   },
   {
    "duration": 10,
    "start_time": "2023-01-11T06:58:27.249Z"
   },
   {
    "duration": 602,
    "start_time": "2023-01-11T06:58:27.261Z"
   },
   {
    "duration": 3,
    "start_time": "2023-01-11T06:58:27.866Z"
   },
   {
    "duration": 397,
    "start_time": "2023-01-11T06:58:27.871Z"
   },
   {
    "duration": 14,
    "start_time": "2023-01-11T06:58:28.270Z"
   },
   {
    "duration": 207,
    "start_time": "2023-01-11T06:58:28.296Z"
   },
   {
    "duration": 112,
    "start_time": "2023-01-11T06:58:28.504Z"
   },
   {
    "duration": 0,
    "start_time": "2023-01-11T06:58:28.618Z"
   },
   {
    "duration": 0,
    "start_time": "2023-01-11T06:58:28.620Z"
   },
   {
    "duration": 0,
    "start_time": "2023-01-11T06:58:28.621Z"
   },
   {
    "duration": 0,
    "start_time": "2023-01-11T06:58:28.622Z"
   },
   {
    "duration": 0,
    "start_time": "2023-01-11T06:58:28.624Z"
   },
   {
    "duration": 0,
    "start_time": "2023-01-11T06:58:28.626Z"
   },
   {
    "duration": 0,
    "start_time": "2023-01-11T06:58:28.627Z"
   },
   {
    "duration": 0,
    "start_time": "2023-01-11T06:58:28.629Z"
   },
   {
    "duration": 0,
    "start_time": "2023-01-11T06:58:28.630Z"
   },
   {
    "duration": 0,
    "start_time": "2023-01-11T06:58:28.632Z"
   },
   {
    "duration": 0,
    "start_time": "2023-01-11T06:58:28.633Z"
   },
   {
    "duration": 0,
    "start_time": "2023-01-11T06:58:28.635Z"
   },
   {
    "duration": 0,
    "start_time": "2023-01-11T06:58:28.636Z"
   },
   {
    "duration": 0,
    "start_time": "2023-01-11T06:58:28.637Z"
   },
   {
    "duration": 0,
    "start_time": "2023-01-11T06:58:28.639Z"
   },
   {
    "duration": 0,
    "start_time": "2023-01-11T06:58:28.640Z"
   },
   {
    "duration": 17,
    "start_time": "2023-01-11T07:01:58.256Z"
   },
   {
    "duration": 11,
    "start_time": "2023-01-11T07:02:08.748Z"
   },
   {
    "duration": 316,
    "start_time": "2023-01-11T07:02:11.594Z"
   },
   {
    "duration": 51,
    "start_time": "2023-01-11T07:02:33.765Z"
   },
   {
    "duration": 302,
    "start_time": "2023-01-11T07:02:40.101Z"
   },
   {
    "duration": 268,
    "start_time": "2023-01-11T07:02:49.293Z"
   },
   {
    "duration": 5,
    "start_time": "2023-01-11T07:02:49.563Z"
   },
   {
    "duration": 4,
    "start_time": "2023-01-11T07:02:52.033Z"
   },
   {
    "duration": 1655,
    "start_time": "2023-01-11T07:02:59.280Z"
   },
   {
    "duration": 2423,
    "start_time": "2023-01-11T07:13:17.564Z"
   },
   {
    "duration": 1360,
    "start_time": "2023-01-11T07:13:19.989Z"
   },
   {
    "duration": 258,
    "start_time": "2023-01-11T07:13:21.350Z"
   },
   {
    "duration": 69,
    "start_time": "2023-01-11T07:13:21.612Z"
   },
   {
    "duration": 229,
    "start_time": "2023-01-11T07:13:21.698Z"
   },
   {
    "duration": 50960,
    "start_time": "2023-01-11T07:13:21.929Z"
   },
   {
    "duration": 84,
    "start_time": "2023-01-11T07:14:12.891Z"
   },
   {
    "duration": 164,
    "start_time": "2023-01-11T07:14:12.977Z"
   },
   {
    "duration": 7911,
    "start_time": "2023-01-11T07:14:13.143Z"
   },
   {
    "duration": 22,
    "start_time": "2023-01-11T07:14:21.056Z"
   },
   {
    "duration": 4,
    "start_time": "2023-01-11T07:14:21.079Z"
   },
   {
    "duration": 165,
    "start_time": "2023-01-11T07:14:21.085Z"
   },
   {
    "duration": 79,
    "start_time": "2023-01-11T07:14:21.252Z"
   },
   {
    "duration": 9,
    "start_time": "2023-01-11T07:14:21.333Z"
   },
   {
    "duration": 10,
    "start_time": "2023-01-11T07:14:21.343Z"
   },
   {
    "duration": 681,
    "start_time": "2023-01-11T07:14:21.355Z"
   },
   {
    "duration": 20,
    "start_time": "2023-01-11T07:14:22.038Z"
   },
   {
    "duration": 12,
    "start_time": "2023-01-11T07:14:22.059Z"
   },
   {
    "duration": 6,
    "start_time": "2023-01-11T07:14:22.073Z"
   },
   {
    "duration": 11,
    "start_time": "2023-01-11T07:14:22.099Z"
   },
   {
    "duration": 10,
    "start_time": "2023-01-11T07:14:22.112Z"
   },
   {
    "duration": 592,
    "start_time": "2023-01-11T07:14:22.124Z"
   },
   {
    "duration": 3,
    "start_time": "2023-01-11T07:14:22.718Z"
   },
   {
    "duration": 360,
    "start_time": "2023-01-11T07:14:22.724Z"
   },
   {
    "duration": 32,
    "start_time": "2023-01-11T07:14:23.086Z"
   },
   {
    "duration": 326,
    "start_time": "2023-01-11T07:14:23.120Z"
   },
   {
    "duration": 159,
    "start_time": "2023-01-11T07:14:23.447Z"
   },
   {
    "duration": 3,
    "start_time": "2023-01-11T07:14:23.611Z"
   },
   {
    "duration": 18,
    "start_time": "2023-01-11T07:14:23.616Z"
   },
   {
    "duration": 6888,
    "start_time": "2023-01-11T07:14:23.636Z"
   },
   {
    "duration": 120,
    "start_time": "2023-01-11T07:14:30.526Z"
   },
   {
    "duration": 0,
    "start_time": "2023-01-11T07:14:30.647Z"
   },
   {
    "duration": 0,
    "start_time": "2023-01-11T07:14:30.649Z"
   },
   {
    "duration": 0,
    "start_time": "2023-01-11T07:14:30.650Z"
   },
   {
    "duration": 0,
    "start_time": "2023-01-11T07:14:30.651Z"
   },
   {
    "duration": 0,
    "start_time": "2023-01-11T07:14:30.652Z"
   },
   {
    "duration": 0,
    "start_time": "2023-01-11T07:14:30.653Z"
   },
   {
    "duration": 0,
    "start_time": "2023-01-11T07:14:30.654Z"
   },
   {
    "duration": 0,
    "start_time": "2023-01-11T07:14:30.656Z"
   },
   {
    "duration": 0,
    "start_time": "2023-01-11T07:14:30.656Z"
   },
   {
    "duration": 0,
    "start_time": "2023-01-11T07:14:30.658Z"
   },
   {
    "duration": 0,
    "start_time": "2023-01-11T07:14:30.658Z"
   },
   {
    "duration": 0,
    "start_time": "2023-01-11T07:14:30.660Z"
   },
   {
    "duration": 4512,
    "start_time": "2023-01-11T07:17:32.689Z"
   },
   {
    "duration": 2421,
    "start_time": "2023-01-11T07:18:41.838Z"
   },
   {
    "duration": 11,
    "start_time": "2023-01-11T07:19:32.867Z"
   },
   {
    "duration": 2064,
    "start_time": "2023-01-11T07:31:02.777Z"
   },
   {
    "duration": 1314,
    "start_time": "2023-01-11T07:31:04.843Z"
   },
   {
    "duration": 222,
    "start_time": "2023-01-11T07:31:06.159Z"
   },
   {
    "duration": 43,
    "start_time": "2023-01-11T07:31:06.383Z"
   },
   {
    "duration": 178,
    "start_time": "2023-01-11T07:31:06.428Z"
   },
   {
    "duration": 48585,
    "start_time": "2023-01-11T07:31:06.608Z"
   },
   {
    "duration": 76,
    "start_time": "2023-01-11T07:31:55.197Z"
   },
   {
    "duration": 143,
    "start_time": "2023-01-11T07:31:55.274Z"
   },
   {
    "duration": 7483,
    "start_time": "2023-01-11T07:31:55.419Z"
   },
   {
    "duration": 20,
    "start_time": "2023-01-11T07:32:02.904Z"
   },
   {
    "duration": 4,
    "start_time": "2023-01-11T07:32:02.926Z"
   },
   {
    "duration": 187,
    "start_time": "2023-01-11T07:32:02.931Z"
   },
   {
    "duration": 43,
    "start_time": "2023-01-11T07:32:03.119Z"
   },
   {
    "duration": 10,
    "start_time": "2023-01-11T07:32:03.164Z"
   },
   {
    "duration": 13,
    "start_time": "2023-01-11T07:32:03.197Z"
   },
   {
    "duration": 566,
    "start_time": "2023-01-11T07:32:03.212Z"
   },
   {
    "duration": 27,
    "start_time": "2023-01-11T07:32:03.780Z"
   },
   {
    "duration": 12,
    "start_time": "2023-01-11T07:32:03.808Z"
   },
   {
    "duration": 4,
    "start_time": "2023-01-11T07:32:03.821Z"
   },
   {
    "duration": 15,
    "start_time": "2023-01-11T07:32:03.827Z"
   },
   {
    "duration": 8,
    "start_time": "2023-01-11T07:32:03.844Z"
   },
   {
    "duration": 558,
    "start_time": "2023-01-11T07:32:03.853Z"
   },
   {
    "duration": 3,
    "start_time": "2023-01-11T07:32:04.413Z"
   },
   {
    "duration": 315,
    "start_time": "2023-01-11T07:32:04.417Z"
   },
   {
    "duration": 9,
    "start_time": "2023-01-11T07:32:04.733Z"
   },
   {
    "duration": 334,
    "start_time": "2023-01-11T07:32:04.743Z"
   },
   {
    "duration": 140,
    "start_time": "2023-01-11T07:32:05.079Z"
   },
   {
    "duration": 2,
    "start_time": "2023-01-11T07:32:05.222Z"
   },
   {
    "duration": 26,
    "start_time": "2023-01-11T07:32:05.226Z"
   },
   {
    "duration": 6465,
    "start_time": "2023-01-11T07:32:05.254Z"
   },
   {
    "duration": 1507738,
    "start_time": "2023-01-11T07:32:11.721Z"
   },
   {
    "duration": 170852,
    "start_time": "2023-01-11T07:57:19.461Z"
   },
   {
    "duration": 119,
    "start_time": "2023-01-11T08:00:10.315Z"
   },
   {
    "duration": 0,
    "start_time": "2023-01-11T08:00:10.435Z"
   },
   {
    "duration": 0,
    "start_time": "2023-01-11T08:00:10.436Z"
   },
   {
    "duration": 0,
    "start_time": "2023-01-11T08:00:10.437Z"
   },
   {
    "duration": 0,
    "start_time": "2023-01-11T08:00:10.439Z"
   },
   {
    "duration": 0,
    "start_time": "2023-01-11T08:00:10.440Z"
   },
   {
    "duration": 0,
    "start_time": "2023-01-11T08:00:10.441Z"
   },
   {
    "duration": 0,
    "start_time": "2023-01-11T08:00:10.442Z"
   },
   {
    "duration": 0,
    "start_time": "2023-01-11T08:00:10.444Z"
   },
   {
    "duration": 0,
    "start_time": "2023-01-11T08:00:10.445Z"
   },
   {
    "duration": 0,
    "start_time": "2023-01-11T08:00:10.446Z"
   },
   {
    "duration": 446590,
    "start_time": "2023-01-11T08:14:06.183Z"
   },
   {
    "duration": 2161,
    "start_time": "2023-01-11T08:56:18.173Z"
   },
   {
    "duration": 1275,
    "start_time": "2023-01-11T08:56:20.336Z"
   },
   {
    "duration": 230,
    "start_time": "2023-01-11T08:56:21.613Z"
   },
   {
    "duration": 74,
    "start_time": "2023-01-11T08:56:21.846Z"
   },
   {
    "duration": 122,
    "start_time": "2023-01-11T08:56:21.922Z"
   },
   {
    "duration": 84735,
    "start_time": "2023-01-11T08:56:22.046Z"
   },
   {
    "duration": 99,
    "start_time": "2023-01-11T08:57:46.782Z"
   },
   {
    "duration": 150,
    "start_time": "2023-01-11T08:57:46.897Z"
   },
   {
    "duration": 8302,
    "start_time": "2023-01-11T08:57:47.048Z"
   },
   {
    "duration": 24,
    "start_time": "2023-01-11T08:57:55.353Z"
   },
   {
    "duration": 3,
    "start_time": "2023-01-11T08:57:55.379Z"
   },
   {
    "duration": 171,
    "start_time": "2023-01-11T08:57:55.384Z"
   },
   {
    "duration": 97,
    "start_time": "2023-01-11T08:57:55.556Z"
   },
   {
    "duration": 16,
    "start_time": "2023-01-11T08:57:55.655Z"
   },
   {
    "duration": 33,
    "start_time": "2023-01-11T08:57:55.673Z"
   },
   {
    "duration": 794,
    "start_time": "2023-01-11T08:57:55.708Z"
   },
   {
    "duration": 27,
    "start_time": "2023-01-11T08:57:56.504Z"
   },
   {
    "duration": 16,
    "start_time": "2023-01-11T08:57:56.533Z"
   },
   {
    "duration": 4,
    "start_time": "2023-01-11T08:57:56.551Z"
   },
   {
    "duration": 13,
    "start_time": "2023-01-11T08:57:56.557Z"
   },
   {
    "duration": 35,
    "start_time": "2023-01-11T08:57:56.572Z"
   },
   {
    "duration": 597,
    "start_time": "2023-01-11T08:57:56.609Z"
   },
   {
    "duration": 5,
    "start_time": "2023-01-11T08:57:57.207Z"
   },
   {
    "duration": 343,
    "start_time": "2023-01-11T08:57:57.214Z"
   },
   {
    "duration": 12,
    "start_time": "2023-01-11T08:57:57.559Z"
   },
   {
    "duration": 400,
    "start_time": "2023-01-11T08:57:57.573Z"
   },
   {
    "duration": 202,
    "start_time": "2023-01-11T08:57:57.975Z"
   },
   {
    "duration": 3,
    "start_time": "2023-01-11T08:57:58.181Z"
   },
   {
    "duration": 24,
    "start_time": "2023-01-11T08:57:58.196Z"
   },
   {
    "duration": 8811,
    "start_time": "2023-01-11T08:57:58.222Z"
   },
   {
    "duration": 127,
    "start_time": "2023-01-11T08:58:07.035Z"
   },
   {
    "duration": 0,
    "start_time": "2023-01-11T08:58:07.164Z"
   },
   {
    "duration": 0,
    "start_time": "2023-01-11T08:58:07.166Z"
   },
   {
    "duration": 0,
    "start_time": "2023-01-11T08:58:07.168Z"
   },
   {
    "duration": 0,
    "start_time": "2023-01-11T08:58:07.170Z"
   },
   {
    "duration": 0,
    "start_time": "2023-01-11T08:58:07.171Z"
   },
   {
    "duration": 0,
    "start_time": "2023-01-11T08:58:07.173Z"
   },
   {
    "duration": 0,
    "start_time": "2023-01-11T08:58:07.198Z"
   },
   {
    "duration": 0,
    "start_time": "2023-01-11T08:58:07.200Z"
   },
   {
    "duration": 0,
    "start_time": "2023-01-11T08:58:07.201Z"
   },
   {
    "duration": 0,
    "start_time": "2023-01-11T08:58:07.204Z"
   },
   {
    "duration": 0,
    "start_time": "2023-01-11T08:58:07.205Z"
   },
   {
    "duration": 0,
    "start_time": "2023-01-11T08:58:07.207Z"
   },
   {
    "duration": 0,
    "start_time": "2023-01-11T08:58:07.208Z"
   },
   {
    "duration": 2057,
    "start_time": "2023-01-11T09:03:20.161Z"
   },
   {
    "duration": 1316,
    "start_time": "2023-01-11T09:03:22.221Z"
   },
   {
    "duration": 219,
    "start_time": "2023-01-11T09:03:23.539Z"
   },
   {
    "duration": 54,
    "start_time": "2023-01-11T09:03:23.760Z"
   },
   {
    "duration": 189,
    "start_time": "2023-01-11T09:03:23.816Z"
   },
   {
    "duration": 46190,
    "start_time": "2023-01-11T09:03:24.007Z"
   },
   {
    "duration": 69,
    "start_time": "2023-01-11T09:04:10.199Z"
   },
   {
    "duration": 137,
    "start_time": "2023-01-11T09:04:10.270Z"
   },
   {
    "duration": 7269,
    "start_time": "2023-01-11T09:04:10.409Z"
   },
   {
    "duration": 22,
    "start_time": "2023-01-11T09:04:17.682Z"
   },
   {
    "duration": 9,
    "start_time": "2023-01-11T09:04:17.706Z"
   },
   {
    "duration": 195,
    "start_time": "2023-01-11T09:04:17.717Z"
   },
   {
    "duration": 66,
    "start_time": "2023-01-11T09:04:17.914Z"
   },
   {
    "duration": 26,
    "start_time": "2023-01-11T09:04:17.982Z"
   },
   {
    "duration": 12,
    "start_time": "2023-01-11T09:04:18.010Z"
   },
   {
    "duration": 532,
    "start_time": "2023-01-11T09:04:18.023Z"
   },
   {
    "duration": 19,
    "start_time": "2023-01-11T09:04:18.556Z"
   },
   {
    "duration": 23,
    "start_time": "2023-01-11T09:04:18.577Z"
   },
   {
    "duration": 3,
    "start_time": "2023-01-11T09:04:18.602Z"
   },
   {
    "duration": 50,
    "start_time": "2023-01-11T09:04:18.606Z"
   },
   {
    "duration": 13,
    "start_time": "2023-01-11T09:04:18.658Z"
   },
   {
    "duration": 583,
    "start_time": "2023-01-11T09:04:18.673Z"
   },
   {
    "duration": 3,
    "start_time": "2023-01-11T09:04:19.258Z"
   },
   {
    "duration": 328,
    "start_time": "2023-01-11T09:04:19.262Z"
   },
   {
    "duration": 8,
    "start_time": "2023-01-11T09:04:19.598Z"
   },
   {
    "duration": 285,
    "start_time": "2023-01-11T09:04:19.608Z"
   },
   {
    "duration": 171,
    "start_time": "2023-01-11T09:04:19.897Z"
   },
   {
    "duration": 3,
    "start_time": "2023-01-11T09:04:20.072Z"
   },
   {
    "duration": 22,
    "start_time": "2023-01-11T09:04:20.077Z"
   },
   {
    "duration": 6410,
    "start_time": "2023-01-11T09:04:20.100Z"
   },
   {
    "duration": 114,
    "start_time": "2023-01-11T09:04:26.511Z"
   },
   {
    "duration": 0,
    "start_time": "2023-01-11T09:04:26.626Z"
   },
   {
    "duration": 0,
    "start_time": "2023-01-11T09:04:26.627Z"
   },
   {
    "duration": 0,
    "start_time": "2023-01-11T09:04:26.629Z"
   },
   {
    "duration": 0,
    "start_time": "2023-01-11T09:04:26.630Z"
   },
   {
    "duration": 0,
    "start_time": "2023-01-11T09:04:26.631Z"
   },
   {
    "duration": 0,
    "start_time": "2023-01-11T09:04:26.631Z"
   },
   {
    "duration": 0,
    "start_time": "2023-01-11T09:04:26.632Z"
   },
   {
    "duration": 0,
    "start_time": "2023-01-11T09:04:26.633Z"
   },
   {
    "duration": 0,
    "start_time": "2023-01-11T09:04:26.634Z"
   },
   {
    "duration": 0,
    "start_time": "2023-01-11T09:04:26.635Z"
   },
   {
    "duration": 0,
    "start_time": "2023-01-11T09:04:26.636Z"
   },
   {
    "duration": 0,
    "start_time": "2023-01-11T09:04:26.637Z"
   },
   {
    "duration": 0,
    "start_time": "2023-01-11T09:04:26.638Z"
   },
   {
    "duration": 2125,
    "start_time": "2023-01-11T09:23:48.273Z"
   },
   {
    "duration": 1362,
    "start_time": "2023-01-11T09:23:50.400Z"
   },
   {
    "duration": 259,
    "start_time": "2023-01-11T09:23:51.764Z"
   },
   {
    "duration": 54,
    "start_time": "2023-01-11T09:23:52.026Z"
   },
   {
    "duration": 180,
    "start_time": "2023-01-11T09:23:52.082Z"
   },
   {
    "duration": 48928,
    "start_time": "2023-01-11T09:23:52.264Z"
   },
   {
    "duration": 76,
    "start_time": "2023-01-11T09:24:41.197Z"
   },
   {
    "duration": 148,
    "start_time": "2023-01-11T09:24:41.275Z"
   },
   {
    "duration": 7717,
    "start_time": "2023-01-11T09:24:41.425Z"
   },
   {
    "duration": 24,
    "start_time": "2023-01-11T09:24:49.146Z"
   },
   {
    "duration": 6,
    "start_time": "2023-01-11T09:24:49.176Z"
   },
   {
    "duration": 189,
    "start_time": "2023-01-11T09:24:49.184Z"
   },
   {
    "duration": 46,
    "start_time": "2023-01-11T09:24:49.397Z"
   },
   {
    "duration": 11,
    "start_time": "2023-01-11T09:24:49.445Z"
   },
   {
    "duration": 10,
    "start_time": "2023-01-11T09:24:49.458Z"
   },
   {
    "duration": 610,
    "start_time": "2023-01-11T09:24:49.470Z"
   },
   {
    "duration": 31,
    "start_time": "2023-01-11T09:24:50.082Z"
   },
   {
    "duration": 15,
    "start_time": "2023-01-11T09:24:50.115Z"
   },
   {
    "duration": 4,
    "start_time": "2023-01-11T09:24:50.133Z"
   },
   {
    "duration": 21,
    "start_time": "2023-01-11T09:24:50.139Z"
   },
   {
    "duration": 8,
    "start_time": "2023-01-11T09:24:50.161Z"
   },
   {
    "duration": 606,
    "start_time": "2023-01-11T09:24:50.171Z"
   },
   {
    "duration": 3,
    "start_time": "2023-01-11T09:24:50.779Z"
   },
   {
    "duration": 367,
    "start_time": "2023-01-11T09:24:50.783Z"
   },
   {
    "duration": 9,
    "start_time": "2023-01-11T09:24:51.152Z"
   },
   {
    "duration": 275,
    "start_time": "2023-01-11T09:24:51.163Z"
   },
   {
    "duration": 148,
    "start_time": "2023-01-11T09:24:51.440Z"
   },
   {
    "duration": 6,
    "start_time": "2023-01-11T09:24:51.591Z"
   },
   {
    "duration": 28,
    "start_time": "2023-01-11T09:24:51.598Z"
   },
   {
    "duration": 6852,
    "start_time": "2023-01-11T09:24:51.628Z"
   },
   {
    "duration": 135,
    "start_time": "2023-01-11T09:24:58.482Z"
   },
   {
    "duration": 0,
    "start_time": "2023-01-11T09:24:58.619Z"
   },
   {
    "duration": 0,
    "start_time": "2023-01-11T09:24:58.620Z"
   },
   {
    "duration": 0,
    "start_time": "2023-01-11T09:24:58.621Z"
   },
   {
    "duration": 0,
    "start_time": "2023-01-11T09:24:58.622Z"
   },
   {
    "duration": 0,
    "start_time": "2023-01-11T09:24:58.623Z"
   },
   {
    "duration": 0,
    "start_time": "2023-01-11T09:24:58.623Z"
   },
   {
    "duration": 0,
    "start_time": "2023-01-11T09:24:58.625Z"
   },
   {
    "duration": 0,
    "start_time": "2023-01-11T09:24:58.625Z"
   },
   {
    "duration": 0,
    "start_time": "2023-01-11T09:24:58.627Z"
   },
   {
    "duration": 0,
    "start_time": "2023-01-11T09:24:58.628Z"
   },
   {
    "duration": 0,
    "start_time": "2023-01-11T09:24:58.629Z"
   },
   {
    "duration": 0,
    "start_time": "2023-01-11T09:24:58.630Z"
   },
   {
    "duration": 0,
    "start_time": "2023-01-11T09:24:58.631Z"
   },
   {
    "duration": 86,
    "start_time": "2023-01-11T09:28:57.393Z"
   },
   {
    "duration": 434,
    "start_time": "2023-01-11T09:29:10.878Z"
   },
   {
    "duration": 87,
    "start_time": "2023-01-11T09:29:16.253Z"
   },
   {
    "duration": 4,
    "start_time": "2023-01-11T09:29:23.086Z"
   },
   {
    "duration": 4,
    "start_time": "2023-01-11T09:29:30.642Z"
   },
   {
    "duration": 91,
    "start_time": "2023-01-11T09:31:16.867Z"
   },
   {
    "duration": 91,
    "start_time": "2023-01-11T09:31:34.045Z"
   },
   {
    "duration": 446,
    "start_time": "2023-01-11T09:31:59.571Z"
   },
   {
    "duration": 90,
    "start_time": "2023-01-11T09:32:17.189Z"
   },
   {
    "duration": 5,
    "start_time": "2023-01-11T09:39:02.763Z"
   },
   {
    "duration": 93,
    "start_time": "2023-01-11T09:43:46.859Z"
   },
   {
    "duration": 91,
    "start_time": "2023-01-11T09:44:15.450Z"
   },
   {
    "duration": 5,
    "start_time": "2023-01-11T09:44:24.580Z"
   },
   {
    "duration": 4,
    "start_time": "2023-01-11T09:44:27.774Z"
   },
   {
    "duration": 93,
    "start_time": "2023-01-11T09:44:36.417Z"
   },
   {
    "duration": 5,
    "start_time": "2023-01-11T09:44:40.095Z"
   },
   {
    "duration": 2,
    "start_time": "2023-01-11T09:44:48.295Z"
   },
   {
    "duration": 4,
    "start_time": "2023-01-11T09:45:14.498Z"
   },
   {
    "duration": 4,
    "start_time": "2023-01-11T09:45:22.895Z"
   },
   {
    "duration": 7,
    "start_time": "2023-01-11T09:45:23.753Z"
   },
   {
    "duration": 1096,
    "start_time": "2023-01-11T09:45:34.875Z"
   },
   {
    "duration": 3,
    "start_time": "2023-01-11T09:46:13.456Z"
   },
   {
    "duration": 17,
    "start_time": "2023-01-11T09:46:13.659Z"
   },
   {
    "duration": 2,
    "start_time": "2023-01-11T09:46:18.653Z"
   },
   {
    "duration": 13,
    "start_time": "2023-01-11T09:46:19.592Z"
   },
   {
    "duration": 3,
    "start_time": "2023-01-11T09:46:24.081Z"
   },
   {
    "duration": 16,
    "start_time": "2023-01-11T09:46:25.164Z"
   },
   {
    "duration": 3,
    "start_time": "2023-01-11T09:47:02.152Z"
   },
   {
    "duration": 12,
    "start_time": "2023-01-11T09:47:02.947Z"
   },
   {
    "duration": 6326,
    "start_time": "2023-01-11T09:47:12.744Z"
   },
   {
    "duration": 13,
    "start_time": "2023-01-11T09:53:48.719Z"
   },
   {
    "duration": 3,
    "start_time": "2023-01-11T09:53:51.891Z"
   },
   {
    "duration": 6341,
    "start_time": "2023-01-11T09:53:52.558Z"
   },
   {
    "duration": 2098,
    "start_time": "2023-01-11T09:54:19.811Z"
   },
   {
    "duration": 1439,
    "start_time": "2023-01-11T09:54:21.911Z"
   },
   {
    "duration": 231,
    "start_time": "2023-01-11T09:54:23.352Z"
   },
   {
    "duration": 43,
    "start_time": "2023-01-11T09:54:25.760Z"
   },
   {
    "duration": 180,
    "start_time": "2023-01-11T09:54:27.594Z"
   },
   {
    "duration": 47495,
    "start_time": "2023-01-11T09:54:31.010Z"
   },
   {
    "duration": 72,
    "start_time": "2023-01-11T09:55:18.507Z"
   },
   {
    "duration": 123,
    "start_time": "2023-01-11T09:55:18.596Z"
   },
   {
    "duration": 7649,
    "start_time": "2023-01-11T09:55:18.721Z"
   },
   {
    "duration": 23,
    "start_time": "2023-01-11T09:55:26.372Z"
   },
   {
    "duration": 4,
    "start_time": "2023-01-11T09:55:26.397Z"
   },
   {
    "duration": 197,
    "start_time": "2023-01-11T09:55:26.402Z"
   },
   {
    "duration": 43,
    "start_time": "2023-01-11T09:55:26.601Z"
   },
   {
    "duration": 10,
    "start_time": "2023-01-11T09:55:26.645Z"
   },
   {
    "duration": 41,
    "start_time": "2023-01-11T09:55:26.657Z"
   },
   {
    "duration": 540,
    "start_time": "2023-01-11T09:55:26.699Z"
   },
   {
    "duration": 6,
    "start_time": "2023-01-11T09:55:27.240Z"
   },
   {
    "duration": 555,
    "start_time": "2023-01-11T09:55:41.695Z"
   },
   {
    "duration": 21,
    "start_time": "2023-01-11T09:55:43.011Z"
   },
   {
    "duration": 5,
    "start_time": "2023-01-11T09:55:45.457Z"
   },
   {
    "duration": 7,
    "start_time": "2023-01-11T09:55:56.863Z"
   },
   {
    "duration": 13,
    "start_time": "2023-01-11T09:55:59.851Z"
   },
   {
    "duration": 6,
    "start_time": "2023-01-11T09:56:00.699Z"
   },
   {
    "duration": 4,
    "start_time": "2023-01-11T09:56:05.391Z"
   },
   {
    "duration": 8,
    "start_time": "2023-01-11T09:56:07.152Z"
   },
   {
    "duration": 6,
    "start_time": "2023-01-11T09:56:08.692Z"
   },
   {
    "duration": 638,
    "start_time": "2023-01-11T09:56:09.808Z"
   },
   {
    "duration": 10,
    "start_time": "2023-01-11T09:56:18.443Z"
   },
   {
    "duration": 643,
    "start_time": "2023-01-11T09:56:19.301Z"
   },
   {
    "duration": 3,
    "start_time": "2023-01-11T09:56:22.192Z"
   },
   {
    "duration": 327,
    "start_time": "2023-01-11T09:56:22.399Z"
   },
   {
    "duration": 8,
    "start_time": "2023-01-11T09:56:27.274Z"
   },
   {
    "duration": 264,
    "start_time": "2023-01-11T09:56:35.510Z"
   },
   {
    "duration": 153,
    "start_time": "2023-01-11T09:56:55.580Z"
   },
   {
    "duration": 2,
    "start_time": "2023-01-11T09:56:59.744Z"
   },
   {
    "duration": 6531,
    "start_time": "2023-01-11T09:57:00.296Z"
   },
   {
    "duration": 3,
    "start_time": "2023-01-11T09:57:41.802Z"
   },
   {
    "duration": 7,
    "start_time": "2023-01-11T09:57:42.963Z"
   },
   {
    "duration": 4,
    "start_time": "2023-01-11T09:57:43.989Z"
   },
   {
    "duration": 124,
    "start_time": "2023-01-11T09:57:45.762Z"
   },
   {
    "duration": 2975,
    "start_time": "2023-01-11T09:57:56.246Z"
   },
   {
    "duration": 3947,
    "start_time": "2023-01-11T09:58:09.151Z"
   },
   {
    "duration": 393,
    "start_time": "2023-01-11T09:58:23.219Z"
   },
   {
    "duration": 4,
    "start_time": "2023-01-11T09:58:27.706Z"
   },
   {
    "duration": 8,
    "start_time": "2023-01-11T09:58:28.542Z"
   },
   {
    "duration": 4,
    "start_time": "2023-01-11T09:58:28.960Z"
   },
   {
    "duration": 1113,
    "start_time": "2023-01-11T09:58:29.807Z"
   },
   {
    "duration": 119,
    "start_time": "2023-01-11T09:58:54.813Z"
   },
   {
    "duration": 1070,
    "start_time": "2023-01-11T09:58:57.672Z"
   },
   {
    "duration": 13,
    "start_time": "2023-01-11T10:09:39.619Z"
   },
   {
    "duration": 38,
    "start_time": "2023-01-11T10:09:47.908Z"
   },
   {
    "duration": 4,
    "start_time": "2023-01-11T10:09:55.074Z"
   },
   {
    "duration": 67,
    "start_time": "2023-01-11T10:09:59.494Z"
   },
   {
    "duration": 1192,
    "start_time": "2023-01-11T10:10:02.179Z"
   },
   {
    "duration": 58,
    "start_time": "2023-01-11T10:10:35.496Z"
   },
   {
    "duration": 1017,
    "start_time": "2023-01-11T10:10:36.608Z"
   },
   {
    "duration": 9190,
    "start_time": "2023-01-11T10:11:06.453Z"
   },
   {
    "duration": 1127,
    "start_time": "2023-01-11T10:11:15.696Z"
   },
   {
    "duration": 13,
    "start_time": "2023-01-11T10:12:17.505Z"
   },
   {
    "duration": 6972,
    "start_time": "2023-01-11T10:14:48.355Z"
   },
   {
    "duration": 1091,
    "start_time": "2023-01-11T10:14:55.328Z"
   },
   {
    "duration": 7036,
    "start_time": "2023-01-11T10:44:46.847Z"
   },
   {
    "duration": 66,
    "start_time": "2023-01-11T10:50:42.851Z"
   },
   {
    "duration": 2186,
    "start_time": "2023-01-11T10:50:56.882Z"
   },
   {
    "duration": 1410,
    "start_time": "2023-01-11T10:50:59.071Z"
   },
   {
    "duration": 248,
    "start_time": "2023-01-11T10:51:00.483Z"
   },
   {
    "duration": 44,
    "start_time": "2023-01-11T10:51:00.733Z"
   },
   {
    "duration": 207,
    "start_time": "2023-01-11T10:51:00.779Z"
   },
   {
    "duration": 50307,
    "start_time": "2023-01-11T10:51:00.988Z"
   },
   {
    "duration": 81,
    "start_time": "2023-01-11T10:51:51.299Z"
   },
   {
    "duration": 154,
    "start_time": "2023-01-11T10:51:51.381Z"
   },
   {
    "duration": 8017,
    "start_time": "2023-01-11T10:51:51.537Z"
   },
   {
    "duration": 24,
    "start_time": "2023-01-11T10:51:59.557Z"
   },
   {
    "duration": 6,
    "start_time": "2023-01-11T10:51:59.583Z"
   },
   {
    "duration": 181,
    "start_time": "2023-01-11T10:51:59.591Z"
   },
   {
    "duration": 51,
    "start_time": "2023-01-11T10:51:59.798Z"
   },
   {
    "duration": 10,
    "start_time": "2023-01-11T10:51:59.851Z"
   },
   {
    "duration": 12,
    "start_time": "2023-01-11T10:51:59.862Z"
   },
   {
    "duration": 623,
    "start_time": "2023-01-11T10:51:59.875Z"
   },
   {
    "duration": 30,
    "start_time": "2023-01-11T10:52:00.500Z"
   },
   {
    "duration": 35,
    "start_time": "2023-01-11T10:52:00.532Z"
   },
   {
    "duration": 52,
    "start_time": "2023-01-11T10:52:00.569Z"
   },
   {
    "duration": 56,
    "start_time": "2023-01-11T10:52:00.622Z"
   },
   {
    "duration": 35,
    "start_time": "2023-01-11T10:52:00.679Z"
   },
   {
    "duration": 621,
    "start_time": "2023-01-11T10:52:00.715Z"
   },
   {
    "duration": 3,
    "start_time": "2023-01-11T10:52:01.337Z"
   },
   {
    "duration": 343,
    "start_time": "2023-01-11T10:52:01.342Z"
   },
   {
    "duration": 294,
    "start_time": "2023-01-11T10:52:01.686Z"
   },
   {
    "duration": 165,
    "start_time": "2023-01-11T10:52:01.982Z"
   },
   {
    "duration": 3,
    "start_time": "2023-01-11T10:52:02.148Z"
   },
   {
    "duration": 32,
    "start_time": "2023-01-11T10:52:02.154Z"
   },
   {
    "duration": 6682,
    "start_time": "2023-01-11T10:52:02.187Z"
   },
   {
    "duration": 119,
    "start_time": "2023-01-11T10:52:08.871Z"
   },
   {
    "duration": 0,
    "start_time": "2023-01-11T10:52:08.991Z"
   },
   {
    "duration": 0,
    "start_time": "2023-01-11T10:52:08.993Z"
   },
   {
    "duration": 0,
    "start_time": "2023-01-11T10:52:08.998Z"
   },
   {
    "duration": 0,
    "start_time": "2023-01-11T10:52:08.999Z"
   },
   {
    "duration": 0,
    "start_time": "2023-01-11T10:52:09.001Z"
   },
   {
    "duration": 0,
    "start_time": "2023-01-11T10:52:09.002Z"
   },
   {
    "duration": 0,
    "start_time": "2023-01-11T10:52:09.003Z"
   },
   {
    "duration": 0,
    "start_time": "2023-01-11T10:52:09.005Z"
   },
   {
    "duration": 0,
    "start_time": "2023-01-11T10:52:09.006Z"
   },
   {
    "duration": 0,
    "start_time": "2023-01-11T10:52:09.007Z"
   },
   {
    "duration": 0,
    "start_time": "2023-01-11T10:52:09.008Z"
   },
   {
    "duration": 0,
    "start_time": "2023-01-11T10:52:09.010Z"
   },
   {
    "duration": 2298,
    "start_time": "2023-01-11T10:59:14.029Z"
   },
   {
    "duration": 1329,
    "start_time": "2023-01-11T10:59:16.329Z"
   },
   {
    "duration": 235,
    "start_time": "2023-01-11T10:59:17.660Z"
   },
   {
    "duration": 60,
    "start_time": "2023-01-11T10:59:17.898Z"
   },
   {
    "duration": 187,
    "start_time": "2023-01-11T10:59:17.960Z"
   },
   {
    "duration": 49170,
    "start_time": "2023-01-11T10:59:18.148Z"
   },
   {
    "duration": 89,
    "start_time": "2023-01-11T11:00:07.319Z"
   },
   {
    "duration": 137,
    "start_time": "2023-01-11T11:00:07.410Z"
   },
   {
    "duration": 8081,
    "start_time": "2023-01-11T11:00:07.549Z"
   },
   {
    "duration": 22,
    "start_time": "2023-01-11T11:00:15.633Z"
   },
   {
    "duration": 13,
    "start_time": "2023-01-11T11:00:15.657Z"
   },
   {
    "duration": 169,
    "start_time": "2023-01-11T11:00:15.672Z"
   },
   {
    "duration": 59,
    "start_time": "2023-01-11T11:00:15.842Z"
   },
   {
    "duration": 12,
    "start_time": "2023-01-11T11:00:15.907Z"
   },
   {
    "duration": 17,
    "start_time": "2023-01-11T11:00:15.921Z"
   },
   {
    "duration": 600,
    "start_time": "2023-01-11T11:00:15.939Z"
   },
   {
    "duration": 19,
    "start_time": "2023-01-11T11:00:16.541Z"
   },
   {
    "duration": 12,
    "start_time": "2023-01-11T11:00:16.561Z"
   },
   {
    "duration": 3,
    "start_time": "2023-01-11T11:00:16.574Z"
   },
   {
    "duration": 11,
    "start_time": "2023-01-11T11:00:16.597Z"
   },
   {
    "duration": 14,
    "start_time": "2023-01-11T11:00:16.610Z"
   },
   {
    "duration": 556,
    "start_time": "2023-01-11T11:00:16.625Z"
   },
   {
    "duration": 15,
    "start_time": "2023-01-11T11:00:17.184Z"
   },
   {
    "duration": 371,
    "start_time": "2023-01-11T11:00:17.201Z"
   },
   {
    "duration": 294,
    "start_time": "2023-01-11T11:00:17.573Z"
   },
   {
    "duration": 178,
    "start_time": "2023-01-11T11:00:17.869Z"
   },
   {
    "duration": 3,
    "start_time": "2023-01-11T11:00:18.048Z"
   },
   {
    "duration": 9,
    "start_time": "2023-01-11T11:00:18.055Z"
   },
   {
    "duration": 7243,
    "start_time": "2023-01-11T11:00:18.066Z"
   },
   {
    "duration": 112,
    "start_time": "2023-01-11T11:00:25.313Z"
   },
   {
    "duration": 0,
    "start_time": "2023-01-11T11:00:25.426Z"
   },
   {
    "duration": 0,
    "start_time": "2023-01-11T11:00:25.427Z"
   },
   {
    "duration": 0,
    "start_time": "2023-01-11T11:00:25.428Z"
   },
   {
    "duration": 0,
    "start_time": "2023-01-11T11:00:25.429Z"
   },
   {
    "duration": 0,
    "start_time": "2023-01-11T11:00:25.430Z"
   },
   {
    "duration": 0,
    "start_time": "2023-01-11T11:00:25.431Z"
   },
   {
    "duration": 0,
    "start_time": "2023-01-11T11:00:25.432Z"
   },
   {
    "duration": 0,
    "start_time": "2023-01-11T11:00:25.433Z"
   },
   {
    "duration": 0,
    "start_time": "2023-01-11T11:00:25.434Z"
   },
   {
    "duration": 0,
    "start_time": "2023-01-11T11:00:25.435Z"
   },
   {
    "duration": 0,
    "start_time": "2023-01-11T11:00:25.436Z"
   },
   {
    "duration": 0,
    "start_time": "2023-01-11T11:00:25.437Z"
   },
   {
    "duration": 2194,
    "start_time": "2023-01-11T11:01:16.458Z"
   },
   {
    "duration": 1326,
    "start_time": "2023-01-11T11:01:18.654Z"
   },
   {
    "duration": 252,
    "start_time": "2023-01-11T11:01:19.982Z"
   },
   {
    "duration": 46,
    "start_time": "2023-01-11T11:01:20.236Z"
   },
   {
    "duration": 119,
    "start_time": "2023-01-11T11:01:20.283Z"
   },
   {
    "duration": 86476,
    "start_time": "2023-01-11T11:01:20.405Z"
   },
   {
    "duration": 123,
    "start_time": "2023-01-11T11:02:46.884Z"
   },
   {
    "duration": 149,
    "start_time": "2023-01-11T11:02:47.009Z"
   },
   {
    "duration": 8550,
    "start_time": "2023-01-11T11:02:47.160Z"
   },
   {
    "duration": 25,
    "start_time": "2023-01-11T11:02:55.715Z"
   },
   {
    "duration": 7,
    "start_time": "2023-01-11T11:02:55.741Z"
   },
   {
    "duration": 194,
    "start_time": "2023-01-11T11:02:55.750Z"
   },
   {
    "duration": 95,
    "start_time": "2023-01-11T11:02:55.946Z"
   },
   {
    "duration": 12,
    "start_time": "2023-01-11T11:02:56.042Z"
   },
   {
    "duration": 12,
    "start_time": "2023-01-11T11:02:56.055Z"
   },
   {
    "duration": 819,
    "start_time": "2023-01-11T11:02:56.069Z"
   },
   {
    "duration": 36,
    "start_time": "2023-01-11T11:02:56.889Z"
   },
   {
    "duration": 17,
    "start_time": "2023-01-11T11:02:56.927Z"
   },
   {
    "duration": 22,
    "start_time": "2023-01-11T11:02:56.946Z"
   },
   {
    "duration": 31,
    "start_time": "2023-01-11T11:02:56.969Z"
   },
   {
    "duration": 48,
    "start_time": "2023-01-11T11:02:57.002Z"
   },
   {
    "duration": 617,
    "start_time": "2023-01-11T11:02:57.051Z"
   },
   {
    "duration": 3,
    "start_time": "2023-01-11T11:02:57.670Z"
   },
   {
    "duration": 380,
    "start_time": "2023-01-11T11:02:57.675Z"
   },
   {
    "duration": 422,
    "start_time": "2023-01-11T11:02:58.057Z"
   },
   {
    "duration": 224,
    "start_time": "2023-01-11T11:02:58.481Z"
   },
   {
    "duration": 6,
    "start_time": "2023-01-11T11:02:58.708Z"
   },
   {
    "duration": 9,
    "start_time": "2023-01-11T11:02:58.717Z"
   },
   {
    "duration": 8941,
    "start_time": "2023-01-11T11:02:58.727Z"
   },
   {
    "duration": 119,
    "start_time": "2023-01-11T11:03:07.669Z"
   },
   {
    "duration": 0,
    "start_time": "2023-01-11T11:03:07.789Z"
   },
   {
    "duration": 0,
    "start_time": "2023-01-11T11:03:07.790Z"
   },
   {
    "duration": 0,
    "start_time": "2023-01-11T11:03:07.797Z"
   },
   {
    "duration": 0,
    "start_time": "2023-01-11T11:03:07.798Z"
   },
   {
    "duration": 0,
    "start_time": "2023-01-11T11:03:07.800Z"
   },
   {
    "duration": 0,
    "start_time": "2023-01-11T11:03:07.801Z"
   },
   {
    "duration": 0,
    "start_time": "2023-01-11T11:03:07.803Z"
   },
   {
    "duration": 1,
    "start_time": "2023-01-11T11:03:07.804Z"
   },
   {
    "duration": 0,
    "start_time": "2023-01-11T11:03:07.806Z"
   },
   {
    "duration": 0,
    "start_time": "2023-01-11T11:03:07.807Z"
   },
   {
    "duration": 0,
    "start_time": "2023-01-11T11:03:07.808Z"
   },
   {
    "duration": 0,
    "start_time": "2023-01-11T11:03:07.810Z"
   },
   {
    "duration": 2277,
    "start_time": "2023-01-11T11:08:40.284Z"
   },
   {
    "duration": 1375,
    "start_time": "2023-01-11T11:08:42.563Z"
   },
   {
    "duration": 230,
    "start_time": "2023-01-11T11:08:43.939Z"
   },
   {
    "duration": 61,
    "start_time": "2023-01-11T11:08:44.171Z"
   },
   {
    "duration": 112,
    "start_time": "2023-01-11T11:08:44.233Z"
   },
   {
    "duration": 88964,
    "start_time": "2023-01-11T11:08:44.346Z"
   },
   {
    "duration": 111,
    "start_time": "2023-01-11T11:10:13.312Z"
   },
   {
    "duration": 152,
    "start_time": "2023-01-11T11:10:13.425Z"
   },
   {
    "duration": 8751,
    "start_time": "2023-01-11T11:10:13.579Z"
   },
   {
    "duration": 25,
    "start_time": "2023-01-11T11:10:22.333Z"
   },
   {
    "duration": 6,
    "start_time": "2023-01-11T11:10:22.361Z"
   },
   {
    "duration": 197,
    "start_time": "2023-01-11T11:10:22.368Z"
   },
   {
    "duration": 84,
    "start_time": "2023-01-11T11:10:22.566Z"
   },
   {
    "duration": 12,
    "start_time": "2023-01-11T11:10:22.652Z"
   },
   {
    "duration": 27,
    "start_time": "2023-01-11T11:10:22.665Z"
   },
   {
    "duration": 815,
    "start_time": "2023-01-11T11:10:22.698Z"
   },
   {
    "duration": 31,
    "start_time": "2023-01-11T11:10:23.515Z"
   },
   {
    "duration": 16,
    "start_time": "2023-01-11T11:10:23.547Z"
   },
   {
    "duration": 4,
    "start_time": "2023-01-11T11:10:23.565Z"
   },
   {
    "duration": 33,
    "start_time": "2023-01-11T11:10:23.570Z"
   },
   {
    "duration": 26,
    "start_time": "2023-01-11T11:10:23.605Z"
   },
   {
    "duration": 557,
    "start_time": "2023-01-11T11:10:23.632Z"
   },
   {
    "duration": 8,
    "start_time": "2023-01-11T11:10:24.191Z"
   },
   {
    "duration": 375,
    "start_time": "2023-01-11T11:10:24.201Z"
   },
   {
    "duration": 443,
    "start_time": "2023-01-11T11:10:24.578Z"
   },
   {
    "duration": 218,
    "start_time": "2023-01-11T11:10:25.022Z"
   },
   {
    "duration": 3,
    "start_time": "2023-01-11T11:10:25.242Z"
   },
   {
    "duration": 11,
    "start_time": "2023-01-11T11:10:25.248Z"
   },
   {
    "duration": 8784,
    "start_time": "2023-01-11T11:10:25.260Z"
   },
   {
    "duration": 115,
    "start_time": "2023-01-11T11:10:34.045Z"
   },
   {
    "duration": 0,
    "start_time": "2023-01-11T11:10:34.162Z"
   },
   {
    "duration": 0,
    "start_time": "2023-01-11T11:10:34.163Z"
   },
   {
    "duration": 0,
    "start_time": "2023-01-11T11:10:34.164Z"
   },
   {
    "duration": 0,
    "start_time": "2023-01-11T11:10:34.165Z"
   },
   {
    "duration": 0,
    "start_time": "2023-01-11T11:10:34.167Z"
   },
   {
    "duration": 0,
    "start_time": "2023-01-11T11:10:34.168Z"
   },
   {
    "duration": 0,
    "start_time": "2023-01-11T11:10:34.169Z"
   },
   {
    "duration": 0,
    "start_time": "2023-01-11T11:10:34.170Z"
   },
   {
    "duration": 0,
    "start_time": "2023-01-11T11:10:34.171Z"
   },
   {
    "duration": 0,
    "start_time": "2023-01-11T11:10:34.172Z"
   },
   {
    "duration": 0,
    "start_time": "2023-01-11T11:10:34.173Z"
   },
   {
    "duration": 0,
    "start_time": "2023-01-11T11:10:34.173Z"
   },
   {
    "duration": 3,
    "start_time": "2023-01-11T11:13:08.254Z"
   },
   {
    "duration": 3,
    "start_time": "2023-01-11T11:13:12.769Z"
   },
   {
    "duration": 7,
    "start_time": "2023-01-11T11:13:13.420Z"
   },
   {
    "duration": 12932,
    "start_time": "2023-01-11T11:13:13.941Z"
   },
   {
    "duration": 1518,
    "start_time": "2023-01-11T11:13:26.875Z"
   },
   {
    "duration": 2321,
    "start_time": "2023-01-11T11:14:39.443Z"
   },
   {
    "duration": 1393,
    "start_time": "2023-01-11T11:14:41.766Z"
   },
   {
    "duration": 234,
    "start_time": "2023-01-11T11:14:43.161Z"
   },
   {
    "duration": 51,
    "start_time": "2023-01-11T11:14:43.397Z"
   },
   {
    "duration": 119,
    "start_time": "2023-01-11T11:14:43.450Z"
   },
   {
    "duration": 88585,
    "start_time": "2023-01-11T11:14:43.571Z"
   },
   {
    "duration": 111,
    "start_time": "2023-01-11T11:16:12.158Z"
   },
   {
    "duration": 163,
    "start_time": "2023-01-11T11:16:12.271Z"
   },
   {
    "duration": 8830,
    "start_time": "2023-01-11T11:16:12.436Z"
   },
   {
    "duration": 25,
    "start_time": "2023-01-11T11:16:21.269Z"
   },
   {
    "duration": 5,
    "start_time": "2023-01-11T11:16:21.295Z"
   },
   {
    "duration": 167,
    "start_time": "2023-01-11T11:16:21.302Z"
   },
   {
    "duration": 94,
    "start_time": "2023-01-11T11:16:21.470Z"
   },
   {
    "duration": 11,
    "start_time": "2023-01-11T11:16:21.565Z"
   },
   {
    "duration": 31,
    "start_time": "2023-01-11T11:16:21.578Z"
   },
   {
    "duration": 857,
    "start_time": "2023-01-11T11:16:21.611Z"
   },
   {
    "duration": 40,
    "start_time": "2023-01-11T11:16:22.470Z"
   },
   {
    "duration": 15,
    "start_time": "2023-01-11T11:16:22.512Z"
   },
   {
    "duration": 12,
    "start_time": "2023-01-11T11:16:22.529Z"
   },
   {
    "duration": 36,
    "start_time": "2023-01-11T11:16:22.542Z"
   },
   {
    "duration": 10,
    "start_time": "2023-01-11T11:16:22.580Z"
   },
   {
    "duration": 577,
    "start_time": "2023-01-11T11:16:22.591Z"
   },
   {
    "duration": 3,
    "start_time": "2023-01-11T11:16:23.170Z"
   },
   {
    "duration": 372,
    "start_time": "2023-01-11T11:16:23.175Z"
   },
   {
    "duration": 421,
    "start_time": "2023-01-11T11:16:23.548Z"
   },
   {
    "duration": 217,
    "start_time": "2023-01-11T11:16:23.970Z"
   },
   {
    "duration": 2,
    "start_time": "2023-01-11T11:16:24.189Z"
   },
   {
    "duration": 35,
    "start_time": "2023-01-11T11:16:24.196Z"
   },
   {
    "duration": 8974,
    "start_time": "2023-01-11T11:16:24.233Z"
   },
   {
    "duration": 121,
    "start_time": "2023-01-11T11:16:33.210Z"
   },
   {
    "duration": 0,
    "start_time": "2023-01-11T11:16:33.332Z"
   },
   {
    "duration": 0,
    "start_time": "2023-01-11T11:16:33.333Z"
   },
   {
    "duration": 0,
    "start_time": "2023-01-11T11:16:33.334Z"
   },
   {
    "duration": 0,
    "start_time": "2023-01-11T11:16:33.335Z"
   },
   {
    "duration": 0,
    "start_time": "2023-01-11T11:16:33.336Z"
   },
   {
    "duration": 0,
    "start_time": "2023-01-11T11:16:33.337Z"
   },
   {
    "duration": 0,
    "start_time": "2023-01-11T11:16:33.338Z"
   },
   {
    "duration": 0,
    "start_time": "2023-01-11T11:16:33.339Z"
   },
   {
    "duration": 0,
    "start_time": "2023-01-11T11:16:33.340Z"
   },
   {
    "duration": 0,
    "start_time": "2023-01-11T11:16:33.341Z"
   },
   {
    "duration": 0,
    "start_time": "2023-01-11T11:16:33.342Z"
   },
   {
    "duration": 0,
    "start_time": "2023-01-11T11:16:33.343Z"
   },
   {
    "duration": 0,
    "start_time": "2023-01-11T11:16:33.344Z"
   },
   {
    "duration": 1955621,
    "start_time": "2023-01-11T11:17:14.111Z"
   },
   {
    "duration": 868619,
    "start_time": "2023-01-11T11:49:49.735Z"
   },
   {
    "duration": 9,
    "start_time": "2023-01-11T12:04:18.355Z"
   },
   {
    "duration": 2,
    "start_time": "2023-01-11T12:04:47.766Z"
   },
   {
    "duration": 4,
    "start_time": "2023-01-11T12:04:48.915Z"
   },
   {
    "duration": 7,
    "start_time": "2023-01-11T12:04:50.646Z"
   },
   {
    "duration": 12103,
    "start_time": "2023-01-11T12:04:51.263Z"
   },
   {
    "duration": 4198,
    "start_time": "2023-01-11T12:05:23.701Z"
   },
   {
    "duration": 1544,
    "start_time": "2023-01-11T12:05:27.902Z"
   },
   {
    "duration": 570,
    "start_time": "2023-01-11T12:22:05.546Z"
   },
   {
    "duration": 4451,
    "start_time": "2023-01-11T12:22:29.857Z"
   },
   {
    "duration": 8684,
    "start_time": "2023-01-11T12:24:15.080Z"
   },
   {
    "duration": 8540,
    "start_time": "2023-01-11T12:24:30.971Z"
   },
   {
    "duration": 8662,
    "start_time": "2023-01-11T12:25:00.275Z"
   },
   {
    "duration": 4147,
    "start_time": "2023-01-11T12:28:54.454Z"
   },
   {
    "duration": 172,
    "start_time": "2023-01-11T12:29:04.625Z"
   },
   {
    "duration": 1639,
    "start_time": "2023-01-11T12:29:13.914Z"
   },
   {
    "duration": 156,
    "start_time": "2023-01-11T12:29:30.760Z"
   },
   {
    "duration": 12,
    "start_time": "2023-01-11T12:29:56.753Z"
   },
   {
    "duration": 2333,
    "start_time": "2023-01-11T12:30:02.080Z"
   },
   {
    "duration": 1504,
    "start_time": "2023-01-11T12:30:04.416Z"
   },
   {
    "duration": 287,
    "start_time": "2023-01-11T12:30:05.922Z"
   },
   {
    "duration": 88,
    "start_time": "2023-01-11T12:30:06.216Z"
   },
   {
    "duration": 162,
    "start_time": "2023-01-11T12:30:06.310Z"
   },
   {
    "duration": 87388,
    "start_time": "2023-01-11T12:30:06.474Z"
   },
   {
    "duration": 134,
    "start_time": "2023-01-11T12:31:33.864Z"
   },
   {
    "duration": 149,
    "start_time": "2023-01-11T12:31:34.000Z"
   },
   {
    "duration": 8644,
    "start_time": "2023-01-11T12:31:34.150Z"
   },
   {
    "duration": 45,
    "start_time": "2023-01-11T12:31:42.798Z"
   },
   {
    "duration": 6,
    "start_time": "2023-01-11T12:31:42.845Z"
   },
   {
    "duration": 204,
    "start_time": "2023-01-11T12:31:42.852Z"
   },
   {
    "duration": 89,
    "start_time": "2023-01-11T12:31:43.057Z"
   },
   {
    "duration": 13,
    "start_time": "2023-01-11T12:31:43.148Z"
   },
   {
    "duration": 18,
    "start_time": "2023-01-11T12:31:43.163Z"
   },
   {
    "duration": 888,
    "start_time": "2023-01-11T12:31:43.183Z"
   },
   {
    "duration": 44,
    "start_time": "2023-01-11T12:31:44.072Z"
   },
   {
    "duration": 22,
    "start_time": "2023-01-11T12:31:44.118Z"
   },
   {
    "duration": 5,
    "start_time": "2023-01-11T12:31:44.143Z"
   },
   {
    "duration": 25,
    "start_time": "2023-01-11T12:31:44.150Z"
   },
   {
    "duration": 12,
    "start_time": "2023-01-11T12:31:44.178Z"
   },
   {
    "duration": 695,
    "start_time": "2023-01-11T12:31:44.193Z"
   },
   {
    "duration": 17,
    "start_time": "2023-01-11T12:31:44.890Z"
   },
   {
    "duration": 427,
    "start_time": "2023-01-11T12:31:44.908Z"
   },
   {
    "duration": 398,
    "start_time": "2023-01-11T12:31:45.337Z"
   },
   {
    "duration": 257,
    "start_time": "2023-01-11T12:31:45.737Z"
   },
   {
    "duration": 11,
    "start_time": "2023-01-11T12:31:45.996Z"
   },
   {
    "duration": 20,
    "start_time": "2023-01-11T12:31:46.011Z"
   },
   {
    "duration": 8712,
    "start_time": "2023-01-11T12:31:46.033Z"
   },
   {
    "duration": 117,
    "start_time": "2023-01-11T12:31:54.746Z"
   },
   {
    "duration": 0,
    "start_time": "2023-01-11T12:31:54.865Z"
   },
   {
    "duration": 0,
    "start_time": "2023-01-11T12:31:54.866Z"
   },
   {
    "duration": 0,
    "start_time": "2023-01-11T12:31:54.866Z"
   },
   {
    "duration": 0,
    "start_time": "2023-01-11T12:31:54.868Z"
   },
   {
    "duration": 0,
    "start_time": "2023-01-11T12:31:54.869Z"
   },
   {
    "duration": 0,
    "start_time": "2023-01-11T12:31:54.870Z"
   },
   {
    "duration": 0,
    "start_time": "2023-01-11T12:31:54.871Z"
   },
   {
    "duration": 0,
    "start_time": "2023-01-11T12:31:54.872Z"
   },
   {
    "duration": 0,
    "start_time": "2023-01-11T12:31:54.873Z"
   },
   {
    "duration": 0,
    "start_time": "2023-01-11T12:31:54.901Z"
   },
   {
    "duration": 0,
    "start_time": "2023-01-11T12:31:54.901Z"
   },
   {
    "duration": 0,
    "start_time": "2023-01-11T12:31:54.902Z"
   },
   {
    "duration": 3931,
    "start_time": "2023-01-11T12:32:07.969Z"
   },
   {
    "duration": 3,
    "start_time": "2023-01-11T12:32:11.912Z"
   },
   {
    "duration": 8,
    "start_time": "2023-01-11T12:32:11.916Z"
   },
   {
    "duration": 9,
    "start_time": "2023-01-11T12:32:11.926Z"
   },
   {
    "duration": 3778,
    "start_time": "2023-01-11T12:32:11.937Z"
   },
   {
    "duration": 1597,
    "start_time": "2023-01-11T12:32:15.721Z"
   },
   {
    "duration": 152,
    "start_time": "2023-01-11T12:32:17.320Z"
   },
   {
    "duration": 44,
    "start_time": "2023-01-11T12:32:26.413Z"
   },
   {
    "duration": 26,
    "start_time": "2023-01-11T12:32:26.850Z"
   },
   {
    "duration": 1413,
    "start_time": "2023-02-18T11:47:40.360Z"
   },
   {
    "duration": 0,
    "start_time": "2023-02-18T11:47:41.775Z"
   },
   {
    "duration": 2997,
    "start_time": "2023-02-18T11:47:46.332Z"
   },
   {
    "duration": 303,
    "start_time": "2023-02-18T11:47:49.332Z"
   },
   {
    "duration": 795,
    "start_time": "2023-02-18T11:47:49.637Z"
   },
   {
    "duration": 61,
    "start_time": "2023-02-18T11:47:55.295Z"
   },
   {
    "duration": 30,
    "start_time": "2023-02-18T11:48:01.931Z"
   },
   {
    "duration": 6,
    "start_time": "2023-02-18T11:48:12.569Z"
   }
  ],
  "kernelspec": {
   "display_name": "Python 3",
   "language": "python",
   "name": "python3"
  },
  "language_info": {
   "codemirror_mode": {
    "name": "ipython",
    "version": 3
   },
   "file_extension": ".py",
   "mimetype": "text/x-python",
   "name": "python",
   "nbconvert_exporter": "python",
   "pygments_lexer": "ipython3",
   "version": "3.8.8"
  },
  "toc": {
   "base_numbering": 1,
   "nav_menu": {},
   "number_sections": true,
   "sideBar": true,
   "skip_h1_title": true,
   "title_cell": "Table of Contents",
   "title_sidebar": "Contents",
   "toc_cell": false,
   "toc_position": {
    "height": "calc(100% - 180px)",
    "left": "10px",
    "top": "150px",
    "width": "165px"
   },
   "toc_section_display": true,
   "toc_window_display": true
  }
 },
 "nbformat": 4,
 "nbformat_minor": 2
}
